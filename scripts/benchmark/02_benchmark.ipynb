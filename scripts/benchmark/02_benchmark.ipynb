{
 "cells": [
  {
   "cell_type": "markdown",
   "id": "a35b280a-bcfc-4783-a50e-ea9c7b451188",
   "metadata": {},
   "source": [
    "# Systematic comparison of GRNs"
   ]
  },
  {
   "cell_type": "markdown",
   "id": "80c3786c-c9a8-4f46-8832-c2c1aa840340",
   "metadata": {},
   "source": [
    "## Libraries"
   ]
  },
  {
   "cell_type": "code",
   "execution_count": 1,
   "id": "c3ff99f3-5920-4c4c-a6bf-14c5ec5c7ee0",
   "metadata": {},
   "outputs": [
    {
     "name": "stderr",
     "output_type": "stream",
     "text": [
      "OMP: Info #276: omp_set_nested routine deprecated, please use omp_set_max_active_levels instead.\n"
     ]
    }
   ],
   "source": [
    "import pandas as pd\n",
    "import numpy as np\n",
    "\n",
    "import decoupler as dc\n",
    "import matplotlib.pyplot as plt"
   ]
  },
  {
   "cell_type": "code",
   "execution_count": 2,
   "id": "69878375-b2f9-401c-9273-cbd2c6de0dc2",
   "metadata": {},
   "outputs": [
    {
     "name": "stdout",
     "output_type": "stream",
     "text": [
      "1.2.0\n"
     ]
    }
   ],
   "source": [
    "print(dc.__version__)"
   ]
  },
  {
   "cell_type": "markdown",
   "id": "83b5b667-52a4-4287-932b-99ce2c355e3b",
   "metadata": {},
   "source": [
    "## Benchmark data"
   ]
  },
  {
   "cell_type": "markdown",
   "id": "f088d3ba-a8fb-4524-9d3f-9bf48c3278ea",
   "metadata": {},
   "source": [
    "### Load knockTF benchmark data "
   ]
  },
  {
   "cell_type": "code",
   "execution_count": 3,
   "id": "c6fec412-c505-4e48-9d81-9bb0e6f12d61",
   "metadata": {},
   "outputs": [
    {
     "name": "stdout",
     "output_type": "stream",
     "text": [
      "--2023-05-23 16:01:04--  https://zenodo.org/record/7035528/files/knockTF_expr.csv?download=1\n",
      "Resolving zenodo.org (zenodo.org)... 188.185.124.72\n",
      "Connecting to zenodo.org (zenodo.org)|188.185.124.72|:443... connected.\n",
      "HTTP request sent, awaiting response... 200 OK\n",
      "Length: 146086808 (139M) [text/plain]\n",
      "Saving to: ‘../../data/knockTF_expr.csv’\n",
      "\n",
      "../../data/knockTF_ 100%[===================>] 139,32M  6,26MB/s    in 20s     \n",
      "\n",
      "2023-05-23 16:01:25 (7,09 MB/s) - ‘../../data/knockTF_expr.csv’ saved [146086808/146086808]\n",
      "\n",
      "--2023-05-23 16:01:25--  https://zenodo.org/record/7035528/files/knockTF_meta.csv?download=1\n",
      "Resolving zenodo.org (zenodo.org)... 188.185.124.72\n",
      "Connecting to zenodo.org (zenodo.org)|188.185.124.72|:443... connected.\n",
      "HTTP request sent, awaiting response... 200 OK\n",
      "Length: 144861 (141K) [text/plain]\n",
      "Saving to: ‘../../data/knockTF_meta.csv’\n",
      "\n",
      "../../data/knockTF_ 100%[===================>] 141,47K  --.-KB/s    in 0,02s   \n",
      "\n",
      "2023-05-23 16:01:26 (6,10 MB/s) - ‘../../data/knockTF_meta.csv’ saved [144861/144861]\n",
      "\n"
     ]
    }
   ],
   "source": [
    "!wget 'https://zenodo.org/record/7035528/files/knockTF_expr.csv?download=1' -O '../../data/knockTF_expr.csv'\n",
    "!wget 'https://zenodo.org/record/7035528/files/knockTF_meta.csv?download=1' -O '../../data/knockTF_meta.csv'"
   ]
  },
  {
   "cell_type": "code",
   "execution_count": 3,
   "id": "a5146554-d8ea-42ce-88c6-dcdc92f60ff8",
   "metadata": {},
   "outputs": [],
   "source": [
    "mat = pd.read_csv('../../data/knockTF_expr.csv', index_col=0)\n",
    "obs = pd.read_csv('../../data/knockTF_meta.csv', index_col=0)"
   ]
  },
  {
   "cell_type": "markdown",
   "id": "f430924e-5de6-4c1a-ab1f-b007819baf82",
   "metadata": {},
   "source": [
    "### Filter knockTF benchmark data \n",
    "Filtering is based on log fold-change of perturbed transcription factors"
   ]
  },
  {
   "cell_type": "code",
   "execution_count": 4,
   "id": "8f40e67b-b84c-4326-bd8b-b1514dc6356b",
   "metadata": {},
   "outputs": [
    {
     "data": {
      "text/plain": [
       "((388, 21985), (388, 13), (234,))"
      ]
     },
     "execution_count": 4,
     "metadata": {},
     "output_type": "execute_result"
    }
   ],
   "source": [
    "msk = obs['logFC'] < -1\n",
    "mat = mat[msk]\n",
    "obs = obs[msk]\n",
    "mat.shape, obs.shape, pd.unique(obs['TF'].values).shape"
   ]
  },
  {
   "cell_type": "markdown",
   "id": "9f99e8d7-001d-488c-8ffa-b1c2610fe84d",
   "metadata": {},
   "source": [
    "## GRNs "
   ]
  },
  {
   "cell_type": "markdown",
   "id": "37566faa-4f5f-4928-8686-22265262b13e",
   "metadata": {},
   "source": [
    "### Load GRNs"
   ]
  },
  {
   "cell_type": "code",
   "execution_count": 5,
   "id": "82c01008-6929-40f7-b45f-39ba70295cf8",
   "metadata": {},
   "outputs": [],
   "source": [
    "doro_ABC = pd.read_csv('../../data/networks/filtered_dorothea_ABC.csv')\n",
    "doro_ABCD = pd.read_csv('../../data/networks/filtered_dorothea_ABCD.csv')\n",
    "regnet = pd.read_csv('../../data/networks/filtered_regnetwork.csv')\n",
    "pathComp = pd.read_csv('../../data/networks/filtered_pathwayCommons.csv')\n",
    "chea3 = pd.read_csv('../../data/networks/filtered_chea3.csv')\n",
    "collecTRI = pd.read_csv('../../output/CollecTRI/CollecTRI_GRN.csv')\n",
    "collecTRI_rand = dc.shuffle_net(collecTRI, target='target', weight='weight').drop_duplicates(['source', 'target'])"
   ]
  },
  {
   "cell_type": "code",
   "execution_count": 6,
   "id": "1b97d7c6-6f9b-4776-9230-9c0f7fc6737a",
   "metadata": {},
   "outputs": [],
   "source": [
    "chea3_archs4 = chea3[chea3['confidence'] == 'ARCHS4_Coexpression']\n",
    "chea3_encode = chea3[chea3['confidence'] == 'ENCODE_ChIP-seq']\n",
    "chea3_enrich = chea3[chea3['confidence'] == 'Enrichr_Queries']\n",
    "chea3_GTEx = chea3[chea3['confidence'] == 'GTEx_Coexpression']\n",
    "chea3_lit = chea3[chea3['confidence'] == 'Literature_ChIP-seq']\n",
    "chea3_remap = chea3[chea3['confidence'] == 'ReMap_ChIP-seq']"
   ]
  },
  {
   "cell_type": "markdown",
   "id": "62686b8a-ed72-4196-a43d-722534e70bfe",
   "metadata": {},
   "source": [
    "### Overview final GRNs"
   ]
  },
  {
   "cell_type": "code",
   "execution_count": 7,
   "id": "1e1e9d2b-5282-47d6-b4ec-1c28e298aa49",
   "metadata": {},
   "outputs": [
    {
     "data": {
      "text/plain": [
       "(125, 171, 158, 121, 156, 46, 146, 155, 66, 101)"
      ]
     },
     "execution_count": 7,
     "metadata": {},
     "output_type": "execute_result"
    }
   ],
   "source": [
    "# Number of TFs included in each network\n",
    "n_doro = np.sum(np.isin(pd.unique(doro_ABC['source'].values), pd.unique(obs['TF'].values))) \n",
    "n_collectri = np.sum(np.isin(pd.unique(collecTRI['source'].values), pd.unique(obs['TF'].values)))\n",
    "n_regnet = np.sum(np.isin(pd.unique(regnet['source'].values), pd.unique(obs['TF'].values))) \n",
    "n_pathComp = np.sum(np.isin(pd.unique(pathComp['source'].values), pd.unique(obs['TF'].values)))\n",
    "n_cheaArch = np.sum(np.isin(pd.unique(chea3_archs4['source'].values), pd.unique(obs['TF'].values))) \n",
    "n_cheaEncode = np.sum(np.isin(pd.unique(chea3_encode['source'].values), pd.unique(obs['TF'].values)))\n",
    "n_cheaEnrich = np.sum(np.isin(pd.unique(chea3_enrich['source'].values), pd.unique(obs['TF'].values))) \n",
    "n_cheaGTEx = np.sum(np.isin(pd.unique(chea3_GTEx['source'].values), pd.unique(obs['TF'].values)))\n",
    "n_chealit = np.sum(np.isin(pd.unique(chea3_lit['source'].values), pd.unique(obs['TF'].values))) \n",
    "n_cheaRemap = np.sum(np.isin(pd.unique(chea3_remap['source'].values), pd.unique(obs['TF'].values)))\n",
    "n_doro, n_collectri, n_regnet, n_pathComp, n_cheaArch, n_cheaEncode, n_cheaEnrich, n_cheaGTEx, n_chealit, n_cheaRemap"
   ]
  },
  {
   "cell_type": "markdown",
   "id": "42e54642-cd6e-4d55-9101-7999061fd00e",
   "metadata": {},
   "source": [
    "## Run benchmark"
   ]
  },
  {
   "cell_type": "code",
   "execution_count": 8,
   "id": "d9d4b650-0e81-48a6-acb3-127d0fe9833d",
   "metadata": {},
   "outputs": [
    {
     "name": "stdout",
     "output_type": "stream",
     "text": [
      "Using ABC network...\n",
      "Extracting inputs...\n",
      "Formating net...\n",
      "174 experiments without sources in net, they will be removed.\n",
      "Running methods...\n",
      "55 features of mat are empty, they will be removed.\n",
      "Running ulm on mat with 214 samples and 21930 targets for 297 sources.\n",
      "Calculating metrics...\n",
      "Computing metrics...\n",
      "Done.\n",
      "Using ABCD network...\n",
      "Extracting inputs...\n",
      "Formating net...\n",
      "146 experiments without sources in net, they will be removed.\n",
      "Running methods...\n",
      "52 features of mat are empty, they will be removed.\n",
      "Running ulm on mat with 242 samples and 21933 targets for 411 sources.\n",
      "Calculating metrics...\n",
      "Computing metrics...\n",
      "Done.\n",
      "Using collecTRI network...\n",
      "Extracting inputs...\n",
      "Formating net...\n",
      "109 experiments without sources in net, they will be removed.\n",
      "Running methods...\n",
      "52 features of mat are empty, they will be removed.\n",
      "Running ulm on mat with 279 samples and 21933 targets for 766 sources.\n",
      "Calculating metrics...\n",
      "Computing metrics...\n",
      "Done.\n",
      "Using regnet network...\n",
      "Extracting inputs...\n",
      "Formating net...\n",
      "156 experiments without sources in net, they will be removed.\n",
      "Running methods...\n",
      "54 features of mat are empty, they will be removed.\n",
      "Running ulm on mat with 232 samples and 21931 targets for 638 sources.\n",
      "Calculating metrics...\n",
      "Computing metrics...\n",
      "Done.\n",
      "Using pathComp network...\n",
      "Extracting inputs...\n",
      "Formating net...\n",
      "205 experiments without sources in net, they will be removed.\n",
      "Running methods...\n",
      "76 features of mat are empty, they will be removed.\n",
      "Running ulm on mat with 183 samples and 21909 targets for 361 sources.\n",
      "Calculating metrics...\n",
      "Computing metrics...\n",
      "Done.\n",
      "Using chea3_archs4 network...\n",
      "Extracting inputs...\n",
      "Formating net...\n",
      "112 experiments without sources in net, they will be removed.\n",
      "Running methods...\n",
      "50 features of mat are empty, they will be removed.\n",
      "Running ulm on mat with 276 samples and 21935 targets for 1612 sources.\n",
      "Calculating metrics...\n",
      "Computing metrics...\n",
      "Done.\n",
      "Using chea3_encode network...\n",
      "Extracting inputs...\n",
      "Formating net...\n",
      "281 experiments without sources in net, they will be removed.\n",
      "Running methods...\n",
      "68 features of mat are empty, they will be removed.\n",
      "Running ulm on mat with 107 samples and 21917 targets for 133 sources.\n",
      "Calculating metrics...\n",
      "Computing metrics...\n",
      "Done.\n",
      "Using chea3_enrich network...\n",
      "Extracting inputs...\n",
      "Formating net...\n",
      "126 experiments without sources in net, they will be removed.\n",
      "Running methods...\n",
      "50 features of mat are empty, they will be removed.\n",
      "Running ulm on mat with 262 samples and 21935 targets for 1393 sources.\n",
      "Calculating metrics...\n",
      "Computing metrics...\n",
      "Done.\n",
      "Using chea3_GTEx network...\n",
      "Extracting inputs...\n",
      "Formating net...\n",
      "113 experiments without sources in net, they will be removed.\n",
      "Running methods...\n",
      "50 features of mat are empty, they will be removed.\n",
      "Running ulm on mat with 275 samples and 21935 targets for 1578 sources.\n",
      "Calculating metrics...\n",
      "Computing metrics...\n",
      "Done.\n",
      "Using chea3_lit network...\n",
      "Extracting inputs...\n",
      "Formating net...\n",
      "224 experiments without sources in net, they will be removed.\n",
      "Running methods...\n",
      "68 features of mat are empty, they will be removed.\n",
      "Running ulm on mat with 164 samples and 21917 targets for 166 sources.\n",
      "Calculating metrics...\n",
      "Computing metrics...\n",
      "Done.\n",
      "Using chea3_remap network...\n",
      "Extracting inputs...\n",
      "Formating net...\n",
      "187 experiments without sources in net, they will be removed.\n",
      "Running methods...\n",
      "55 features of mat are empty, they will be removed.\n",
      "Running ulm on mat with 201 samples and 21930 targets for 306 sources.\n",
      "Calculating metrics...\n",
      "Computing metrics...\n",
      "Done.\n",
      "Using rand network...\n",
      "Extracting inputs...\n",
      "Formating net...\n",
      "109 experiments without sources in net, they will be removed.\n",
      "Running methods...\n",
      "52 features of mat are empty, they will be removed.\n",
      "Running ulm on mat with 279 samples and 21933 targets for 763 sources.\n",
      "Calculating metrics...\n",
      "Computing metrics...\n",
      "Done.\n"
     ]
    }
   ],
   "source": [
    "# Build dictionary of networks to test\n",
    "nets = {\n",
    "    'ABC': doro_ABC,\n",
    "    'ABCD': doro_ABCD,\n",
    "    'collecTRI': collecTRI,\n",
    "    'regnet': regnet,\n",
    "    'pathComp': pathComp,\n",
    "    'chea3_archs4': chea3_archs4,\n",
    "    'chea3_encode': chea3_encode,\n",
    "    'chea3_enrich': chea3_enrich,\n",
    "    'chea3_GTEx': chea3_GTEx,\n",
    "    'chea3_lit': chea3_lit,\n",
    "    'chea3_remap': chea3_remap,\n",
    "    'rand': collecTRI_rand\n",
    "}\n",
    "\n",
    "# Example extra arguments\n",
    "decouple_kws = {\n",
    "    'ABC': {'methods': 'ulm'},\n",
    "    'ABCD': {'methods': 'ulm'},\n",
    "    'collecTRI': {'methods': 'ulm'},\n",
    "    'regnet': {'methods': 'ulm'},\n",
    "    'pathComp': {'methods': 'ulm'},\n",
    "    'chea3_archs4': {'methods': 'ulm'},\n",
    "    'chea3_encode': {'methods': 'ulm'},\n",
    "    'chea3_enrich': {'methods': 'ulm'},\n",
    "    'chea3_GTEx': {'methods': 'ulm'},\n",
    "    'chea3_lit': {'methods': 'ulm'},\n",
    "    'chea3_remap': {'methods': 'ulm'},\n",
    "    'rand': {'methods': 'ulm'}\n",
    "\n",
    "}\n",
    "\n",
    "# Run benchmark pipeline\n",
    "df = dc.benchmark(mat, obs, nets, perturb='TF', sign=-1, verbose=True, decouple_kws=decouple_kws)"
   ]
  },
  {
   "cell_type": "markdown",
   "id": "14345414-cafd-4a0c-8e3c-d422376544cf",
   "metadata": {},
   "source": [
    "### Save results"
   ]
  },
  {
   "cell_type": "code",
   "execution_count": 9,
   "id": "04f8cf50-ba12-45f4-a7e9-2c8eb5382447",
   "metadata": {},
   "outputs": [],
   "source": [
    "pd.DataFrame.to_csv(df, '../../output/benchmark/benchmark_res.csv')"
   ]
  },
  {
   "cell_type": "markdown",
   "id": "66144d70-ac68-4be3-9304-e526d872e0fa",
   "metadata": {},
   "source": [
    "## Run benchmark per source\n",
    "Only done for top three performing networks in the overall benchmark (Dorothea ABC, Regnetwork, CollecTRI)"
   ]
  },
  {
   "cell_type": "code",
   "execution_count": 10,
   "id": "e35fd957-f0d4-48e4-b181-b940173416fe",
   "metadata": {},
   "outputs": [
    {
     "name": "stdout",
     "output_type": "stream",
     "text": [
      "Using ABC network...\n",
      "Extracting inputs...\n",
      "Formating net...\n",
      "174 experiments without sources in net, they will be removed.\n",
      "Running methods...\n",
      "55 features of mat are empty, they will be removed.\n",
      "Running ulm on mat with 214 samples and 21930 targets for 297 sources.\n",
      "Calculating metrics...\n",
      "Computing metrics...\n",
      "Done.\n",
      "Using regnet network...\n",
      "Extracting inputs...\n",
      "Formating net...\n",
      "156 experiments without sources in net, they will be removed.\n",
      "Running methods...\n",
      "54 features of mat are empty, they will be removed.\n",
      "Running ulm on mat with 232 samples and 21931 targets for 638 sources.\n",
      "Calculating metrics...\n",
      "Computing metrics...\n",
      "Done.\n",
      "Using collecTRI network...\n",
      "Extracting inputs...\n",
      "Formating net...\n",
      "109 experiments without sources in net, they will be removed.\n",
      "Running methods...\n",
      "52 features of mat are empty, they will be removed.\n",
      "Running ulm on mat with 279 samples and 21933 targets for 766 sources.\n",
      "Calculating metrics...\n",
      "Computing metrics...\n",
      "Done.\n"
     ]
    }
   ],
   "source": [
    "nets = {\n",
    "    'ABC': doro_ABC,\n",
    "    'regnet': regnet,\n",
    "    'collecTRI': collecTRI\n",
    "}\n",
    "\n",
    "# Example extra arguments\n",
    "decouple_kws = {\n",
    "    'ABC': {'methods': 'ulm'},\n",
    "    'regnet': {'methods': 'ulm'},\n",
    "    'collecTRI': {'methods': 'ulm'}\n",
    "}\n",
    "\n",
    "# Run benchmark pipeline\n",
    "df_source = dc.benchmark(mat, obs, nets, perturb='TF', sign=-1, by='source', verbose=True, decouple_kws=decouple_kws)"
   ]
  },
  {
   "cell_type": "markdown",
   "id": "77f2fe1a-5303-426c-b136-9a7227a8b234",
   "metadata": {},
   "source": [
    "### Save results"
   ]
  },
  {
   "cell_type": "code",
   "execution_count": 11,
   "id": "484e460c-e654-4566-b216-9fee335e9be6",
   "metadata": {},
   "outputs": [],
   "source": [
    "pd.DataFrame.to_csv(df_source, '../../output/benchmark/benchmark_source_res.csv')"
   ]
  },
  {
   "cell_type": "markdown",
   "id": "bfe258e2-33e6-417f-afc0-538b4f0c3c57",
   "metadata": {},
   "source": [
    "## Run benchmark effect of sign in CollecTRI\n",
    "Evaluation of signing strategies"
   ]
  },
  {
   "cell_type": "code",
   "execution_count": 5,
   "id": "ab1d1c78-2e80-470b-8bbb-ca75de5a7475",
   "metadata": {},
   "outputs": [],
   "source": [
    "collecTRI_signed = pd.read_csv('../../output/CollecTRI/CollecTRI_GRN.csv')\n",
    "collecTRI_TFrole = pd.read_csv('../../output/signed_networks/CollecTRI_signed_TFrole.csv')\n",
    "collecTRI_PMID_TFrole = pd.read_csv('../../output/signed_networks/CollecTRI_signed_PMID_TFrole.csv')\n",
    "collecTRI_PMID_regulon_TFrole = pd.read_csv('../../output/signed_networks/CollecTRI_signed_PMID_regulon_TFrole.csv')"
   ]
  },
  {
   "cell_type": "code",
   "execution_count": 6,
   "id": "415144c3-6173-403d-a960-d475a9e8a126",
   "metadata": {},
   "outputs": [],
   "source": [
    "# collecTRI agnostic\n",
    "collecTRI_agnostic = collecTRI_signed.copy()\n",
    "collecTRI_agnostic['weight'] = 1\n",
    "\n",
    "# collecTRI_PMID\n",
    "collecTRI_PMID = collecTRI_signed.copy()\n",
    "collecTRI_PMID['weight'] = collecTRI_PMID['weight'].where(collecTRI_PMID['sign_decision'].isin(['PMID']), 1)\n",
    "\n",
    "# collecTRI_TF\n",
    "collecTRI_TF = collecTRI_TFrole.copy()\n",
    "collecTRI_TF['weight'] = collecTRI_TF['weight'].where(collecTRI_TF['sign.decision'].isin(['TF role']), 1)\n",
    "\n",
    "# collecTRI_PMID + collecTRI_TF\n",
    "collecTRI_PMID_TF = collecTRI_PMID_TFrole.copy()\n",
    "collecTRI_PMID_TF['weight'] = collecTRI_PMID_TF['weight'].where(collecTRI_PMID_TF['sign.decision'].isin(['PMID','TF role']), 1)\n",
    "\n",
    "# collecTRI_repression\n",
    "collecTRI_repression = collecTRI_signed.copy()\n",
    "collecTRI_repression['weight'] = collecTRI_repression['weight'].where(collecTRI_repression['sign_decision'] != \"default activation\", -1)"
   ]
  },
  {
   "cell_type": "code",
   "execution_count": 7,
   "id": "76cee52d-50c0-4370-8edf-d2d975522d2f",
   "metadata": {},
   "outputs": [
    {
     "name": "stdout",
     "output_type": "stream",
     "text": [
      "Using collecTRI network...\n",
      "Extracting inputs...\n",
      "Formating net...\n",
      "109 experiments without sources in net, they will be removed.\n",
      "Running methods...\n",
      "52 features of mat are empty, they will be removed.\n",
      "Running ulm on mat with 279 samples and 21933 targets for 766 sources.\n",
      "Calculating metrics...\n",
      "Computing metrics...\n",
      "Done.\n",
      "Using collecTRI_agnostic network...\n",
      "Extracting inputs...\n",
      "Formating net...\n",
      "109 experiments without sources in net, they will be removed.\n",
      "Running methods...\n",
      "52 features of mat are empty, they will be removed.\n",
      "Running ulm on mat with 279 samples and 21933 targets for 766 sources.\n",
      "Calculating metrics...\n",
      "Computing metrics...\n",
      "Done.\n",
      "Using collecTRI_PMID network...\n",
      "Extracting inputs...\n",
      "Formating net...\n",
      "109 experiments without sources in net, they will be removed.\n",
      "Running methods...\n",
      "52 features of mat are empty, they will be removed.\n",
      "Running ulm on mat with 279 samples and 21933 targets for 766 sources.\n",
      "Calculating metrics...\n",
      "Computing metrics...\n",
      "Done.\n",
      "Using collecTRI_TF network...\n",
      "Extracting inputs...\n",
      "Formating net...\n",
      "109 experiments without sources in net, they will be removed.\n",
      "Running methods...\n",
      "52 features of mat are empty, they will be removed.\n",
      "Running ulm on mat with 279 samples and 21933 targets for 766 sources.\n",
      "Calculating metrics...\n",
      "Computing metrics...\n",
      "Done.\n",
      "Using collecTRI_PMID_TF network...\n",
      "Extracting inputs...\n",
      "Formating net...\n",
      "109 experiments without sources in net, they will be removed.\n",
      "Running methods...\n",
      "52 features of mat are empty, they will be removed.\n",
      "Running ulm on mat with 279 samples and 21933 targets for 766 sources.\n",
      "Calculating metrics...\n",
      "Computing metrics...\n",
      "Done.\n",
      "Using collecTRI_PMID_regulon_TF network...\n",
      "Extracting inputs...\n",
      "Formating net...\n",
      "109 experiments without sources in net, they will be removed.\n",
      "Running methods...\n",
      "52 features of mat are empty, they will be removed.\n",
      "Running ulm on mat with 279 samples and 21933 targets for 766 sources.\n",
      "Calculating metrics...\n",
      "Computing metrics...\n",
      "Done.\n",
      "Using collecTRI_repression network...\n",
      "Extracting inputs...\n",
      "Formating net...\n",
      "109 experiments without sources in net, they will be removed.\n",
      "Running methods...\n",
      "52 features of mat are empty, they will be removed.\n",
      "Running ulm on mat with 279 samples and 21933 targets for 766 sources.\n",
      "Calculating metrics...\n",
      "Computing metrics...\n",
      "Done.\n"
     ]
    }
   ],
   "source": [
    "nets = {\n",
    "    'collecTRI': collecTRI_signed,\n",
    "    'collecTRI_agnostic': collecTRI_agnostic,\n",
    "    'collecTRI_PMID': collecTRI_PMID,\n",
    "    'collecTRI_TF': collecTRI_TF,\n",
    "    'collecTRI_PMID_TF': collecTRI_PMID_TF,\n",
    "    'collecTRI_PMID_regulon_TF': collecTRI_PMID_regulon_TFrole,\n",
    "    'collecTRI_repression': collecTRI_repression\n",
    "}\n",
    "\n",
    "# Example extra arguments\n",
    "decouple_kws = {\n",
    "    'collecTRI': {'methods': 'ulm'},\n",
    "    'collecTRI_agnostic': {'methods': 'ulm'},\n",
    "    'collecTRI_PMID': {'methods': 'ulm'},\n",
    "    'collecTRI_TF': {'methods': 'ulm'},\n",
    "    'collecTRI_PMID_TF': {'methods': 'ulm'},\n",
    "    'collecTRI_PMID_regulon_TF': {'methods': 'ulm'},\n",
    "    'collecTRI_repression': {'methods': 'ulm'}\n",
    "}\n",
    "\n",
    "# Run benchmark pipeline\n",
    "df_sign = dc.benchmark(mat, obs, nets, perturb='TF', sign=-1, verbose=True, decouple_kws=decouple_kws)"
   ]
  },
  {
   "cell_type": "markdown",
   "id": "ffa79acf-11af-4eb6-99ae-5956b66a920b",
   "metadata": {},
   "source": [
    "### Save results"
   ]
  },
  {
   "cell_type": "code",
   "execution_count": 8,
   "id": "69787312-1de1-491c-8437-4285daaf4ff8",
   "metadata": {},
   "outputs": [],
   "source": [
    "pd.DataFrame.to_csv(df_sign, '../../output/benchmark/benchmark_sign_res.csv')"
   ]
  }
 ],
 "metadata": {
  "kernelspec": {
   "display_name": "collectri",
   "language": "python",
   "name": "collectri"
  },
  "language_info": {
   "codemirror_mode": {
    "name": "ipython",
    "version": 3
   },
   "file_extension": ".py",
   "mimetype": "text/x-python",
   "name": "python",
   "nbconvert_exporter": "python",
   "pygments_lexer": "ipython3",
   "version": "3.10.10"
  }
 },
 "nbformat": 4,
 "nbformat_minor": 5
}
