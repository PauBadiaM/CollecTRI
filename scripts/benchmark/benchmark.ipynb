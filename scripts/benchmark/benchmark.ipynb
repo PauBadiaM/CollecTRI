{
 "cells": [
  {
   "cell_type": "markdown",
   "id": "a35b280a-bcfc-4783-a50e-ea9c7b451188",
   "metadata": {},
   "source": [
    "# Systematic comparison of GRNs"
   ]
  },
  {
   "cell_type": "markdown",
   "id": "80c3786c-c9a8-4f46-8832-c2c1aa840340",
   "metadata": {},
   "source": [
    "## Libraries"
   ]
  },
  {
   "cell_type": "code",
   "execution_count": 1,
   "id": "c3ff99f3-5920-4c4c-a6bf-14c5ec5c7ee0",
   "metadata": {},
   "outputs": [
    {
     "name": "stderr",
     "output_type": "stream",
     "text": [
      "OMP: Info #276: omp_set_nested routine deprecated, please use omp_set_max_active_levels instead.\n"
     ]
    }
   ],
   "source": [
    "import pandas as pd\n",
    "import numpy as np\n",
    "\n",
    "import decoupler as dc\n",
    "import matplotlib.pyplot as plt"
   ]
  },
  {
   "cell_type": "code",
   "execution_count": 2,
   "id": "69878375-b2f9-401c-9273-cbd2c6de0dc2",
   "metadata": {},
   "outputs": [
    {
     "name": "stdout",
     "output_type": "stream",
     "text": [
      "1.2.0\n"
     ]
    }
   ],
   "source": [
    "print(dc.__version__)"
   ]
  },
  {
   "cell_type": "markdown",
   "id": "83b5b667-52a4-4287-932b-99ce2c355e3b",
   "metadata": {},
   "source": [
    "## Benchmark data"
   ]
  },
  {
   "cell_type": "markdown",
   "id": "f088d3ba-a8fb-4524-9d3f-9bf48c3278ea",
   "metadata": {},
   "source": [
    "### Load knockTF benchmark data "
   ]
  },
  {
   "cell_type": "code",
   "execution_count": 3,
   "id": "c6fec412-c505-4e48-9d81-9bb0e6f12d61",
   "metadata": {},
   "outputs": [
    {
     "name": "stdout",
     "output_type": "stream",
     "text": [
      "--2023-03-18 11:37:05--  https://zenodo.org/record/7035528/files/knockTF_expr.csv?download=1\n",
      "Resolving zenodo.org (zenodo.org)... 188.185.124.72\n",
      "Connecting to zenodo.org (zenodo.org)|188.185.124.72|:443... connected.\n",
      "HTTP request sent, awaiting response... 200 OK\n",
      "Length: 146086808 (139M) [text/plain]\n",
      "Saving to: ‘../../data/knockTF_expr.csv’\n",
      "\n",
      "../../data/knockTF_ 100%[===================>] 139,32M  7,36MB/s    in 19s     \n",
      "\n",
      "2023-03-18 11:37:25 (7,22 MB/s) - ‘../../data/knockTF_expr.csv’ saved [146086808/146086808]\n",
      "\n",
      "--2023-03-18 11:37:25--  https://zenodo.org/record/7035528/files/knockTF_meta.csv?download=1\n",
      "Resolving zenodo.org (zenodo.org)... 188.185.124.72\n",
      "Connecting to zenodo.org (zenodo.org)|188.185.124.72|:443... connected.\n",
      "HTTP request sent, awaiting response... 200 OK\n",
      "Length: 144861 (141K) [text/plain]\n",
      "Saving to: ‘../../data/knockTF_meta.csv’\n",
      "\n",
      "../../data/knockTF_ 100%[===================>] 141,47K  --.-KB/s    in 0,03s   \n",
      "\n",
      "2023-03-18 11:37:26 (4,19 MB/s) - ‘../../data/knockTF_meta.csv’ saved [144861/144861]\n",
      "\n"
     ]
    }
   ],
   "source": [
    "!wget 'https://zenodo.org/record/7035528/files/knockTF_expr.csv?download=1' -O '../../data/knockTF_expr.csv'\n",
    "!wget 'https://zenodo.org/record/7035528/files/knockTF_meta.csv?download=1' -O '../../data/knockTF_meta.csv'"
   ]
  },
  {
   "cell_type": "code",
   "execution_count": 4,
   "id": "a5146554-d8ea-42ce-88c6-dcdc92f60ff8",
   "metadata": {},
   "outputs": [],
   "source": [
    "mat = pd.read_csv('../../data/knockTF_expr.csv', index_col=0)\n",
    "obs = pd.read_csv('../../data/knockTF_meta.csv', index_col=0)"
   ]
  },
  {
   "cell_type": "markdown",
   "id": "f430924e-5de6-4c1a-ab1f-b007819baf82",
   "metadata": {},
   "source": [
    "### Filter knockTF benchmark data \n",
    "Filtering is based on log fold-change of perturbed transcription factors"
   ]
  },
  {
   "cell_type": "code",
   "execution_count": 5,
   "id": "8f40e67b-b84c-4326-bd8b-b1514dc6356b",
   "metadata": {},
   "outputs": [
    {
     "data": {
      "text/plain": [
       "((388, 21985), (388, 13), (234,))"
      ]
     },
     "execution_count": 5,
     "metadata": {},
     "output_type": "execute_result"
    }
   ],
   "source": [
    "msk = obs['logFC'] < -1\n",
    "mat = mat[msk]\n",
    "obs = obs[msk]\n",
    "mat.shape, obs.shape, pd.unique(obs['TF'].values).shape"
   ]
  },
  {
   "cell_type": "markdown",
   "id": "9f99e8d7-001d-488c-8ffa-b1c2610fe84d",
   "metadata": {},
   "source": [
    "## GRNs "
   ]
  },
  {
   "cell_type": "markdown",
   "id": "37566faa-4f5f-4928-8686-22265262b13e",
   "metadata": {},
   "source": [
    "### Load GRNs"
   ]
  },
  {
   "cell_type": "code",
   "execution_count": 11,
   "id": "82c01008-6929-40f7-b45f-39ba70295cf8",
   "metadata": {},
   "outputs": [],
   "source": [
    "doro_ABC = pd.read_csv('../../data/networks/filtered_dorothea_ABC.csv')\n",
    "regnet = pd.read_csv('../../data/networks/filtered_regnetwork.csv')\n",
    "pathComp = pd.read_csv('../../data/networks/filtered_pathwayCommons.csv')\n",
    "chea3 = pd.read_csv('../../data/networks/filtered_chea3.csv')\n",
    "collecTRI = pd.read_csv('../../output/CollecTRI/CollecTRI.csv')\n",
    "collecTRI_agnostic = pd.read_csv('../../output/CollecTRI/CollecTRI.csv')\n",
    "collecTRI_agnostic['weight'] = 1\n",
    "collecTRI_rand = dc.shuffle_net(collecTRI, target='target', weight='weight').drop_duplicates(['source', 'target'])"
   ]
  },
  {
   "cell_type": "code",
   "execution_count": 8,
   "id": "1b97d7c6-6f9b-4776-9230-9c0f7fc6737a",
   "metadata": {},
   "outputs": [],
   "source": [
    "chea3_archs4 = chea3[chea3['confidence'] == 'ARCHS4_Coexpression']\n",
    "chea3_encode = chea3[chea3['confidence'] == 'ENCODE_ChIP-seq']\n",
    "chea3_enrich = chea3[chea3['confidence'] == 'Enrichr_Queries']\n",
    "chea3_GTEx = chea3[chea3['confidence'] == 'GTEx_Coexpression']\n",
    "chea3_lit = chea3[chea3['confidence'] == 'Literature_ChIP-seq']\n",
    "chea3_remap = chea3[chea3['confidence'] == 'ReMap_ChIP-seq']"
   ]
  },
  {
   "cell_type": "markdown",
   "id": "b5169e13-01b9-4e16-8680-e7b0f9eceda1",
   "metadata": {},
   "source": [
    "### Filter GRNs for highly correlated regulons\n",
    "Activities for TFs with the same or highly correlated regulon can not be correctly estimated using\n",
    "multivariate linear models. For these regulons, only one TF is kept."
   ]
  },
  {
   "cell_type": "code",
   "execution_count": 9,
   "id": "3dbe2f94-f973-4a82-b38c-1a06c595a7a7",
   "metadata": {},
   "outputs": [],
   "source": [
    "# Remove correlated sources from pathComp\n",
    "decouple_kws =  {'source': 'source', 'target': 'target', 'weight': 'weight', 'min_n': 5}\n",
    "mat_pathComp, obs_pathComp, var_pathComp, pathComp, groupby_pathComp = dc.format_benchmark_inputs(mat = mat, obs = obs, sign = -1, net = pathComp, by = 'experiment', perturb='TF', groupby = None, decouple_kws=decouple_kws)\n",
    "\n",
    "corr_res = dc.check_corr(pathComp)"
   ]
  },
  {
   "cell_type": "code",
   "execution_count": 10,
   "id": "d317af8b-779f-4d23-a36d-bbc952bebac1",
   "metadata": {},
   "outputs": [
    {
     "data": {
      "text/plain": [
       "0"
      ]
     },
     "execution_count": 10,
     "metadata": {},
     "output_type": "execute_result"
    }
   ],
   "source": [
    "idx_corr = corr_res['corr'] >= 0.95\n",
    "corr_tfs = corr_res[idx_corr]\n",
    "\n",
    "idx_tfs = np.isin(corr_tfs['source2'].values, obs['TF'].values)\n",
    "tfs_to_remove1 = corr_tfs[idx_tfs]['source1']\n",
    "tfs_to_remove2 = corr_tfs[~idx_tfs]['source2']\n",
    "\n",
    "tfs_to_remove = pd.concat([tfs_to_remove1, tfs_to_remove2])\n",
    "\n",
    "np.sum(np.isin(tfs_to_remove.values, obs['TF'].values))"
   ]
  },
  {
   "cell_type": "code",
   "execution_count": 11,
   "id": "98acb7fb-0ae8-4368-8052-2ffc52c36609",
   "metadata": {},
   "outputs": [],
   "source": [
    "idx_remove = np.isin(pathComp['source'].values, tfs_to_remove.values)\n",
    "pathComp_filtered = pathComp.loc[~idx_remove]"
   ]
  },
  {
   "cell_type": "code",
   "execution_count": 12,
   "id": "c46a408a-1cc2-40ff-85ed-18e506543ab2",
   "metadata": {},
   "outputs": [],
   "source": [
    "# Remove correlated sources from regnet\n",
    "decouple_kws =  {'source': 'source', 'target': 'target', 'weight': 'weight', 'min_n': 5}\n",
    "mat_regnet, obs_regnet, var_regnet, regnet, groupby_regnet = dc.format_benchmark_inputs(mat = mat, obs = obs, sign = -1, net = regnet, by = 'experiment', perturb='TF', groupby = None, decouple_kws=decouple_kws)\n",
    "\n",
    "corr_res = dc.check_corr(regnet)"
   ]
  },
  {
   "cell_type": "code",
   "execution_count": 13,
   "id": "41de332e-0a7a-4a6c-8199-633d769bfcb0",
   "metadata": {},
   "outputs": [
    {
     "data": {
      "text/plain": [
       "1"
      ]
     },
     "execution_count": 13,
     "metadata": {},
     "output_type": "execute_result"
    }
   ],
   "source": [
    "idx_corr = corr_res['corr'] >= 0.95\n",
    "corr_tfs = corr_res[idx_corr]\n",
    "\n",
    "idx_tfs = np.isin(corr_tfs['source2'].values, obs['TF'].values)\n",
    "tfs_to_remove1 = corr_tfs[idx_tfs]['source1']\n",
    "tfs_to_remove2 = corr_tfs[~idx_tfs]['source2']\n",
    "\n",
    "tfs_to_remove = pd.concat([tfs_to_remove1, tfs_to_remove2])\n",
    "\n",
    "np.sum(np.isin(tfs_to_remove.values, obs['TF'].values))"
   ]
  },
  {
   "cell_type": "code",
   "execution_count": 14,
   "id": "b11e5a53-d91f-4aa9-aae4-6e8e85c7563b",
   "metadata": {},
   "outputs": [],
   "source": [
    "idx_remove = np.isin(regnet['source'].values, tfs_to_remove.values)\n",
    "regnet_filtered = regnet.loc[~idx_remove]"
   ]
  },
  {
   "cell_type": "markdown",
   "id": "62686b8a-ed72-4196-a43d-722534e70bfe",
   "metadata": {},
   "source": [
    "### Overview final GRNs"
   ]
  },
  {
   "cell_type": "code",
   "execution_count": 15,
   "id": "1e1e9d2b-5282-47d6-b4ec-1c28e298aa49",
   "metadata": {},
   "outputs": [
    {
     "data": {
      "text/plain": [
       "(125, 171, 123, 92, 156, 46, 146, 155, 66, 101)"
      ]
     },
     "execution_count": 15,
     "metadata": {},
     "output_type": "execute_result"
    }
   ],
   "source": [
    "# Number of TFs included in each network\n",
    "n_doro = np.sum(np.isin(pd.unique(doro_ABC['source'].values), pd.unique(obs['TF'].values))) \n",
    "n_collectri = np.sum(np.isin(pd.unique(collecTRI['source'].values), pd.unique(obs['TF'].values)))\n",
    "n_regnet = np.sum(np.isin(pd.unique(regnet_filtered['source'].values), pd.unique(obs['TF'].values))) \n",
    "n_pathComp = np.sum(np.isin(pd.unique(pathComp_filtered['source'].values), pd.unique(obs['TF'].values)))\n",
    "n_cheaArch = np.sum(np.isin(pd.unique(chea3_archs4['source'].values), pd.unique(obs['TF'].values))) \n",
    "n_cheaEncode = np.sum(np.isin(pd.unique(chea3_encode['source'].values), pd.unique(obs['TF'].values)))\n",
    "n_cheaEnrich = np.sum(np.isin(pd.unique(chea3_enrich['source'].values), pd.unique(obs['TF'].values))) \n",
    "n_cheaGTEx = np.sum(np.isin(pd.unique(chea3_GTEx['source'].values), pd.unique(obs['TF'].values)))\n",
    "n_chealit = np.sum(np.isin(pd.unique(chea3_lit['source'].values), pd.unique(obs['TF'].values))) \n",
    "n_cheaRemap = np.sum(np.isin(pd.unique(chea3_remap['source'].values), pd.unique(obs['TF'].values)))\n",
    "n_doro, n_collectri, n_regnet, n_pathComp, n_cheaArch, n_cheaEncode, n_cheaEnrich, n_cheaGTEx, n_chealit, n_cheaRemap"
   ]
  },
  {
   "cell_type": "markdown",
   "id": "42e54642-cd6e-4d55-9101-7999061fd00e",
   "metadata": {},
   "source": [
    "## Run benchmark"
   ]
  },
  {
   "cell_type": "code",
   "execution_count": 16,
   "id": "d9d4b650-0e81-48a6-acb3-127d0fe9833d",
   "metadata": {},
   "outputs": [
    {
     "name": "stdout",
     "output_type": "stream",
     "text": [
      "Using ABC network...\n",
      "Extracting inputs...\n",
      "Formating net...\n",
      "174 experiments without sources in net, they will be removed.\n",
      "Running methods...\n",
      "55 features of mat are empty, they will be removed.\n",
      "Running mlm on mat with 214 samples and 21930 targets for 297 sources.\n"
     ]
    },
    {
     "name": "stderr",
     "output_type": "stream",
     "text": [
      "100%|███████████████████████████████████████████████████████████████████████████| 1/1 [00:00<00:00,  2.74it/s]\n"
     ]
    },
    {
     "name": "stdout",
     "output_type": "stream",
     "text": [
      "55 features of mat are empty, they will be removed.\n",
      "Running ulm on mat with 214 samples and 21930 targets for 297 sources.\n",
      "55 features of mat are empty, they will be removed.\n",
      "Running wsum on mat with 214 samples and 21930 targets for 297 sources.\n",
      "Infering activities on 1 batches.\n"
     ]
    },
    {
     "name": "stderr",
     "output_type": "stream",
     "text": [
      "100%|███████████████████████████████████████████████████████████████████████████| 1/1 [00:36<00:00, 36.14s/it]\n"
     ]
    },
    {
     "name": "stdout",
     "output_type": "stream",
     "text": [
      "Calculating metrics...\n",
      "Computing metrics...\n",
      "Done.\n",
      "Using collecTRI network...\n",
      "Extracting inputs...\n",
      "Formating net...\n",
      "109 experiments without sources in net, they will be removed.\n",
      "Running methods...\n",
      "52 features of mat are empty, they will be removed.\n",
      "Running mlm on mat with 279 samples and 21933 targets for 774 sources.\n"
     ]
    },
    {
     "name": "stderr",
     "output_type": "stream",
     "text": [
      "100%|███████████████████████████████████████████████████████████████████████████| 1/1 [00:01<00:00,  1.40s/it]\n"
     ]
    },
    {
     "name": "stdout",
     "output_type": "stream",
     "text": [
      "52 features of mat are empty, they will be removed.\n",
      "Running ulm on mat with 279 samples and 21933 targets for 774 sources.\n",
      "52 features of mat are empty, they will be removed.\n",
      "Running wsum on mat with 279 samples and 21933 targets for 774 sources.\n",
      "Infering activities on 1 batches.\n"
     ]
    },
    {
     "name": "stderr",
     "output_type": "stream",
     "text": [
      "100%|███████████████████████████████████████████████████████████████████████████| 1/1 [01:14<00:00, 74.49s/it]\n"
     ]
    },
    {
     "name": "stdout",
     "output_type": "stream",
     "text": [
      "Calculating metrics...\n",
      "Computing metrics...\n",
      "Done.\n",
      "Using regnet network...\n",
      "Extracting inputs...\n",
      "Formating net...\n",
      "159 experiments without sources in net, they will be removed.\n",
      "Running methods...\n",
      "54 features of mat are empty, they will be removed.\n",
      "Running mlm on mat with 229 samples and 21931 targets for 622 sources.\n"
     ]
    },
    {
     "name": "stderr",
     "output_type": "stream",
     "text": [
      "100%|███████████████████████████████████████████████████████████████████████████| 1/1 [00:00<00:00,  1.01it/s]\n"
     ]
    },
    {
     "name": "stdout",
     "output_type": "stream",
     "text": [
      "54 features of mat are empty, they will be removed.\n",
      "Running ulm on mat with 229 samples and 21931 targets for 622 sources.\n",
      "54 features of mat are empty, they will be removed.\n",
      "Running wsum on mat with 229 samples and 21931 targets for 622 sources.\n",
      "Infering activities on 1 batches.\n"
     ]
    },
    {
     "name": "stderr",
     "output_type": "stream",
     "text": [
      "100%|███████████████████████████████████████████████████████████████████████████| 1/1 [00:55<00:00, 55.23s/it]\n"
     ]
    },
    {
     "name": "stdout",
     "output_type": "stream",
     "text": [
      "Calculating metrics...\n",
      "Computing metrics...\n",
      "Done.\n",
      "Using pathComp network...\n",
      "Extracting inputs...\n",
      "Formating net...\n",
      "205 experiments without sources in net, they will be removed.\n",
      "Running methods...\n",
      "76 features of mat are empty, they will be removed.\n",
      "Running mlm on mat with 183 samples and 21909 targets for 313 sources.\n"
     ]
    },
    {
     "name": "stderr",
     "output_type": "stream",
     "text": [
      "100%|███████████████████████████████████████████████████████████████████████████| 1/1 [00:00<00:00,  1.84it/s]\n"
     ]
    },
    {
     "name": "stdout",
     "output_type": "stream",
     "text": [
      "76 features of mat are empty, they will be removed.\n",
      "Running ulm on mat with 183 samples and 21909 targets for 313 sources.\n",
      "76 features of mat are empty, they will be removed.\n",
      "Running wsum on mat with 183 samples and 21909 targets for 313 sources.\n",
      "Infering activities on 1 batches.\n"
     ]
    },
    {
     "name": "stderr",
     "output_type": "stream",
     "text": [
      "100%|███████████████████████████████████████████████████████████████████████████| 1/1 [00:29<00:00, 29.08s/it]\n"
     ]
    },
    {
     "name": "stdout",
     "output_type": "stream",
     "text": [
      "Calculating metrics...\n",
      "Computing metrics...\n",
      "Done.\n",
      "Using chea3_archs4 network...\n",
      "Extracting inputs...\n",
      "Formating net...\n",
      "112 experiments without sources in net, they will be removed.\n",
      "Running methods...\n",
      "50 features of mat are empty, they will be removed.\n",
      "Running mlm on mat with 276 samples and 21935 targets for 1612 sources.\n"
     ]
    },
    {
     "name": "stderr",
     "output_type": "stream",
     "text": [
      "100%|███████████████████████████████████████████████████████████████████████████| 1/1 [00:03<00:00,  3.55s/it]\n"
     ]
    },
    {
     "name": "stdout",
     "output_type": "stream",
     "text": [
      "50 features of mat are empty, they will be removed.\n",
      "Running ulm on mat with 276 samples and 21935 targets for 1612 sources.\n",
      "50 features of mat are empty, they will be removed.\n",
      "Running wsum on mat with 276 samples and 21935 targets for 1612 sources.\n",
      "Infering activities on 1 batches.\n"
     ]
    },
    {
     "name": "stderr",
     "output_type": "stream",
     "text": [
      "100%|██████████████████████████████████████████████████████████████████████████| 1/1 [02:33<00:00, 153.96s/it]\n"
     ]
    },
    {
     "name": "stdout",
     "output_type": "stream",
     "text": [
      "Calculating metrics...\n",
      "Computing metrics...\n",
      "Done.\n",
      "Using chea3_encode network...\n",
      "Extracting inputs...\n",
      "Formating net...\n",
      "281 experiments without sources in net, they will be removed.\n",
      "Running methods...\n",
      "68 features of mat are empty, they will be removed.\n",
      "Running mlm on mat with 107 samples and 21917 targets for 133 sources.\n"
     ]
    },
    {
     "name": "stderr",
     "output_type": "stream",
     "text": [
      "100%|███████████████████████████████████████████████████████████████████████████| 1/1 [00:00<00:00,  2.73it/s]\n"
     ]
    },
    {
     "name": "stdout",
     "output_type": "stream",
     "text": [
      "68 features of mat are empty, they will be removed.\n",
      "Running ulm on mat with 107 samples and 21917 targets for 133 sources.\n",
      "68 features of mat are empty, they will be removed.\n",
      "Running wsum on mat with 107 samples and 21917 targets for 133 sources.\n",
      "Infering activities on 1 batches.\n"
     ]
    },
    {
     "name": "stderr",
     "output_type": "stream",
     "text": [
      "100%|███████████████████████████████████████████████████████████████████████████| 1/1 [00:28<00:00, 28.15s/it]\n"
     ]
    },
    {
     "name": "stdout",
     "output_type": "stream",
     "text": [
      "Calculating metrics...\n",
      "Computing metrics...\n",
      "Done.\n",
      "Using chea3_enrich network...\n",
      "Extracting inputs...\n",
      "Formating net...\n",
      "126 experiments without sources in net, they will be removed.\n",
      "Running methods...\n",
      "50 features of mat are empty, they will be removed.\n",
      "Running mlm on mat with 262 samples and 21935 targets for 1393 sources.\n"
     ]
    },
    {
     "name": "stderr",
     "output_type": "stream",
     "text": [
      "100%|███████████████████████████████████████████████████████████████████████████| 1/1 [00:05<00:00,  5.98s/it]\n"
     ]
    },
    {
     "name": "stdout",
     "output_type": "stream",
     "text": [
      "50 features of mat are empty, they will be removed.\n",
      "Running ulm on mat with 262 samples and 21935 targets for 1393 sources.\n",
      "50 features of mat are empty, they will be removed.\n",
      "Running wsum on mat with 262 samples and 21935 targets for 1393 sources.\n",
      "Infering activities on 1 batches.\n"
     ]
    },
    {
     "name": "stderr",
     "output_type": "stream",
     "text": [
      "100%|██████████████████████████████████████████████████████████████████████████| 1/1 [03:25<00:00, 205.94s/it]\n"
     ]
    },
    {
     "name": "stdout",
     "output_type": "stream",
     "text": [
      "Calculating metrics...\n",
      "Computing metrics...\n",
      "Done.\n",
      "Using chea3_GTEx network...\n",
      "Extracting inputs...\n",
      "Formating net...\n",
      "113 experiments without sources in net, they will be removed.\n",
      "Running methods...\n",
      "50 features of mat are empty, they will be removed.\n",
      "Running mlm on mat with 275 samples and 21935 targets for 1578 sources.\n"
     ]
    },
    {
     "name": "stderr",
     "output_type": "stream",
     "text": [
      "100%|███████████████████████████████████████████████████████████████████████████| 1/1 [00:04<00:00,  4.81s/it]\n"
     ]
    },
    {
     "name": "stdout",
     "output_type": "stream",
     "text": [
      "50 features of mat are empty, they will be removed.\n",
      "Running ulm on mat with 275 samples and 21935 targets for 1578 sources.\n",
      "50 features of mat are empty, they will be removed.\n",
      "Running wsum on mat with 275 samples and 21935 targets for 1578 sources.\n",
      "Infering activities on 1 batches.\n"
     ]
    },
    {
     "name": "stderr",
     "output_type": "stream",
     "text": [
      "100%|██████████████████████████████████████████████████████████████████████████| 1/1 [02:57<00:00, 177.63s/it]\n"
     ]
    },
    {
     "name": "stdout",
     "output_type": "stream",
     "text": [
      "Calculating metrics...\n",
      "Computing metrics...\n",
      "Done.\n",
      "Using chea3_lit network...\n",
      "Extracting inputs...\n",
      "Formating net...\n",
      "224 experiments without sources in net, they will be removed.\n",
      "Running methods...\n",
      "68 features of mat are empty, they will be removed.\n",
      "Running mlm on mat with 164 samples and 21917 targets for 166 sources.\n"
     ]
    },
    {
     "name": "stderr",
     "output_type": "stream",
     "text": [
      "100%|███████████████████████████████████████████████████████████████████████████| 1/1 [00:00<00:00,  2.73it/s]\n"
     ]
    },
    {
     "name": "stdout",
     "output_type": "stream",
     "text": [
      "68 features of mat are empty, they will be removed.\n",
      "Running ulm on mat with 164 samples and 21917 targets for 166 sources.\n",
      "68 features of mat are empty, they will be removed.\n",
      "Running wsum on mat with 164 samples and 21917 targets for 166 sources.\n",
      "Infering activities on 1 batches.\n"
     ]
    },
    {
     "name": "stderr",
     "output_type": "stream",
     "text": [
      "100%|███████████████████████████████████████████████████████████████████████████| 1/1 [00:20<00:00, 20.34s/it]\n"
     ]
    },
    {
     "name": "stdout",
     "output_type": "stream",
     "text": [
      "Calculating metrics...\n",
      "Computing metrics...\n",
      "Done.\n",
      "Using chea3_remap network...\n",
      "Extracting inputs...\n",
      "Formating net...\n",
      "187 experiments without sources in net, they will be removed.\n",
      "Running methods...\n",
      "55 features of mat are empty, they will be removed.\n",
      "Running mlm on mat with 201 samples and 21930 targets for 306 sources.\n"
     ]
    },
    {
     "name": "stderr",
     "output_type": "stream",
     "text": [
      "100%|███████████████████████████████████████████████████████████████████████████| 1/1 [00:00<00:00,  1.66it/s]\n"
     ]
    },
    {
     "name": "stdout",
     "output_type": "stream",
     "text": [
      "55 features of mat are empty, they will be removed.\n",
      "Running ulm on mat with 201 samples and 21930 targets for 306 sources.\n",
      "55 features of mat are empty, they will be removed.\n",
      "Running wsum on mat with 201 samples and 21930 targets for 306 sources.\n",
      "Infering activities on 1 batches.\n"
     ]
    },
    {
     "name": "stderr",
     "output_type": "stream",
     "text": [
      "100%|███████████████████████████████████████████████████████████████████████████| 1/1 [00:31<00:00, 31.12s/it]\n"
     ]
    },
    {
     "name": "stdout",
     "output_type": "stream",
     "text": [
      "Calculating metrics...\n",
      "Computing metrics...\n",
      "Done.\n",
      "Using rand network...\n",
      "Extracting inputs...\n",
      "Formating net...\n",
      "109 experiments without sources in net, they will be removed.\n",
      "Running methods...\n",
      "52 features of mat are empty, they will be removed.\n",
      "Running mlm on mat with 279 samples and 21933 targets for 775 sources.\n"
     ]
    },
    {
     "name": "stderr",
     "output_type": "stream",
     "text": [
      "100%|███████████████████████████████████████████████████████████████████████████| 1/1 [00:01<00:00,  1.41s/it]\n"
     ]
    },
    {
     "name": "stdout",
     "output_type": "stream",
     "text": [
      "52 features of mat are empty, they will be removed.\n",
      "Running ulm on mat with 279 samples and 21933 targets for 775 sources.\n",
      "52 features of mat are empty, they will be removed.\n",
      "Running wsum on mat with 279 samples and 21933 targets for 775 sources.\n",
      "Infering activities on 1 batches.\n"
     ]
    },
    {
     "name": "stderr",
     "output_type": "stream",
     "text": [
      "100%|███████████████████████████████████████████████████████████████████████████| 1/1 [01:21<00:00, 81.25s/it]\n"
     ]
    },
    {
     "name": "stdout",
     "output_type": "stream",
     "text": [
      "Calculating metrics...\n",
      "Computing metrics...\n",
      "Done.\n"
     ]
    }
   ],
   "source": [
    "# Build dictionary of networks to test\n",
    "nets = {\n",
    "    'ABC': doro_ABC,\n",
    "    'collecTRI': collecTRI,\n",
    "    'regnet': regnet_filtered,\n",
    "    'pathComp': pathComp_filtered,\n",
    "    'chea3_archs4': chea3_archs4,\n",
    "    'chea3_encode': chea3_encode,\n",
    "    'chea3_enrich': chea3_enrich,\n",
    "    'chea3_GTEx': chea3_GTEx,\n",
    "    'chea3_lit': chea3_lit,\n",
    "    'chea3_remap': chea3_remap,\n",
    "    'rand': collecTRI_rand\n",
    "}\n",
    "\n",
    "# Example extra arguments\n",
    "decouple_kws = {\n",
    "    'ABC': {'args' : {'wsum' : {'times': 1000}}},\n",
    "    'collecTRI': {'args' : {'wsum' : {'times': 1000}}},\n",
    "    'regnet': {'args' : {'wsum' : {'times': 1000}}},\n",
    "    'pathComp': {'args' : {'wsum' : {'times': 1000}}},\n",
    "    'chea3_archs4': {'args' : {'wsum' : {'times': 1000}}},\n",
    "    'chea3_encode': {'args' : {'wsum' : {'times': 1000}}},\n",
    "    'chea3_enrich': {'args' : {'wsum' : {'times': 1000}}},\n",
    "    'chea3_GTEx': {'args' : {'wsum' : {'times': 1000}}},\n",
    "    'chea3_lit': {'args' : {'wsum' : {'times': 1000}}},\n",
    "    'chea3_remap': {'args' : {'wsum' : {'times': 1000}}},\n",
    "    'rand': {'args' : {'wsum' : {'times': 1000}}}\n",
    "\n",
    "}\n",
    "\n",
    "# Run benchmark pipeline\n",
    "df = dc.benchmark(mat, obs, nets, perturb='TF', sign=-1, verbose=True, decouple_kws=decouple_kws)"
   ]
  },
  {
   "cell_type": "markdown",
   "id": "14345414-cafd-4a0c-8e3c-d422376544cf",
   "metadata": {},
   "source": [
    "### Save results"
   ]
  },
  {
   "cell_type": "code",
   "execution_count": 17,
   "id": "04f8cf50-ba12-45f4-a7e9-2c8eb5382447",
   "metadata": {},
   "outputs": [],
   "source": [
    "pd.DataFrame.to_csv(df, '../../output/benchmark/benchmark_res.csv')"
   ]
  },
  {
   "cell_type": "markdown",
   "id": "66144d70-ac68-4be3-9304-e526d872e0fa",
   "metadata": {},
   "source": [
    "## Run benchmark per source\n",
    "Only done for top three performing networks in the overall benchmark (Dorothea ABC, Regnetwork, CollecTRI)"
   ]
  },
  {
   "cell_type": "code",
   "execution_count": 18,
   "id": "e35fd957-f0d4-48e4-b181-b940173416fe",
   "metadata": {},
   "outputs": [
    {
     "name": "stdout",
     "output_type": "stream",
     "text": [
      "Using ABC network...\n",
      "Extracting inputs...\n",
      "Formating net...\n",
      "174 experiments without sources in net, they will be removed.\n",
      "Running methods...\n",
      "55 features of mat are empty, they will be removed.\n",
      "Running mlm on mat with 214 samples and 21930 targets for 297 sources.\n"
     ]
    },
    {
     "name": "stderr",
     "output_type": "stream",
     "text": [
      "100%|███████████████████████████████████████████████████████████████████████████| 1/1 [00:00<00:00,  1.86it/s]\n"
     ]
    },
    {
     "name": "stdout",
     "output_type": "stream",
     "text": [
      "55 features of mat are empty, they will be removed.\n",
      "Running ulm on mat with 214 samples and 21930 targets for 297 sources.\n",
      "55 features of mat are empty, they will be removed.\n",
      "Running wsum on mat with 214 samples and 21930 targets for 297 sources.\n",
      "Infering activities on 1 batches.\n"
     ]
    },
    {
     "name": "stderr",
     "output_type": "stream",
     "text": [
      "100%|███████████████████████████████████████████████████████████████████████████| 1/1 [00:03<00:00,  3.08s/it]\n"
     ]
    },
    {
     "name": "stdout",
     "output_type": "stream",
     "text": [
      "Calculating metrics...\n",
      "Computing metrics...\n",
      "Done.\n",
      "Using regnet network...\n",
      "Extracting inputs...\n",
      "Formating net...\n",
      "159 experiments without sources in net, they will be removed.\n",
      "Running methods...\n",
      "54 features of mat are empty, they will be removed.\n",
      "Running mlm on mat with 229 samples and 21931 targets for 622 sources.\n"
     ]
    },
    {
     "name": "stderr",
     "output_type": "stream",
     "text": [
      "100%|███████████████████████████████████████████████████████████████████████████| 1/1 [00:00<00:00,  1.03it/s]\n"
     ]
    },
    {
     "name": "stdout",
     "output_type": "stream",
     "text": [
      "54 features of mat are empty, they will be removed.\n",
      "Running ulm on mat with 229 samples and 21931 targets for 622 sources.\n",
      "54 features of mat are empty, they will be removed.\n",
      "Running wsum on mat with 229 samples and 21931 targets for 622 sources.\n",
      "Infering activities on 1 batches.\n"
     ]
    },
    {
     "name": "stderr",
     "output_type": "stream",
     "text": [
      "100%|███████████████████████████████████████████████████████████████████████████| 1/1 [00:05<00:00,  5.55s/it]\n"
     ]
    },
    {
     "name": "stdout",
     "output_type": "stream",
     "text": [
      "Calculating metrics...\n",
      "Computing metrics...\n",
      "Done.\n",
      "Using collecTRI network...\n",
      "Extracting inputs...\n",
      "Formating net...\n",
      "109 experiments without sources in net, they will be removed.\n",
      "Running methods...\n",
      "52 features of mat are empty, they will be removed.\n",
      "Running mlm on mat with 279 samples and 21933 targets for 774 sources.\n"
     ]
    },
    {
     "name": "stderr",
     "output_type": "stream",
     "text": [
      "100%|███████████████████████████████████████████████████████████████████████████| 1/1 [00:01<00:00,  1.29s/it]\n"
     ]
    },
    {
     "name": "stdout",
     "output_type": "stream",
     "text": [
      "52 features of mat are empty, they will be removed.\n",
      "Running ulm on mat with 279 samples and 21933 targets for 774 sources.\n",
      "52 features of mat are empty, they will be removed.\n",
      "Running wsum on mat with 279 samples and 21933 targets for 774 sources.\n",
      "Infering activities on 1 batches.\n"
     ]
    },
    {
     "name": "stderr",
     "output_type": "stream",
     "text": [
      "100%|███████████████████████████████████████████████████████████████████████████| 1/1 [00:08<00:00,  8.18s/it]\n"
     ]
    },
    {
     "name": "stdout",
     "output_type": "stream",
     "text": [
      "Calculating metrics...\n",
      "Computing metrics...\n",
      "Done.\n"
     ]
    }
   ],
   "source": [
    "nets = {\n",
    "    'ABC': doro_ABC,\n",
    "    'regnet': regnet_filtered,\n",
    "    'collecTRI': collecTRI\n",
    "}\n",
    "\n",
    "# Example extra arguments\n",
    "decouple_kws = {\n",
    "    'ABC': {'args' : {'wsum' : {'times': 100}}},\n",
    "    'regnet': {'args' : {'wsum' : {'times': 100}}},\n",
    "    'collecTRI': {'args' : {'wsum' : {'times': 100}}}\n",
    "}\n",
    "\n",
    "# Run benchmark pipeline\n",
    "df_source = dc.benchmark(mat, obs, nets, perturb='TF', sign=-1, by='source', verbose=True, decouple_kws=decouple_kws)"
   ]
  },
  {
   "cell_type": "markdown",
   "id": "77f2fe1a-5303-426c-b136-9a7227a8b234",
   "metadata": {},
   "source": [
    "### Save results"
   ]
  },
  {
   "cell_type": "code",
   "execution_count": 19,
   "id": "484e460c-e654-4566-b216-9fee335e9be6",
   "metadata": {},
   "outputs": [],
   "source": [
    "pd.DataFrame.to_csv(df_source, '../../output/benchmark/benchmark_source_res.csv')"
   ]
  },
  {
   "cell_type": "markdown",
   "id": "bfe258e2-33e6-417f-afc0-538b4f0c3c57",
   "metadata": {},
   "source": [
    "## Run benchmark effect of sign in CollecTRI\n",
    "Comparison of directed and signed+directed CollecTRI"
   ]
  },
  {
   "cell_type": "code",
   "execution_count": 12,
   "id": "76cee52d-50c0-4370-8edf-d2d975522d2f",
   "metadata": {},
   "outputs": [
    {
     "name": "stdout",
     "output_type": "stream",
     "text": [
      "Using collecTRI network...\n",
      "Extracting inputs...\n",
      "Formating net...\n",
      "109 experiments without sources in net, they will be removed.\n",
      "Running methods...\n",
      "52 features of mat are empty, they will be removed.\n",
      "Running mlm on mat with 279 samples and 21933 targets for 774 sources.\n"
     ]
    },
    {
     "name": "stderr",
     "output_type": "stream",
     "text": [
      "100%|█████████████████████████████████████████████| 1/1 [00:01<00:00,  1.30s/it]\n"
     ]
    },
    {
     "name": "stdout",
     "output_type": "stream",
     "text": [
      "52 features of mat are empty, they will be removed.\n",
      "Running ulm on mat with 279 samples and 21933 targets for 774 sources.\n",
      "52 features of mat are empty, they will be removed.\n",
      "Running wsum on mat with 279 samples and 21933 targets for 774 sources.\n",
      "Infering activities on 1 batches.\n"
     ]
    },
    {
     "name": "stderr",
     "output_type": "stream",
     "text": [
      "100%|█████████████████████████████████████████████| 1/1 [00:06<00:00,  6.89s/it]\n"
     ]
    },
    {
     "name": "stdout",
     "output_type": "stream",
     "text": [
      "Calculating metrics...\n",
      "Computing metrics...\n",
      "Done.\n",
      "Using collecTRI_agnostic network...\n",
      "Extracting inputs...\n",
      "Formating net...\n",
      "109 experiments without sources in net, they will be removed.\n",
      "Running methods...\n",
      "52 features of mat are empty, they will be removed.\n",
      "Running mlm on mat with 279 samples and 21933 targets for 774 sources.\n"
     ]
    },
    {
     "name": "stderr",
     "output_type": "stream",
     "text": [
      "100%|█████████████████████████████████████████████| 1/1 [00:01<00:00,  1.40s/it]\n"
     ]
    },
    {
     "name": "stdout",
     "output_type": "stream",
     "text": [
      "52 features of mat are empty, they will be removed.\n",
      "Running ulm on mat with 279 samples and 21933 targets for 774 sources.\n",
      "52 features of mat are empty, they will be removed.\n",
      "Running wsum on mat with 279 samples and 21933 targets for 774 sources.\n",
      "Infering activities on 1 batches.\n"
     ]
    },
    {
     "name": "stderr",
     "output_type": "stream",
     "text": [
      "100%|█████████████████████████████████████████████| 1/1 [00:08<00:00,  8.55s/it]\n"
     ]
    },
    {
     "name": "stdout",
     "output_type": "stream",
     "text": [
      "Calculating metrics...\n",
      "Computing metrics...\n",
      "Done.\n"
     ]
    }
   ],
   "source": [
    "nets = {\n",
    "    'collecTRI': collecTRI,\n",
    "    'collecTRI_agnostic': collecTRI_agnostic\n",
    "}\n",
    "\n",
    "# Example extra arguments\n",
    "decouple_kws = {\n",
    "    'collecTRI': {'args' : {'wsum' : {'times': 100}}},\n",
    "    'collecTRI_agnostic': {'args' : {'wsum' : {'times': 100}}}\n",
    "}\n",
    "\n",
    "# Run benchmark pipeline\n",
    "df_sign = dc.benchmark(mat, obs, nets, perturb='TF', sign=-1, verbose=True, decouple_kws=decouple_kws)"
   ]
  },
  {
   "cell_type": "markdown",
   "id": "ffa79acf-11af-4eb6-99ae-5956b66a920b",
   "metadata": {},
   "source": [
    "### Save results"
   ]
  },
  {
   "cell_type": "code",
   "execution_count": 13,
   "id": "69787312-1de1-491c-8437-4285daaf4ff8",
   "metadata": {},
   "outputs": [],
   "source": [
    "pd.DataFrame.to_csv(df_sign, '../../output/benchmark/benchmark_sign_res.csv')"
   ]
  }
 ],
 "metadata": {
  "kernelspec": {
   "display_name": "decoupler",
   "language": "python",
   "name": "decoupler"
  },
  "language_info": {
   "codemirror_mode": {
    "name": "ipython",
    "version": 3
   },
   "file_extension": ".py",
   "mimetype": "text/x-python",
   "name": "python",
   "nbconvert_exporter": "python",
   "pygments_lexer": "ipython3",
   "version": "3.10.4"
  }
 },
 "nbformat": 4,
 "nbformat_minor": 5
}
