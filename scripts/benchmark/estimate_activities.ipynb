{
 "cells": [
  {
   "cell_type": "markdown",
   "id": "119e9391-60b9-463d-9593-4dafb6e178c8",
   "metadata": {},
   "source": [
    "# Estimate TF activities with decoupler - Comparing the effect of the number of targets on the estimated activities"
   ]
  },
  {
   "cell_type": "markdown",
   "id": "b78963d9-5864-4492-9552-65ab9bf0c2bd",
   "metadata": {},
   "source": [
    "## Libraries"
   ]
  },
  {
   "cell_type": "code",
   "execution_count": 1,
   "id": "b678fab0-25e7-4b41-a366-fae9f041bfc7",
   "metadata": {},
   "outputs": [
    {
     "name": "stderr",
     "output_type": "stream",
     "text": [
      "OMP: Info #276: omp_set_nested routine deprecated, please use omp_set_max_active_levels instead.\n"
     ]
    }
   ],
   "source": [
    "import pandas as pd\n",
    "import numpy as np\n",
    "\n",
    "import decoupler as dc"
   ]
  },
  {
   "cell_type": "markdown",
   "id": "79ba34d0-5b63-4a97-bfe4-5291221ab429",
   "metadata": {},
   "source": [
    "## Benchmark data"
   ]
  },
  {
   "cell_type": "markdown",
   "id": "b46507b8-ce44-4b79-adc6-ff6df5b0ce1f",
   "metadata": {},
   "source": [
    "### Load KnockTF data\n",
    "The benchmark data can be downloaded from Zenodo as shown in scripts/benchmark.ipynb"
   ]
  },
  {
   "cell_type": "code",
   "execution_count": 2,
   "id": "eeef57e8-7c3a-483f-8c88-53d60b1995b4",
   "metadata": {},
   "outputs": [],
   "source": [
    "mat = pd.read_csv('../../data/knockTF_expr.csv', index_col=0)\n",
    "obs = pd.read_csv('../../data/knockTF_meta.csv', index_col=0)"
   ]
  },
  {
   "cell_type": "markdown",
   "id": "e7fbe1c8-bf64-45c1-bbf4-689a66596210",
   "metadata": {},
   "source": [
    "### Filter knockTF data\n",
    "Filtering is based on log fold-change of perturbed transcription factors"
   ]
  },
  {
   "cell_type": "code",
   "execution_count": 3,
   "id": "c11ea6c8-7fda-49d0-9fd1-5f871f0697bf",
   "metadata": {},
   "outputs": [],
   "source": [
    "msk = obs['logFC'] < -1\n",
    "mat = mat[msk]\n",
    "obs = obs[msk]"
   ]
  },
  {
   "cell_type": "markdown",
   "id": "4330d9bf-f729-4b76-a1bb-86cd7436d36e",
   "metadata": {},
   "source": [
    "## Load GRNs"
   ]
  },
  {
   "cell_type": "code",
   "execution_count": 4,
   "id": "326481b5-761c-4c48-972a-acd4e6897f93",
   "metadata": {},
   "outputs": [],
   "source": [
    "doro_ABC = pd.read_csv('../../data/networks/filtered_dorothea_ABC.csv')\n",
    "regnet = pd.read_csv('../../data/networks/filtered_regnetwork.csv')\n",
    "collecTRI = pd.read_csv('../../output/CollecTRI/CollecTRI.csv')"
   ]
  },
  {
   "cell_type": "markdown",
   "id": "7a04b3d1-d7fc-4de7-9c77-67e5734297d9",
   "metadata": {},
   "source": [
    "### Filter GRNs for highly correlated regulons\n",
    "Activities for TFs with the same or highly correlated regulon can not be correctly estimated using\n",
    "multivariate linear models. For these regulons, only one TF is kept."
   ]
  },
  {
   "cell_type": "code",
   "execution_count": 5,
   "id": "16c533c0-968a-4085-b167-63be37f43d85",
   "metadata": {},
   "outputs": [],
   "source": [
    "# Remove correlated sources from regnet\n",
    "decouple_kws =  {'source': 'source', 'target': 'target', 'weight': 'weight', 'min_n': 5}\n",
    "mat_regnet, obs_regnet, var_regnet, regnet, groupby_regnet = dc.format_benchmark_inputs(mat = mat, obs = obs, sign = -1, net = regnet, by = 'experiment', perturb='TF', groupby = None, decouple_kws=decouple_kws)\n",
    "\n",
    "corr_res = dc.check_corr(regnet)"
   ]
  },
  {
   "cell_type": "code",
   "execution_count": 6,
   "id": "b68f40cf-907c-4d5c-ba48-8896ffc933f6",
   "metadata": {},
   "outputs": [
    {
     "data": {
      "text/plain": [
       "1"
      ]
     },
     "execution_count": 6,
     "metadata": {},
     "output_type": "execute_result"
    }
   ],
   "source": [
    "idx_corr = corr_res['corr'] >= 0.95\n",
    "corr_tfs = corr_res[idx_corr]\n",
    "\n",
    "idx_tfs = np.isin(corr_tfs['source2'].values, obs['TF'].values)\n",
    "tfs_to_remove1 = corr_tfs[idx_tfs]['source1']\n",
    "tfs_to_remove2 = corr_tfs[~idx_tfs]['source2']\n",
    "\n",
    "tfs_to_remove = pd.concat([tfs_to_remove1, tfs_to_remove2])\n",
    "\n",
    "np.sum(np.isin(tfs_to_remove.values, obs['TF'].values))"
   ]
  },
  {
   "cell_type": "code",
   "execution_count": 7,
   "id": "62d4072f-31aa-4a7a-974f-8ebe732e63ae",
   "metadata": {},
   "outputs": [],
   "source": [
    "idx_remove = np.isin(regnet['source'].values, tfs_to_remove.values)\n",
    "regnet_filtered = regnet.loc[~idx_remove]"
   ]
  },
  {
   "cell_type": "markdown",
   "id": "a15cdd8c-021f-4307-b5e1-08191dfa2aa0",
   "metadata": {},
   "source": [
    "## Data preparation before activity estimation "
   ]
  },
  {
   "cell_type": "code",
   "execution_count": 8,
   "id": "a6755289-79fb-44b1-8115-7fdafe51c2d4",
   "metadata": {},
   "outputs": [],
   "source": [
    "decouple_kws =  {'source': 'source', 'target': 'target', 'weight': 'weight', 'min_n': 5}"
   ]
  },
  {
   "cell_type": "code",
   "execution_count": 9,
   "id": "193ed24e-bedf-4a8b-97b0-89e044b7fcfb",
   "metadata": {},
   "outputs": [],
   "source": [
    "mat_regnet, obs_regnet, var_regnet, regnet, groupby_regnet = dc.format_benchmark_inputs(mat = mat, obs = obs, sign = -1, net = regnet_filtered, by = 'experiment', perturb='TF', groupby = None, decouple_kws=decouple_kws)\n",
    "mat_doro_ABC, obs_doro_ABC, var_doro_ABC, doro_ABC, groupby_doro_ABC = dc.format_benchmark_inputs(mat = mat, obs = obs, sign = -1, net = doro_ABC, by = 'experiment', perturb='TF', groupby = None, decouple_kws=decouple_kws)\n",
    "mat_collecTRI, obs_collecTRI, var_collecTRI, collecTRI, groupby_collecTRI = dc.format_benchmark_inputs(mat = mat, obs = obs, sign = -1, net = collecTRI, by = 'experiment', perturb='TF', groupby = None, decouple_kws=decouple_kws)"
   ]
  },
  {
   "cell_type": "code",
   "execution_count": 10,
   "id": "2f86b1ed-73ea-4233-b965-a571512251ac",
   "metadata": {},
   "outputs": [],
   "source": [
    "mat_regnet_new = pd.DataFrame(mat_regnet.A, index=obs_regnet.index, columns=var_regnet.index)\n",
    "mat_doro_ABC_new = pd.DataFrame(mat_doro_ABC.A, index=obs_doro_ABC.index, columns=var_doro_ABC.index)\n",
    "mat_collecTRI_new = pd.DataFrame(mat_collecTRI.A, index=obs_collecTRI.index, columns=var_collecTRI.index)"
   ]
  },
  {
   "cell_type": "markdown",
   "id": "e4f85cf2-1bb3-4156-95da-b2cee555d100",
   "metadata": {},
   "source": [
    "## Activity estimation with decoupler"
   ]
  },
  {
   "cell_type": "code",
   "execution_count": 11,
   "id": "14def747-3f05-42a2-9e5f-bf5b088314c0",
   "metadata": {},
   "outputs": [
    {
     "name": "stdout",
     "output_type": "stream",
     "text": [
      "54 features of mat are empty, they will be removed.\n",
      "Running mlm on mat with 229 samples and 21931 targets for 622 sources.\n"
     ]
    },
    {
     "name": "stderr",
     "output_type": "stream",
     "text": [
      "100%|█████████████████████████████████████████████| 1/1 [00:14<00:00, 14.78s/it]\n"
     ]
    },
    {
     "name": "stdout",
     "output_type": "stream",
     "text": [
      "54 features of mat are empty, they will be removed.\n",
      "Running ulm on mat with 229 samples and 21931 targets for 622 sources.\n",
      "54 features of mat are empty, they will be removed.\n",
      "Running wsum on mat with 229 samples and 21931 targets for 622 sources.\n",
      "Infering activities on 1 batches.\n"
     ]
    },
    {
     "name": "stderr",
     "output_type": "stream",
     "text": [
      "100%|████████████████████████████████████████████| 1/1 [04:47<00:00, 287.84s/it]\n"
     ]
    },
    {
     "name": "stdout",
     "output_type": "stream",
     "text": [
      "55 features of mat are empty, they will be removed.\n",
      "Running mlm on mat with 214 samples and 21930 targets for 297 sources.\n"
     ]
    },
    {
     "name": "stderr",
     "output_type": "stream",
     "text": [
      "100%|█████████████████████████████████████████████| 1/1 [00:04<00:00,  4.55s/it]\n"
     ]
    },
    {
     "name": "stdout",
     "output_type": "stream",
     "text": [
      "55 features of mat are empty, they will be removed.\n",
      "Running ulm on mat with 214 samples and 21930 targets for 297 sources.\n",
      "55 features of mat are empty, they will be removed.\n",
      "Running wsum on mat with 214 samples and 21930 targets for 297 sources.\n",
      "Infering activities on 1 batches.\n"
     ]
    },
    {
     "name": "stderr",
     "output_type": "stream",
     "text": [
      "100%|████████████████████████████████████████████| 1/1 [03:37<00:00, 217.16s/it]\n"
     ]
    },
    {
     "name": "stdout",
     "output_type": "stream",
     "text": [
      "52 features of mat are empty, they will be removed.\n",
      "Running mlm on mat with 279 samples and 21933 targets for 774 sources.\n"
     ]
    },
    {
     "name": "stderr",
     "output_type": "stream",
     "text": [
      "100%|█████████████████████████████████████████████| 1/1 [00:16<00:00, 16.55s/it]\n"
     ]
    },
    {
     "name": "stdout",
     "output_type": "stream",
     "text": [
      "52 features of mat are empty, they will be removed.\n",
      "Running ulm on mat with 279 samples and 21933 targets for 774 sources.\n",
      "52 features of mat are empty, they will be removed.\n",
      "Running wsum on mat with 279 samples and 21933 targets for 774 sources.\n",
      "Infering activities on 1 batches.\n"
     ]
    },
    {
     "name": "stderr",
     "output_type": "stream",
     "text": [
      "100%|████████████████████████████████████████████| 1/1 [05:16<00:00, 316.65s/it]\n"
     ]
    }
   ],
   "source": [
    "results_regnet = dc.decouple(mat_regnet_new, net=regnet, source='source', target='target', weight='weight', verbose=True, min_n=5)\n",
    "results_doro = dc.decouple(mat_doro_ABC_new, net=doro_ABC, source='source', target='target', weight='weight', verbose=True, min_n=5)\n",
    "results_collecTRI = dc.decouple(mat_collecTRI_new, net=collecTRI, source='source', target='target', weight='weight', verbose=True, min_n=5)"
   ]
  },
  {
   "cell_type": "markdown",
   "id": "37c24e06-2e98-4042-b885-2e4b00562e5b",
   "metadata": {},
   "source": [
    "### Save results\n",
    "consensus activity scores are safed"
   ]
  },
  {
   "cell_type": "code",
   "execution_count": 12,
   "id": "4f988c1b-6a84-4980-8a78-16345bef0300",
   "metadata": {},
   "outputs": [],
   "source": [
    "pd.DataFrame.to_csv(results_regnet['consensus_estimate'], '../../output/benchmark/regnet_activity.csv')\n",
    "pd.DataFrame.to_csv(results_doro['consensus_estimate'], '../../output/benchmark/dorothea_activity.csv')\n",
    "pd.DataFrame.to_csv(results_collecTRI['consensus_estimate'], '../../output/benchmark/collecTRI_activity.csv')"
   ]
  }
 ],
 "metadata": {
  "kernelspec": {
   "display_name": "decoupler",
   "language": "python",
   "name": "decoupler"
  },
  "language_info": {
   "codemirror_mode": {
    "name": "ipython",
    "version": 3
   },
   "file_extension": ".py",
   "mimetype": "text/x-python",
   "name": "python",
   "nbconvert_exporter": "python",
   "pygments_lexer": "ipython3",
   "version": "3.10.4"
  }
 },
 "nbformat": 4,
 "nbformat_minor": 5
}
