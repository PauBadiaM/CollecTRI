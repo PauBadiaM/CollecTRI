{
 "cells": [
  {
   "cell_type": "markdown",
   "id": "2b05d1e7-252c-41c4-bd97-1f7da2c9b0ea",
   "metadata": {},
   "source": [
    "# Evaluation of binding weights in CollecTRI"
   ]
  },
  {
   "cell_type": "markdown",
   "id": "fb02b247-e3f3-49cb-9179-4bb482bcff4d",
   "metadata": {},
   "source": [
    "## Libraries"
   ]
  },
  {
   "cell_type": "code",
   "execution_count": 1,
   "id": "c3ff99f3-5920-4c4c-a6bf-14c5ec5c7ee0",
   "metadata": {},
   "outputs": [
    {
     "name": "stderr",
     "output_type": "stream",
     "text": [
      "OMP: Info #276: omp_set_nested routine deprecated, please use omp_set_max_active_levels instead.\n"
     ]
    }
   ],
   "source": [
    "import pandas as pd\n",
    "import numpy as np\n",
    "\n",
    "import decoupler as dc\n",
    "import matplotlib.pyplot as plt"
   ]
  },
  {
   "cell_type": "markdown",
   "id": "36f71559-be34-49a9-807e-92bf31049a4a",
   "metadata": {},
   "source": [
    "## Benchmark data"
   ]
  },
  {
   "cell_type": "markdown",
   "id": "3c2eb85e-3757-411b-b5b5-242c307262af",
   "metadata": {},
   "source": [
    "### Load KnockTF data\n",
    "The benchmark data can be downloaded from Zenodo as shown in scripts/benchmark.ipynb"
   ]
  },
  {
   "cell_type": "code",
   "execution_count": 2,
   "id": "a5146554-d8ea-42ce-88c6-dcdc92f60ff8",
   "metadata": {},
   "outputs": [],
   "source": [
    "mat = pd.read_csv('../../data/knockTF_expr.csv', index_col=0)\n",
    "obs = pd.read_csv('../../data/knockTF_meta.csv', index_col=0)"
   ]
  },
  {
   "cell_type": "markdown",
   "id": "970e3c8d-1b82-4a53-9aeb-9306586967ba",
   "metadata": {},
   "source": [
    "### Filter knockTF data\n",
    "Filtering is based on log fold-change of perturbed transcription factors"
   ]
  },
  {
   "cell_type": "code",
   "execution_count": 3,
   "id": "8f40e67b-b84c-4326-bd8b-b1514dc6356b",
   "metadata": {},
   "outputs": [
    {
     "data": {
      "text/plain": [
       "((388, 21985), (388, 13))"
      ]
     },
     "execution_count": 3,
     "metadata": {},
     "output_type": "execute_result"
    }
   ],
   "source": [
    "msk = obs['logFC'] < -1\n",
    "mat = mat[msk]\n",
    "obs = obs[msk]\n",
    "mat.shape, obs.shape"
   ]
  },
  {
   "cell_type": "markdown",
   "id": "8dc05a39-8cfe-4f57-b651-c34fb1437929",
   "metadata": {},
   "source": [
    "## Load weighted GRNs"
   ]
  },
  {
   "cell_type": "code",
   "execution_count": 8,
   "id": "82c01008-6929-40f7-b45f-39ba70295cf8",
   "metadata": {},
   "outputs": [],
   "source": [
    "matRid1raw = pd.read_csv('../../output/weighted_networks/matrixRider_1000bp_raw.csv')\n",
    "matRid1gene = pd.read_csv('../../output/weighted_networks/matrixRider_1000bp_geneNorm.csv')\n",
    "matRid1tf = pd.read_csv('../../output/weighted_networks/matrixRider_1000bp_tfNorm.csv')\n",
    "\n",
    "matRid10raw = pd.read_csv('../../output/weighted_networks/matrixRider_10000bp_raw.csv')\n",
    "matRid10gene = pd.read_csv('../../output/weighted_networks/matrixRider_10000bp_geneNorm.csv')\n",
    "matRid10tf = pd.read_csv('../../output/weighted_networks/matrixRider_10000bp_tfNorm.csv')\n",
    "\n",
    "FIMO1raw = pd.read_csv('../../output/weighted_networks/FIMO_1000bp_raw.csv')\n",
    "FIMO1gene = pd.read_csv('../../output/weighted_networks/FIMO_1000bp_geneNorm.csv')\n",
    "FIMO1tf = pd.read_csv('../../output/weighted_networks/FIMO_1000bp_tfNorm.csv')\n",
    "\n",
    "FIMO10raw = pd.read_csv('../../output/weighted_networks/FIMO_10000bp_raw.csv')\n",
    "FIMO10gene = pd.read_csv('../../output/weighted_networks/FIMO_10000bp_geneNorm.csv')\n",
    "FIMO10tf = pd.read_csv('../../output/weighted_networks/FIMO_10000bp_tfNorm.csv')\n",
    "\n",
    "collecTRI = pd.read_csv('../../output/weighted_networks/matrixRider_1000bp_raw.csv')\n",
    "collecTRI['weight'] = np.where(collecTRI['weight'] >= 0, 1, -1)\n"
   ]
  },
  {
   "cell_type": "markdown",
   "id": "1d2958d6-365e-4686-8aa7-cc0a46fcdea6",
   "metadata": {},
   "source": [
    "## Run benchmark weighted CollecTRI"
   ]
  },
  {
   "cell_type": "code",
   "execution_count": 9,
   "id": "cee4a47a-cf7a-4beb-8d39-65a69d3ccdb0",
   "metadata": {},
   "outputs": [
    {
     "name": "stdout",
     "output_type": "stream",
     "text": [
      "Using collecTRI network...\n",
      "Extracting inputs...\n",
      "Formating net...\n",
      "128 experiments without sources in net, they will be removed.\n",
      "Running methods...\n",
      "52 features of mat are empty, they will be removed.\n",
      "Running mlm on mat with 260 samples and 21933 targets for 578 sources.\n"
     ]
    },
    {
     "name": "stderr",
     "output_type": "stream",
     "text": [
      "100%|█████████████████████████████████████████████| 1/1 [00:00<00:00,  1.08it/s]\n"
     ]
    },
    {
     "name": "stdout",
     "output_type": "stream",
     "text": [
      "52 features of mat are empty, they will be removed.\n",
      "Running ulm on mat with 260 samples and 21933 targets for 578 sources.\n",
      "52 features of mat are empty, they will be removed.\n",
      "Running wsum on mat with 260 samples and 21933 targets for 578 sources.\n",
      "Infering activities on 1 batches.\n"
     ]
    },
    {
     "name": "stderr",
     "output_type": "stream",
     "text": [
      "100%|█████████████████████████████████████████████| 1/1 [00:48<00:00, 48.51s/it]\n"
     ]
    },
    {
     "name": "stdout",
     "output_type": "stream",
     "text": [
      "Calculating metrics...\n",
      "Computing metrics...\n",
      "Done.\n",
      "Using matRid1raw network...\n",
      "Extracting inputs...\n",
      "Formating net...\n",
      "128 experiments without sources in net, they will be removed.\n",
      "Running methods...\n",
      "52 features of mat are empty, they will be removed.\n",
      "Running mlm on mat with 260 samples and 21933 targets for 578 sources.\n"
     ]
    },
    {
     "name": "stderr",
     "output_type": "stream",
     "text": [
      "100%|█████████████████████████████████████████████| 1/1 [00:00<00:00,  1.12it/s]\n"
     ]
    },
    {
     "name": "stdout",
     "output_type": "stream",
     "text": [
      "52 features of mat are empty, they will be removed.\n",
      "Running ulm on mat with 260 samples and 21933 targets for 578 sources.\n",
      "52 features of mat are empty, they will be removed.\n",
      "Running wsum on mat with 260 samples and 21933 targets for 578 sources.\n",
      "Infering activities on 1 batches.\n"
     ]
    },
    {
     "name": "stderr",
     "output_type": "stream",
     "text": [
      "100%|█████████████████████████████████████████████| 1/1 [00:48<00:00, 48.70s/it]\n"
     ]
    },
    {
     "name": "stdout",
     "output_type": "stream",
     "text": [
      "Calculating metrics...\n",
      "Computing metrics...\n",
      "Done.\n",
      "Using matRid1gene network...\n",
      "Extracting inputs...\n",
      "Formating net...\n",
      "128 experiments without sources in net, they will be removed.\n",
      "Running methods...\n",
      "52 features of mat are empty, they will be removed.\n",
      "Running mlm on mat with 260 samples and 21933 targets for 578 sources.\n"
     ]
    },
    {
     "name": "stderr",
     "output_type": "stream",
     "text": [
      "100%|█████████████████████████████████████████████| 1/1 [00:00<00:00,  1.06it/s]\n"
     ]
    },
    {
     "name": "stdout",
     "output_type": "stream",
     "text": [
      "52 features of mat are empty, they will be removed.\n",
      "Running ulm on mat with 260 samples and 21933 targets for 578 sources.\n",
      "52 features of mat are empty, they will be removed.\n",
      "Running wsum on mat with 260 samples and 21933 targets for 578 sources.\n",
      "Infering activities on 1 batches.\n"
     ]
    },
    {
     "name": "stderr",
     "output_type": "stream",
     "text": [
      "100%|█████████████████████████████████████████████| 1/1 [01:03<00:00, 63.98s/it]\n"
     ]
    },
    {
     "name": "stdout",
     "output_type": "stream",
     "text": [
      "Calculating metrics...\n",
      "Computing metrics...\n",
      "Done.\n",
      "Using matRid1tf network...\n",
      "Extracting inputs...\n",
      "Formating net...\n",
      "128 experiments without sources in net, they will be removed.\n",
      "Running methods...\n",
      "52 features of mat are empty, they will be removed.\n",
      "Running mlm on mat with 260 samples and 21933 targets for 578 sources.\n"
     ]
    },
    {
     "name": "stderr",
     "output_type": "stream",
     "text": [
      "100%|█████████████████████████████████████████████| 1/1 [00:00<00:00,  1.11it/s]\n"
     ]
    },
    {
     "name": "stdout",
     "output_type": "stream",
     "text": [
      "52 features of mat are empty, they will be removed.\n",
      "Running ulm on mat with 260 samples and 21933 targets for 578 sources.\n",
      "52 features of mat are empty, they will be removed.\n",
      "Running wsum on mat with 260 samples and 21933 targets for 578 sources.\n",
      "Infering activities on 1 batches.\n"
     ]
    },
    {
     "name": "stderr",
     "output_type": "stream",
     "text": [
      "100%|█████████████████████████████████████████████| 1/1 [00:52<00:00, 52.05s/it]\n"
     ]
    },
    {
     "name": "stdout",
     "output_type": "stream",
     "text": [
      "Calculating metrics...\n",
      "Computing metrics...\n",
      "Done.\n",
      "Using matRid10raw network...\n",
      "Extracting inputs...\n",
      "Formating net...\n",
      "128 experiments without sources in net, they will be removed.\n",
      "Running methods...\n",
      "52 features of mat are empty, they will be removed.\n",
      "Running mlm on mat with 260 samples and 21933 targets for 578 sources.\n"
     ]
    },
    {
     "name": "stderr",
     "output_type": "stream",
     "text": [
      "100%|█████████████████████████████████████████████| 1/1 [00:00<00:00,  1.09it/s]\n"
     ]
    },
    {
     "name": "stdout",
     "output_type": "stream",
     "text": [
      "52 features of mat are empty, they will be removed.\n",
      "Running ulm on mat with 260 samples and 21933 targets for 578 sources.\n",
      "52 features of mat are empty, they will be removed.\n",
      "Running wsum on mat with 260 samples and 21933 targets for 578 sources.\n",
      "Infering activities on 1 batches.\n"
     ]
    },
    {
     "name": "stderr",
     "output_type": "stream",
     "text": [
      "100%|█████████████████████████████████████████████| 1/1 [00:51<00:00, 51.92s/it]\n"
     ]
    },
    {
     "name": "stdout",
     "output_type": "stream",
     "text": [
      "Calculating metrics...\n",
      "Computing metrics...\n",
      "Done.\n",
      "Using matRid10gene network...\n",
      "Extracting inputs...\n",
      "Formating net...\n",
      "128 experiments without sources in net, they will be removed.\n",
      "Running methods...\n",
      "52 features of mat are empty, they will be removed.\n",
      "Running mlm on mat with 260 samples and 21933 targets for 578 sources.\n"
     ]
    },
    {
     "name": "stderr",
     "output_type": "stream",
     "text": [
      "100%|█████████████████████████████████████████████| 1/1 [00:00<00:00,  1.11it/s]\n"
     ]
    },
    {
     "name": "stdout",
     "output_type": "stream",
     "text": [
      "52 features of mat are empty, they will be removed.\n",
      "Running ulm on mat with 260 samples and 21933 targets for 578 sources.\n",
      "52 features of mat are empty, they will be removed.\n",
      "Running wsum on mat with 260 samples and 21933 targets for 578 sources.\n",
      "Infering activities on 1 batches.\n"
     ]
    },
    {
     "name": "stderr",
     "output_type": "stream",
     "text": [
      "100%|█████████████████████████████████████████████| 1/1 [00:50<00:00, 50.63s/it]\n"
     ]
    },
    {
     "name": "stdout",
     "output_type": "stream",
     "text": [
      "Calculating metrics...\n",
      "Computing metrics...\n",
      "Done.\n",
      "Using matRid10tf network...\n",
      "Extracting inputs...\n",
      "Formating net...\n",
      "128 experiments without sources in net, they will be removed.\n",
      "Running methods...\n",
      "52 features of mat are empty, they will be removed.\n",
      "Running mlm on mat with 260 samples and 21933 targets for 578 sources.\n"
     ]
    },
    {
     "name": "stderr",
     "output_type": "stream",
     "text": [
      "100%|█████████████████████████████████████████████| 1/1 [00:00<00:00,  1.09it/s]\n"
     ]
    },
    {
     "name": "stdout",
     "output_type": "stream",
     "text": [
      "52 features of mat are empty, they will be removed.\n",
      "Running ulm on mat with 260 samples and 21933 targets for 578 sources.\n",
      "52 features of mat are empty, they will be removed.\n",
      "Running wsum on mat with 260 samples and 21933 targets for 578 sources.\n",
      "Infering activities on 1 batches.\n"
     ]
    },
    {
     "name": "stderr",
     "output_type": "stream",
     "text": [
      "100%|█████████████████████████████████████████████| 1/1 [00:50<00:00, 50.77s/it]\n"
     ]
    },
    {
     "name": "stdout",
     "output_type": "stream",
     "text": [
      "Calculating metrics...\n",
      "Computing metrics...\n",
      "Done.\n",
      "Using FIMO1raw network...\n",
      "Extracting inputs...\n",
      "Formating net...\n",
      "128 experiments without sources in net, they will be removed.\n",
      "Running methods...\n",
      "52 features of mat are empty, they will be removed.\n",
      "Running mlm on mat with 260 samples and 21933 targets for 578 sources.\n"
     ]
    },
    {
     "name": "stderr",
     "output_type": "stream",
     "text": [
      "100%|█████████████████████████████████████████████| 1/1 [00:00<00:00,  1.11it/s]\n"
     ]
    },
    {
     "name": "stdout",
     "output_type": "stream",
     "text": [
      "52 features of mat are empty, they will be removed.\n",
      "Running ulm on mat with 260 samples and 21933 targets for 578 sources.\n",
      "52 features of mat are empty, they will be removed.\n",
      "Running wsum on mat with 260 samples and 21933 targets for 578 sources.\n",
      "Infering activities on 1 batches.\n"
     ]
    },
    {
     "name": "stderr",
     "output_type": "stream",
     "text": [
      "100%|█████████████████████████████████████████████| 1/1 [00:51<00:00, 51.36s/it]\n"
     ]
    },
    {
     "name": "stdout",
     "output_type": "stream",
     "text": [
      "Calculating metrics...\n",
      "Computing metrics...\n",
      "Done.\n",
      "Using FIMO1gene network...\n",
      "Extracting inputs...\n",
      "Formating net...\n",
      "128 experiments without sources in net, they will be removed.\n",
      "Running methods...\n",
      "52 features of mat are empty, they will be removed.\n",
      "Running mlm on mat with 260 samples and 21933 targets for 578 sources.\n"
     ]
    },
    {
     "name": "stderr",
     "output_type": "stream",
     "text": [
      "100%|█████████████████████████████████████████████| 1/1 [00:00<00:00,  1.08it/s]\n"
     ]
    },
    {
     "name": "stdout",
     "output_type": "stream",
     "text": [
      "52 features of mat are empty, they will be removed.\n",
      "Running ulm on mat with 260 samples and 21933 targets for 578 sources.\n",
      "52 features of mat are empty, they will be removed.\n",
      "Running wsum on mat with 260 samples and 21933 targets for 578 sources.\n",
      "Infering activities on 1 batches.\n"
     ]
    },
    {
     "name": "stderr",
     "output_type": "stream",
     "text": [
      "100%|█████████████████████████████████████████████| 1/1 [00:53<00:00, 53.97s/it]\n"
     ]
    },
    {
     "name": "stdout",
     "output_type": "stream",
     "text": [
      "Calculating metrics...\n",
      "Computing metrics...\n",
      "Done.\n",
      "Using FIMO1tf network...\n",
      "Extracting inputs...\n",
      "Formating net...\n",
      "128 experiments without sources in net, they will be removed.\n",
      "Running methods...\n",
      "52 features of mat are empty, they will be removed.\n",
      "Running mlm on mat with 260 samples and 21933 targets for 578 sources.\n"
     ]
    },
    {
     "name": "stderr",
     "output_type": "stream",
     "text": [
      "100%|█████████████████████████████████████████████| 1/1 [00:00<00:00,  1.02it/s]\n"
     ]
    },
    {
     "name": "stdout",
     "output_type": "stream",
     "text": [
      "52 features of mat are empty, they will be removed.\n",
      "Running ulm on mat with 260 samples and 21933 targets for 578 sources.\n",
      "52 features of mat are empty, they will be removed.\n",
      "Running wsum on mat with 260 samples and 21933 targets for 578 sources.\n",
      "Infering activities on 1 batches.\n"
     ]
    },
    {
     "name": "stderr",
     "output_type": "stream",
     "text": [
      "100%|█████████████████████████████████████████████| 1/1 [00:54<00:00, 54.03s/it]\n"
     ]
    },
    {
     "name": "stdout",
     "output_type": "stream",
     "text": [
      "Calculating metrics...\n",
      "Computing metrics...\n",
      "Done.\n",
      "Using FIMO10raw network...\n",
      "Extracting inputs...\n",
      "Formating net...\n",
      "128 experiments without sources in net, they will be removed.\n",
      "Running methods...\n",
      "52 features of mat are empty, they will be removed.\n",
      "Running mlm on mat with 260 samples and 21933 targets for 578 sources.\n"
     ]
    },
    {
     "name": "stderr",
     "output_type": "stream",
     "text": [
      "100%|█████████████████████████████████████████████| 1/1 [00:01<00:00,  1.01s/it]\n"
     ]
    },
    {
     "name": "stdout",
     "output_type": "stream",
     "text": [
      "52 features of mat are empty, they will be removed.\n",
      "Running ulm on mat with 260 samples and 21933 targets for 578 sources.\n",
      "52 features of mat are empty, they will be removed.\n",
      "Running wsum on mat with 260 samples and 21933 targets for 578 sources.\n",
      "Infering activities on 1 batches.\n"
     ]
    },
    {
     "name": "stderr",
     "output_type": "stream",
     "text": [
      "100%|█████████████████████████████████████████████| 1/1 [00:53<00:00, 53.97s/it]\n"
     ]
    },
    {
     "name": "stdout",
     "output_type": "stream",
     "text": [
      "Calculating metrics...\n",
      "Computing metrics...\n",
      "Done.\n",
      "Using FIMO10gene network...\n",
      "Extracting inputs...\n",
      "Formating net...\n",
      "128 experiments without sources in net, they will be removed.\n",
      "Running methods...\n",
      "52 features of mat are empty, they will be removed.\n",
      "Running mlm on mat with 260 samples and 21933 targets for 578 sources.\n"
     ]
    },
    {
     "name": "stderr",
     "output_type": "stream",
     "text": [
      "100%|█████████████████████████████████████████████| 1/1 [00:00<00:00,  1.00it/s]\n"
     ]
    },
    {
     "name": "stdout",
     "output_type": "stream",
     "text": [
      "52 features of mat are empty, they will be removed.\n",
      "Running ulm on mat with 260 samples and 21933 targets for 578 sources.\n",
      "52 features of mat are empty, they will be removed.\n",
      "Running wsum on mat with 260 samples and 21933 targets for 578 sources.\n",
      "Infering activities on 1 batches.\n"
     ]
    },
    {
     "name": "stderr",
     "output_type": "stream",
     "text": [
      "100%|█████████████████████████████████████████████| 1/1 [00:53<00:00, 53.61s/it]\n"
     ]
    },
    {
     "name": "stdout",
     "output_type": "stream",
     "text": [
      "Calculating metrics...\n",
      "Computing metrics...\n",
      "Done.\n",
      "Using FIMO10tf network...\n",
      "Extracting inputs...\n",
      "Formating net...\n",
      "128 experiments without sources in net, they will be removed.\n",
      "Running methods...\n",
      "52 features of mat are empty, they will be removed.\n",
      "Running mlm on mat with 260 samples and 21933 targets for 578 sources.\n"
     ]
    },
    {
     "name": "stderr",
     "output_type": "stream",
     "text": [
      "100%|█████████████████████████████████████████████| 1/1 [00:00<00:00,  1.09it/s]\n"
     ]
    },
    {
     "name": "stdout",
     "output_type": "stream",
     "text": [
      "52 features of mat are empty, they will be removed.\n",
      "Running ulm on mat with 260 samples and 21933 targets for 578 sources.\n",
      "52 features of mat are empty, they will be removed.\n",
      "Running wsum on mat with 260 samples and 21933 targets for 578 sources.\n",
      "Infering activities on 1 batches.\n"
     ]
    },
    {
     "name": "stderr",
     "output_type": "stream",
     "text": [
      "100%|█████████████████████████████████████████████| 1/1 [00:50<00:00, 50.86s/it]\n"
     ]
    },
    {
     "name": "stdout",
     "output_type": "stream",
     "text": [
      "Calculating metrics...\n",
      "Computing metrics...\n",
      "Done.\n"
     ]
    }
   ],
   "source": [
    "# Build dictionary of networks to test\n",
    "nets = {\n",
    "    'collecTRI': collecTRI,\n",
    "    'matRid1raw': matRid1raw,\n",
    "    'matRid1gene': matRid1gene,\n",
    "    'matRid1tf': matRid1tf,\n",
    "    'matRid10raw': matRid10raw,\n",
    "    'matRid10gene': matRid10gene,\n",
    "    'matRid10tf': matRid10tf,\n",
    "    'FIMO1raw': FIMO1raw,\n",
    "    'FIMO1gene': FIMO1gene,\n",
    "    'FIMO1tf': FIMO1tf,\n",
    "    'FIMO10raw': FIMO10raw,\n",
    "    'FIMO10gene': FIMO10gene,\n",
    "    'FIMO10tf': FIMO10tf\n",
    "}\n",
    "\n",
    "# Example extra arguments\n",
    "decouple_kws = {\n",
    "    'collecTRI': {'args' : {'wsum' : {'times': 1000}}},\n",
    "    'matRid1raw': {'args' : {'wsum' : {'times': 1000}}},\n",
    "    'matRid1gene': {'args' : {'wsum' : {'times': 1000}}},\n",
    "    'matRid1tf': {'args' : {'wsum' : {'times': 1000}}},\n",
    "    'matRid10raw': {'args' : {'wsum' : {'times': 1000}}},\n",
    "    'matRid10gene': {'args' : {'wsum' : {'times': 1000}}},\n",
    "    'matRid10tf': {'args' : {'wsum' : {'times': 1000}}},\n",
    "    'FIMO1raw': {'args' : {'wsum' : {'times': 1000}}},\n",
    "    'FIMO1gene': {'args' : {'wsum' : {'times': 1000}}},\n",
    "    'FIMO1tf': {'args' : {'wsum' : {'times': 1000}}},\n",
    "    'FIMO10raw': {'args' : {'wsum' : {'times': 1000}}},\n",
    "    'FIMO10gene': {'args' : {'wsum' : {'times': 1000}}},\n",
    "    'FIMO10tf': {'args' : {'wsum' : {'times': 1000}}}\n",
    "}\n",
    "\n",
    "# Run benchmark pipeline\n",
    "df_weights = dc.benchmark(mat, obs, nets, perturb='TF', sign=-1, decouple_kws=decouple_kws)"
   ]
  },
  {
   "cell_type": "markdown",
   "id": "ec7b0daf-b991-4109-8077-0e76f9a1cf94",
   "metadata": {},
   "source": [
    "### Save data"
   ]
  },
  {
   "cell_type": "code",
   "execution_count": 10,
   "id": "b5e3cbe8-0bac-4248-89e5-d2c1de93d2e2",
   "metadata": {},
   "outputs": [],
   "source": [
    "pd.DataFrame.to_csv(df_weights, '../../output/benchmark/benchmark_weights_res.csv')"
   ]
  },
  {
   "cell_type": "markdown",
   "id": "ddcb4bbe-cab2-473a-929b-a146e09680ce",
   "metadata": {},
   "source": [
    "## Load filtered GRNs based on weights "
   ]
  },
  {
   "cell_type": "code",
   "execution_count": 4,
   "id": "3954c2ab-570d-401c-8ca3-c6d9f6d7ecb9",
   "metadata": {},
   "outputs": [],
   "source": [
    "matRid1raw = pd.read_csv('../../output/weighted_networks/matrixRider_1000bp_raw.csv')\n",
    "matRid1raw['weight'] = np.where(matRid1raw['weight'] >= 0, 1, -1)\n",
    "matRid1_10 = pd.read_csv('../../output/weighted_networks/matrixRider_1000bp_filtered10.csv')\n",
    "matRid1_20 = pd.read_csv('../../output/weighted_networks/matrixRider_1000bp_filtered20.csv')\n",
    "matRid1_30 = pd.read_csv('../../output/weighted_networks/matrixRider_1000bp_filtered30.csv')\n",
    "\n",
    "matRid10raw = pd.read_csv('../../output/weighted_networks/matrixRider_10000bp_raw.csv')\n",
    "matRid10raw['weight'] = np.where(matRid10raw['weight'] >= 0, 1, -1)\n",
    "matRid10_10 = pd.read_csv('../../output/weighted_networks/matrixRider_10000bp_filtered10.csv')\n",
    "matRid10_20 = pd.read_csv('../../output/weighted_networks/matrixRider_10000bp_filtered20.csv')\n",
    "matRid10_30 = pd.read_csv('../../output/weighted_networks/matrixRider_10000bp_filtered30.csv')\n",
    "\n",
    "FIMO1raw = pd.read_csv('../../output/weighted_networks/FIMO_1000bp_raw.csv')\n",
    "FIMO1raw['weight'] = np.where(FIMO1raw['weight'] >= 0, 1, -1)\n",
    "FIMO1_10 = pd.read_csv('../../output/weighted_networks/FIMO_1000bp_filtered10.csv')\n",
    "FIMO1_20 = pd.read_csv('../../output/weighted_networks/FIMO_1000bp_filtered20.csv')\n",
    "FIMO1_30 = pd.read_csv('../../output/weighted_networks/FIMO_1000bp_filtered30.csv')\n",
    "\n",
    "FIMO10raw = pd.read_csv('../../output/weighted_networks/FIMO_10000bp_raw.csv')\n",
    "FIMO10raw['weight'] = np.where(FIMO10raw['weight'] >= 0, 1, -1)\n",
    "FIMO10_10 = pd.read_csv('../../output/weighted_networks/FIMO_10000bp_filtered10.csv')\n",
    "FIMO10_20 = pd.read_csv('../../output/weighted_networks/FIMO_10000bp_filtered20.csv')\n",
    "FIMO10_30 = pd.read_csv('../../output/weighted_networks/FIMO_10000bp_filtered30.csv')\n",
    "\n",
    "collecTRI = pd.read_csv('../../output/weighted_networks/matrixRider_1000bp_raw.csv')\n",
    "collecTRI['weight'] = np.where(matRid1raw['weight'] >= 0, 1, -1)\n",
    "collecTRI_10 = pd.read_csv('../../output/weighted_networks/random10.csv')\n",
    "collecTRI_20 = pd.read_csv('../../output/weighted_networks/random20.csv')\n",
    "collecTRI_30 = pd.read_csv('../../output/weighted_networks/random30.csv')\n"
   ]
  },
  {
   "cell_type": "markdown",
   "id": "7692de2c-9cff-412e-bae5-b35ad93b1c9e",
   "metadata": {},
   "source": [
    "## Run benchmark of filtered CollecTRI"
   ]
  },
  {
   "cell_type": "code",
   "execution_count": 5,
   "id": "fabc1923-e705-497a-b6f3-a3262c242813",
   "metadata": {},
   "outputs": [
    {
     "name": "stdout",
     "output_type": "stream",
     "text": [
      "Using matRid1raw network...\n",
      "Extracting inputs...\n",
      "Formating net...\n",
      "128 experiments without sources in net, they will be removed.\n",
      "Running methods...\n",
      "52 features of mat are empty, they will be removed.\n",
      "Running mlm on mat with 260 samples and 21933 targets for 578 sources.\n"
     ]
    },
    {
     "name": "stderr",
     "output_type": "stream",
     "text": [
      "100%|█████████████████████████████████████████████| 1/1 [00:00<00:00,  1.23it/s]\n"
     ]
    },
    {
     "name": "stdout",
     "output_type": "stream",
     "text": [
      "52 features of mat are empty, they will be removed.\n",
      "Running ulm on mat with 260 samples and 21933 targets for 578 sources.\n",
      "52 features of mat are empty, they will be removed.\n",
      "Running wsum on mat with 260 samples and 21933 targets for 578 sources.\n",
      "Infering activities on 1 batches.\n"
     ]
    },
    {
     "name": "stderr",
     "output_type": "stream",
     "text": [
      "100%|█████████████████████████████████████████████| 1/1 [01:02<00:00, 62.66s/it]\n"
     ]
    },
    {
     "name": "stdout",
     "output_type": "stream",
     "text": [
      "Calculating metrics...\n",
      "Computing metrics...\n",
      "Done.\n",
      "Using matRid1_10 network...\n",
      "Extracting inputs...\n",
      "Formating net...\n",
      "137 experiments without sources in net, they will be removed.\n",
      "Running methods...\n",
      "52 features of mat are empty, they will be removed.\n",
      "Running mlm on mat with 251 samples and 21933 targets for 531 sources.\n"
     ]
    },
    {
     "name": "stderr",
     "output_type": "stream",
     "text": [
      "100%|█████████████████████████████████████████████| 1/1 [00:01<00:00,  1.12s/it]\n"
     ]
    },
    {
     "name": "stdout",
     "output_type": "stream",
     "text": [
      "52 features of mat are empty, they will be removed.\n",
      "Running ulm on mat with 251 samples and 21933 targets for 531 sources.\n",
      "52 features of mat are empty, they will be removed.\n",
      "Running wsum on mat with 251 samples and 21933 targets for 531 sources.\n",
      "Infering activities on 1 batches.\n"
     ]
    },
    {
     "name": "stderr",
     "output_type": "stream",
     "text": [
      "100%|█████████████████████████████████████████████| 1/1 [00:52<00:00, 52.75s/it]\n"
     ]
    },
    {
     "name": "stdout",
     "output_type": "stream",
     "text": [
      "Calculating metrics...\n",
      "Computing metrics...\n",
      "Done.\n",
      "Using matRid1_20 network...\n",
      "Extracting inputs...\n",
      "Formating net...\n",
      "139 experiments without sources in net, they will be removed.\n",
      "Running methods...\n",
      "52 features of mat are empty, they will be removed.\n",
      "Running mlm on mat with 249 samples and 21933 targets for 508 sources.\n"
     ]
    },
    {
     "name": "stderr",
     "output_type": "stream",
     "text": [
      "100%|█████████████████████████████████████████████| 1/1 [00:00<00:00,  1.20it/s]\n"
     ]
    },
    {
     "name": "stdout",
     "output_type": "stream",
     "text": [
      "52 features of mat are empty, they will be removed.\n",
      "Running ulm on mat with 249 samples and 21933 targets for 508 sources.\n",
      "52 features of mat are empty, they will be removed.\n",
      "Running wsum on mat with 249 samples and 21933 targets for 508 sources.\n",
      "Infering activities on 1 batches.\n"
     ]
    },
    {
     "name": "stderr",
     "output_type": "stream",
     "text": [
      "100%|█████████████████████████████████████████████| 1/1 [00:56<00:00, 56.82s/it]\n"
     ]
    },
    {
     "name": "stdout",
     "output_type": "stream",
     "text": [
      "Calculating metrics...\n",
      "Computing metrics...\n",
      "Done.\n",
      "Using matRid1_30 network...\n",
      "Extracting inputs...\n",
      "Formating net...\n",
      "145 experiments without sources in net, they will be removed.\n",
      "Running methods...\n",
      "52 features of mat are empty, they will be removed.\n",
      "Running mlm on mat with 243 samples and 21933 targets for 486 sources.\n"
     ]
    },
    {
     "name": "stderr",
     "output_type": "stream",
     "text": [
      "100%|█████████████████████████████████████████████| 1/1 [00:00<00:00,  1.09it/s]\n"
     ]
    },
    {
     "name": "stdout",
     "output_type": "stream",
     "text": [
      "52 features of mat are empty, they will be removed.\n",
      "Running ulm on mat with 243 samples and 21933 targets for 486 sources.\n",
      "52 features of mat are empty, they will be removed.\n",
      "Running wsum on mat with 243 samples and 21933 targets for 486 sources.\n",
      "Infering activities on 1 batches.\n"
     ]
    },
    {
     "name": "stderr",
     "output_type": "stream",
     "text": [
      "100%|█████████████████████████████████████████████| 1/1 [00:53<00:00, 53.60s/it]\n"
     ]
    },
    {
     "name": "stdout",
     "output_type": "stream",
     "text": [
      "Calculating metrics...\n",
      "Computing metrics...\n",
      "Done.\n",
      "Using matRid10raw network...\n",
      "Extracting inputs...\n",
      "Formating net...\n",
      "128 experiments without sources in net, they will be removed.\n",
      "Running methods...\n",
      "52 features of mat are empty, they will be removed.\n",
      "Running mlm on mat with 260 samples and 21933 targets for 578 sources.\n"
     ]
    },
    {
     "name": "stderr",
     "output_type": "stream",
     "text": [
      "100%|█████████████████████████████████████████████| 1/1 [00:00<00:00,  1.08it/s]\n"
     ]
    },
    {
     "name": "stdout",
     "output_type": "stream",
     "text": [
      "52 features of mat are empty, they will be removed.\n",
      "Running ulm on mat with 260 samples and 21933 targets for 578 sources.\n",
      "52 features of mat are empty, they will be removed.\n",
      "Running wsum on mat with 260 samples and 21933 targets for 578 sources.\n",
      "Infering activities on 1 batches.\n"
     ]
    },
    {
     "name": "stderr",
     "output_type": "stream",
     "text": [
      "100%|█████████████████████████████████████████████| 1/1 [00:56<00:00, 56.90s/it]\n"
     ]
    },
    {
     "name": "stdout",
     "output_type": "stream",
     "text": [
      "Calculating metrics...\n",
      "Computing metrics...\n",
      "Done.\n",
      "Using matRid10_10 network...\n",
      "Extracting inputs...\n",
      "Formating net...\n",
      "136 experiments without sources in net, they will be removed.\n",
      "Running methods...\n",
      "52 features of mat are empty, they will be removed.\n",
      "Running mlm on mat with 252 samples and 21933 targets for 538 sources.\n"
     ]
    },
    {
     "name": "stderr",
     "output_type": "stream",
     "text": [
      "100%|█████████████████████████████████████████████| 1/1 [00:00<00:00,  1.12it/s]\n"
     ]
    },
    {
     "name": "stdout",
     "output_type": "stream",
     "text": [
      "52 features of mat are empty, they will be removed.\n",
      "Running ulm on mat with 252 samples and 21933 targets for 538 sources.\n",
      "52 features of mat are empty, they will be removed.\n",
      "Running wsum on mat with 252 samples and 21933 targets for 538 sources.\n",
      "Infering activities on 1 batches.\n"
     ]
    },
    {
     "name": "stderr",
     "output_type": "stream",
     "text": [
      "100%|█████████████████████████████████████████████| 1/1 [00:56<00:00, 56.65s/it]\n"
     ]
    },
    {
     "name": "stdout",
     "output_type": "stream",
     "text": [
      "Calculating metrics...\n",
      "Computing metrics...\n",
      "Done.\n",
      "Using matRid10_20 network...\n",
      "Extracting inputs...\n",
      "Formating net...\n",
      "141 experiments without sources in net, they will be removed.\n",
      "Running methods...\n",
      "52 features of mat are empty, they will be removed.\n",
      "Running mlm on mat with 247 samples and 21933 targets for 522 sources.\n"
     ]
    },
    {
     "name": "stderr",
     "output_type": "stream",
     "text": [
      "100%|█████████████████████████████████████████████| 1/1 [00:00<00:00,  1.21it/s]\n"
     ]
    },
    {
     "name": "stdout",
     "output_type": "stream",
     "text": [
      "52 features of mat are empty, they will be removed.\n",
      "Running ulm on mat with 247 samples and 21933 targets for 522 sources.\n",
      "52 features of mat are empty, they will be removed.\n",
      "Running wsum on mat with 247 samples and 21933 targets for 522 sources.\n",
      "Infering activities on 1 batches.\n"
     ]
    },
    {
     "name": "stderr",
     "output_type": "stream",
     "text": [
      "100%|█████████████████████████████████████████████| 1/1 [00:51<00:00, 51.48s/it]\n"
     ]
    },
    {
     "name": "stdout",
     "output_type": "stream",
     "text": [
      "Calculating metrics...\n",
      "Computing metrics...\n",
      "Done.\n",
      "Using matRid10_30 network...\n",
      "Extracting inputs...\n",
      "Formating net...\n",
      "144 experiments without sources in net, they will be removed.\n",
      "Running methods...\n",
      "52 features of mat are empty, they will be removed.\n",
      "Running mlm on mat with 244 samples and 21933 targets for 494 sources.\n"
     ]
    },
    {
     "name": "stderr",
     "output_type": "stream",
     "text": [
      "100%|█████████████████████████████████████████████| 1/1 [00:01<00:00,  1.15s/it]\n"
     ]
    },
    {
     "name": "stdout",
     "output_type": "stream",
     "text": [
      "52 features of mat are empty, they will be removed.\n",
      "Running ulm on mat with 244 samples and 21933 targets for 494 sources.\n",
      "52 features of mat are empty, they will be removed.\n",
      "Running wsum on mat with 244 samples and 21933 targets for 494 sources.\n",
      "Infering activities on 1 batches.\n"
     ]
    },
    {
     "name": "stderr",
     "output_type": "stream",
     "text": [
      "100%|█████████████████████████████████████████████| 1/1 [00:57<00:00, 57.93s/it]\n"
     ]
    },
    {
     "name": "stdout",
     "output_type": "stream",
     "text": [
      "Calculating metrics...\n",
      "Computing metrics...\n",
      "Done.\n",
      "Using FIMO1raw network...\n",
      "Extracting inputs...\n",
      "Formating net...\n",
      "128 experiments without sources in net, they will be removed.\n",
      "Running methods...\n",
      "52 features of mat are empty, they will be removed.\n",
      "Running mlm on mat with 260 samples and 21933 targets for 578 sources.\n"
     ]
    },
    {
     "name": "stderr",
     "output_type": "stream",
     "text": [
      "100%|█████████████████████████████████████████████| 1/1 [00:00<00:00,  1.07it/s]\n"
     ]
    },
    {
     "name": "stdout",
     "output_type": "stream",
     "text": [
      "52 features of mat are empty, they will be removed.\n",
      "Running ulm on mat with 260 samples and 21933 targets for 578 sources.\n",
      "52 features of mat are empty, they will be removed.\n",
      "Running wsum on mat with 260 samples and 21933 targets for 578 sources.\n",
      "Infering activities on 1 batches.\n"
     ]
    },
    {
     "name": "stderr",
     "output_type": "stream",
     "text": [
      "100%|█████████████████████████████████████████████| 1/1 [00:56<00:00, 56.27s/it]\n"
     ]
    },
    {
     "name": "stdout",
     "output_type": "stream",
     "text": [
      "Calculating metrics...\n",
      "Computing metrics...\n",
      "Done.\n",
      "Using FIMO1_10 network...\n",
      "Extracting inputs...\n",
      "Formating net...\n",
      "131 experiments without sources in net, they will be removed.\n",
      "Running methods...\n",
      "52 features of mat are empty, they will be removed.\n",
      "Running mlm on mat with 257 samples and 21933 targets for 552 sources.\n"
     ]
    },
    {
     "name": "stderr",
     "output_type": "stream",
     "text": [
      "100%|█████████████████████████████████████████████| 1/1 [00:00<00:00,  1.06it/s]\n"
     ]
    },
    {
     "name": "stdout",
     "output_type": "stream",
     "text": [
      "52 features of mat are empty, they will be removed.\n",
      "Running ulm on mat with 257 samples and 21933 targets for 552 sources.\n",
      "52 features of mat are empty, they will be removed.\n",
      "Running wsum on mat with 257 samples and 21933 targets for 552 sources.\n",
      "Infering activities on 1 batches.\n"
     ]
    },
    {
     "name": "stderr",
     "output_type": "stream",
     "text": [
      "100%|█████████████████████████████████████████████| 1/1 [00:53<00:00, 53.82s/it]\n"
     ]
    },
    {
     "name": "stdout",
     "output_type": "stream",
     "text": [
      "Calculating metrics...\n",
      "Computing metrics...\n",
      "Done.\n",
      "Using FIMO1_20 network...\n",
      "Extracting inputs...\n",
      "Formating net...\n",
      "140 experiments without sources in net, they will be removed.\n",
      "Running methods...\n",
      "52 features of mat are empty, they will be removed.\n",
      "Running mlm on mat with 248 samples and 21933 targets for 525 sources.\n"
     ]
    },
    {
     "name": "stderr",
     "output_type": "stream",
     "text": [
      "100%|█████████████████████████████████████████████| 1/1 [00:00<00:00,  1.17it/s]\n"
     ]
    },
    {
     "name": "stdout",
     "output_type": "stream",
     "text": [
      "52 features of mat are empty, they will be removed.\n",
      "Running ulm on mat with 248 samples and 21933 targets for 525 sources.\n",
      "52 features of mat are empty, they will be removed.\n",
      "Running wsum on mat with 248 samples and 21933 targets for 525 sources.\n",
      "Infering activities on 1 batches.\n"
     ]
    },
    {
     "name": "stderr",
     "output_type": "stream",
     "text": [
      "100%|█████████████████████████████████████████████| 1/1 [00:52<00:00, 52.30s/it]\n"
     ]
    },
    {
     "name": "stdout",
     "output_type": "stream",
     "text": [
      "Calculating metrics...\n",
      "Computing metrics...\n",
      "Done.\n",
      "Using FIMO1_30 network...\n",
      "Extracting inputs...\n",
      "Formating net...\n",
      "148 experiments without sources in net, they will be removed.\n",
      "Running methods...\n",
      "52 features of mat are empty, they will be removed.\n",
      "Running mlm on mat with 240 samples and 21933 targets for 492 sources.\n"
     ]
    },
    {
     "name": "stderr",
     "output_type": "stream",
     "text": [
      "100%|█████████████████████████████████████████████| 1/1 [00:00<00:00,  1.10it/s]\n"
     ]
    },
    {
     "name": "stdout",
     "output_type": "stream",
     "text": [
      "52 features of mat are empty, they will be removed.\n",
      "Running ulm on mat with 240 samples and 21933 targets for 492 sources.\n",
      "52 features of mat are empty, they will be removed.\n",
      "Running wsum on mat with 240 samples and 21933 targets for 492 sources.\n",
      "Infering activities on 1 batches.\n"
     ]
    },
    {
     "name": "stderr",
     "output_type": "stream",
     "text": [
      "100%|█████████████████████████████████████████████| 1/1 [00:53<00:00, 53.62s/it]\n"
     ]
    },
    {
     "name": "stdout",
     "output_type": "stream",
     "text": [
      "Calculating metrics...\n",
      "Computing metrics...\n",
      "Done.\n",
      "Using FIMO10raw network...\n",
      "Extracting inputs...\n",
      "Formating net...\n",
      "128 experiments without sources in net, they will be removed.\n",
      "Running methods...\n",
      "52 features of mat are empty, they will be removed.\n",
      "Running mlm on mat with 260 samples and 21933 targets for 578 sources.\n"
     ]
    },
    {
     "name": "stderr",
     "output_type": "stream",
     "text": [
      "100%|█████████████████████████████████████████████| 1/1 [00:00<00:00,  1.13it/s]\n"
     ]
    },
    {
     "name": "stdout",
     "output_type": "stream",
     "text": [
      "52 features of mat are empty, they will be removed.\n",
      "Running ulm on mat with 260 samples and 21933 targets for 578 sources.\n",
      "52 features of mat are empty, they will be removed.\n",
      "Running wsum on mat with 260 samples and 21933 targets for 578 sources.\n",
      "Infering activities on 1 batches.\n"
     ]
    },
    {
     "name": "stderr",
     "output_type": "stream",
     "text": [
      "100%|█████████████████████████████████████████████| 1/1 [01:01<00:00, 61.39s/it]\n"
     ]
    },
    {
     "name": "stdout",
     "output_type": "stream",
     "text": [
      "Calculating metrics...\n",
      "Computing metrics...\n",
      "Done.\n",
      "Using FIMO10_10 network...\n",
      "Extracting inputs...\n",
      "Formating net...\n",
      "130 experiments without sources in net, they will be removed.\n",
      "Running methods...\n",
      "52 features of mat are empty, they will be removed.\n",
      "Running mlm on mat with 258 samples and 21933 targets for 552 sources.\n"
     ]
    },
    {
     "name": "stderr",
     "output_type": "stream",
     "text": [
      "100%|█████████████████████████████████████████████| 1/1 [00:00<00:00,  1.05it/s]\n"
     ]
    },
    {
     "name": "stdout",
     "output_type": "stream",
     "text": [
      "52 features of mat are empty, they will be removed.\n",
      "Running ulm on mat with 258 samples and 21933 targets for 552 sources.\n",
      "52 features of mat are empty, they will be removed.\n",
      "Running wsum on mat with 258 samples and 21933 targets for 552 sources.\n",
      "Infering activities on 1 batches.\n"
     ]
    },
    {
     "name": "stderr",
     "output_type": "stream",
     "text": [
      "100%|█████████████████████████████████████████████| 1/1 [00:58<00:00, 58.86s/it]\n"
     ]
    },
    {
     "name": "stdout",
     "output_type": "stream",
     "text": [
      "Calculating metrics...\n",
      "Computing metrics...\n",
      "Done.\n",
      "Using FIMO10_20 network...\n",
      "Extracting inputs...\n",
      "Formating net...\n",
      "135 experiments without sources in net, they will be removed.\n",
      "Running methods...\n",
      "52 features of mat are empty, they will be removed.\n",
      "Running mlm on mat with 253 samples and 21933 targets for 521 sources.\n"
     ]
    },
    {
     "name": "stderr",
     "output_type": "stream",
     "text": [
      "100%|█████████████████████████████████████████████| 1/1 [00:00<00:00,  1.15it/s]\n"
     ]
    },
    {
     "name": "stdout",
     "output_type": "stream",
     "text": [
      "52 features of mat are empty, they will be removed.\n",
      "Running ulm on mat with 253 samples and 21933 targets for 521 sources.\n",
      "52 features of mat are empty, they will be removed.\n",
      "Running wsum on mat with 253 samples and 21933 targets for 521 sources.\n",
      "Infering activities on 1 batches.\n"
     ]
    },
    {
     "name": "stderr",
     "output_type": "stream",
     "text": [
      "100%|█████████████████████████████████████████████| 1/1 [00:51<00:00, 51.21s/it]\n"
     ]
    },
    {
     "name": "stdout",
     "output_type": "stream",
     "text": [
      "Calculating metrics...\n",
      "Computing metrics...\n",
      "Done.\n",
      "Using FIMO10_30 network...\n",
      "Extracting inputs...\n",
      "Formating net...\n",
      "145 experiments without sources in net, they will be removed.\n",
      "Running methods...\n",
      "52 features of mat are empty, they will be removed.\n",
      "Running mlm on mat with 243 samples and 21933 targets for 487 sources.\n"
     ]
    },
    {
     "name": "stderr",
     "output_type": "stream",
     "text": [
      "100%|█████████████████████████████████████████████| 1/1 [00:00<00:00,  1.08it/s]\n"
     ]
    },
    {
     "name": "stdout",
     "output_type": "stream",
     "text": [
      "52 features of mat are empty, they will be removed.\n",
      "Running ulm on mat with 243 samples and 21933 targets for 487 sources.\n",
      "52 features of mat are empty, they will be removed.\n",
      "Running wsum on mat with 243 samples and 21933 targets for 487 sources.\n",
      "Infering activities on 1 batches.\n"
     ]
    },
    {
     "name": "stderr",
     "output_type": "stream",
     "text": [
      "100%|█████████████████████████████████████████████| 1/1 [00:50<00:00, 50.72s/it]\n"
     ]
    },
    {
     "name": "stdout",
     "output_type": "stream",
     "text": [
      "Calculating metrics...\n",
      "Computing metrics...\n",
      "Done.\n",
      "Using collecTRI network...\n",
      "Extracting inputs...\n",
      "Formating net...\n",
      "128 experiments without sources in net, they will be removed.\n",
      "Running methods...\n",
      "52 features of mat are empty, they will be removed.\n",
      "Running mlm on mat with 260 samples and 21933 targets for 578 sources.\n"
     ]
    },
    {
     "name": "stderr",
     "output_type": "stream",
     "text": [
      "100%|█████████████████████████████████████████████| 1/1 [00:00<00:00,  1.04it/s]\n"
     ]
    },
    {
     "name": "stdout",
     "output_type": "stream",
     "text": [
      "52 features of mat are empty, they will be removed.\n",
      "Running ulm on mat with 260 samples and 21933 targets for 578 sources.\n",
      "52 features of mat are empty, they will be removed.\n",
      "Running wsum on mat with 260 samples and 21933 targets for 578 sources.\n",
      "Infering activities on 1 batches.\n"
     ]
    },
    {
     "name": "stderr",
     "output_type": "stream",
     "text": [
      "100%|█████████████████████████████████████████████| 1/1 [00:58<00:00, 58.50s/it]\n"
     ]
    },
    {
     "name": "stdout",
     "output_type": "stream",
     "text": [
      "Calculating metrics...\n",
      "Computing metrics...\n",
      "Done.\n",
      "Using collecTRI_10 network...\n",
      "Extracting inputs...\n",
      "Formating net...\n",
      "129 experiments without sources in net, they will be removed.\n",
      "Running methods...\n",
      "52 features of mat are empty, they will be removed.\n",
      "Running mlm on mat with 259 samples and 21933 targets for 564 sources.\n"
     ]
    },
    {
     "name": "stderr",
     "output_type": "stream",
     "text": [
      "100%|█████████████████████████████████████████████| 1/1 [00:00<00:00,  1.03it/s]\n"
     ]
    },
    {
     "name": "stdout",
     "output_type": "stream",
     "text": [
      "52 features of mat are empty, they will be removed.\n",
      "Running ulm on mat with 259 samples and 21933 targets for 564 sources.\n",
      "52 features of mat are empty, they will be removed.\n",
      "Running wsum on mat with 259 samples and 21933 targets for 564 sources.\n",
      "Infering activities on 1 batches.\n"
     ]
    },
    {
     "name": "stderr",
     "output_type": "stream",
     "text": [
      "100%|█████████████████████████████████████████████| 1/1 [00:57<00:00, 57.68s/it]\n"
     ]
    },
    {
     "name": "stdout",
     "output_type": "stream",
     "text": [
      "Calculating metrics...\n",
      "Computing metrics...\n",
      "Done.\n",
      "Using collecTRI_20 network...\n",
      "Extracting inputs...\n",
      "Formating net...\n",
      "129 experiments without sources in net, they will be removed.\n",
      "Running methods...\n",
      "52 features of mat are empty, they will be removed.\n",
      "Running mlm on mat with 259 samples and 21933 targets for 551 sources.\n"
     ]
    },
    {
     "name": "stderr",
     "output_type": "stream",
     "text": [
      "100%|█████████████████████████████████████████████| 1/1 [00:00<00:00,  1.16it/s]\n"
     ]
    },
    {
     "name": "stdout",
     "output_type": "stream",
     "text": [
      "52 features of mat are empty, they will be removed.\n",
      "Running ulm on mat with 259 samples and 21933 targets for 551 sources.\n",
      "52 features of mat are empty, they will be removed.\n",
      "Running wsum on mat with 259 samples and 21933 targets for 551 sources.\n",
      "Infering activities on 1 batches.\n"
     ]
    },
    {
     "name": "stderr",
     "output_type": "stream",
     "text": [
      "100%|█████████████████████████████████████████████| 1/1 [00:55<00:00, 55.54s/it]\n"
     ]
    },
    {
     "name": "stdout",
     "output_type": "stream",
     "text": [
      "Calculating metrics...\n",
      "Computing metrics...\n",
      "Done.\n",
      "Using collecTRI_30 network...\n",
      "Extracting inputs...\n",
      "Formating net...\n",
      "132 experiments without sources in net, they will be removed.\n",
      "Running methods...\n",
      "52 features of mat are empty, they will be removed.\n",
      "Running mlm on mat with 256 samples and 21933 targets for 530 sources.\n"
     ]
    },
    {
     "name": "stderr",
     "output_type": "stream",
     "text": [
      "100%|█████████████████████████████████████████████| 1/1 [00:00<00:00,  1.21it/s]\n"
     ]
    },
    {
     "name": "stdout",
     "output_type": "stream",
     "text": [
      "52 features of mat are empty, they will be removed.\n",
      "Running ulm on mat with 256 samples and 21933 targets for 530 sources.\n",
      "52 features of mat are empty, they will be removed.\n",
      "Running wsum on mat with 256 samples and 21933 targets for 530 sources.\n",
      "Infering activities on 1 batches.\n"
     ]
    },
    {
     "name": "stderr",
     "output_type": "stream",
     "text": [
      "100%|█████████████████████████████████████████████| 1/1 [00:51<00:00, 51.24s/it]\n"
     ]
    },
    {
     "name": "stdout",
     "output_type": "stream",
     "text": [
      "Calculating metrics...\n",
      "Computing metrics...\n",
      "Done.\n"
     ]
    }
   ],
   "source": [
    "# Build dictionary of networks to test\n",
    "nets = {\n",
    "    'matRid1raw': matRid1raw,\n",
    "    'matRid1_10': matRid1_10,\n",
    "    'matRid1_20': matRid1_20,\n",
    "    'matRid1_30': matRid1_30,\n",
    "    'matRid10raw': matRid10raw,\n",
    "    'matRid10_10': matRid10_10,\n",
    "    'matRid10_20': matRid10_20,\n",
    "    'matRid10_30': matRid10_30,\n",
    "    'FIMO1raw': FIMO1raw,\n",
    "    'FIMO1_10': FIMO1_10,\n",
    "    'FIMO1_20': FIMO1_20,\n",
    "    'FIMO1_30': FIMO1_30,\n",
    "    'FIMO10raw': FIMO10raw,\n",
    "    'FIMO10_10': FIMO10_10,\n",
    "    'FIMO10_20': FIMO10_20,\n",
    "    'FIMO10_30': FIMO10_30,\n",
    "    'collecTRI': collecTRI,\n",
    "    'collecTRI_10': collecTRI_10,\n",
    "    'collecTRI_20': collecTRI_20,\n",
    "    'collecTRI_30': collecTRI_30\n",
    "}\n",
    "\n",
    "# Example extra arguments\n",
    "decouple_kws = {\n",
    "    'matRid1raw': {'args' : {'wsum' : {'times': 1000}}},\n",
    "    'matRid1_10': {'args' : {'wsum' : {'times': 1000}}},\n",
    "    'matRid1_20': {'args' : {'wsum' : {'times': 1000}}},\n",
    "    'matRid1_30': {'args' : {'wsum' : {'times': 1000}}},\n",
    "    'matRid10raw': {'args' : {'wsum' : {'times': 1000}}},\n",
    "    'matRid10_10': {'args' : {'wsum' : {'times': 1000}}},\n",
    "    'matRid10_20': {'args' : {'wsum' : {'times': 1000}}},\n",
    "    'matRid10_30': {'args' : {'wsum' : {'times': 1000}}},\n",
    "    'FIMO1raw': {'args' : {'wsum' : {'times': 1000}}},\n",
    "    'FIMO1_10': {'args' : {'wsum' : {'times': 1000}}},\n",
    "    'FIMO1_20': {'args' : {'wsum' : {'times': 1000}}},\n",
    "    'FIMO1_30': {'args' : {'wsum' : {'times': 1000}}},\n",
    "    'FIMO10raw': {'args' : {'wsum' : {'times': 1000}}},\n",
    "    'FIMO10_10': {'args' : {'wsum' : {'times': 1000}}},\n",
    "    'FIMO10_20': {'args' : {'wsum' : {'times': 1000}}},\n",
    "    'FIMO10_30': {'args' : {'wsum' : {'times': 1000}}},\n",
    "    'collecTRI': {'args' : {'wsum' : {'times': 1000}}},\n",
    "    'collecTRI_10': {'args' : {'wsum' : {'times': 1000}}},\n",
    "    'collecTRI_20': {'args' : {'wsum' : {'times': 1000}}},\n",
    "    'collecTRI_30': {'args' : {'wsum' : {'times': 1000}}}\n",
    "}\n",
    "\n",
    "# Run benchmark pipeline\n",
    "df_filtered = dc.benchmark(mat, obs, nets, perturb='TF', sign=-1, verbose=True, decouple_kws=decouple_kws)"
   ]
  },
  {
   "cell_type": "markdown",
   "id": "4f9ff146-5f0e-4292-9194-da0aa9cfc367",
   "metadata": {},
   "source": [
    "### Save data"
   ]
  },
  {
   "cell_type": "code",
   "execution_count": 6,
   "id": "32e51987-31db-42a5-bb88-4339ab055f19",
   "metadata": {},
   "outputs": [],
   "source": [
    "pd.DataFrame.to_csv(df_filtered, '../../output/benchmark/benchmark_weights_filtered_res.csv')"
   ]
  }
 ],
 "metadata": {
  "kernelspec": {
   "display_name": "decoupler",
   "language": "python",
   "name": "decoupler"
  },
  "language_info": {
   "codemirror_mode": {
    "name": "ipython",
    "version": 3
   },
   "file_extension": ".py",
   "mimetype": "text/x-python",
   "name": "python",
   "nbconvert_exporter": "python",
   "pygments_lexer": "ipython3",
   "version": "3.10.4"
  }
 },
 "nbformat": 4,
 "nbformat_minor": 5
}
