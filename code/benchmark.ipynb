{
 "cells": [
  {
   "cell_type": "code",
   "execution_count": 1,
   "id": "c3ff99f3-5920-4c4c-a6bf-14c5ec5c7ee0",
   "metadata": {},
   "outputs": [
    {
     "name": "stderr",
     "output_type": "stream",
     "text": [
      "OMP: Info #276: omp_set_nested routine deprecated, please use omp_set_max_active_levels instead.\n"
     ]
    }
   ],
   "source": [
    "import pandas as pd\n",
    "import numpy as np\n",
    "\n",
    "import decoupler as dc\n",
    "import matplotlib.pyplot as plt"
   ]
  },
  {
   "cell_type": "code",
   "execution_count": 7,
   "id": "c6fec412-c505-4e48-9d81-9bb0e6f12d61",
   "metadata": {},
   "outputs": [
    {
     "name": "stdout",
     "output_type": "stream",
     "text": [
      "--2022-10-04 11:48:29--  https://zenodo.org/record/7035528/files/knockTF_expr.csv?download=1\n",
      "Resolving zenodo.org (zenodo.org)... 188.184.117.155\n",
      "Connecting to zenodo.org (zenodo.org)|188.184.117.155|:443... connected.\n",
      "HTTP request sent, awaiting response... 200 OK\n",
      "Length: 146086808 (139M) [text/plain]\n",
      "Saving to: ‘/Users/smuellerdott/Documents/NTNUdecoupleR/data/knockTF_expr.csv’\n",
      "\n",
      "/Users/smuellerdott 100%[===================>] 139,32M  28,0MB/s    in 5,7s    \n",
      "\n",
      "2022-10-04 11:48:35 (24,4 MB/s) - ‘/Users/smuellerdott/Documents/NTNUdecoupleR/data/knockTF_expr.csv’ saved [146086808/146086808]\n",
      "\n",
      "--2022-10-04 11:48:36--  https://zenodo.org/record/7035528/files/knockTF_meta.csv?download=1\n",
      "Resolving zenodo.org (zenodo.org)... 188.184.117.155\n",
      "Connecting to zenodo.org (zenodo.org)|188.184.117.155|:443... connected.\n",
      "HTTP request sent, awaiting response... 200 OK\n",
      "Length: 144861 (141K) [text/plain]\n",
      "Saving to: ‘/Users/smuellerdott/Documents/NTNUdecoupleR/data/knockTF_meta.csv’\n",
      "\n",
      "/Users/smuellerdott 100%[===================>] 141,47K  --.-KB/s    in 0,05s   \n",
      "\n",
      "2022-10-04 11:48:36 (2,76 MB/s) - ‘/Users/smuellerdott/Documents/NTNUdecoupleR/data/knockTF_meta.csv’ saved [144861/144861]\n",
      "\n"
     ]
    }
   ],
   "source": [
    "!wget 'https://zenodo.org/record/7035528/files/knockTF_expr.csv?download=1' -O /Users/smuellerdott/Documents/NTNUdecoupleR/data/knockTF_expr.csv\n",
    "!wget 'https://zenodo.org/record/7035528/files/knockTF_meta.csv?download=1' -O /Users/smuellerdott/Documents/NTNUdecoupleR/data/knockTF_meta.csv"
   ]
  },
  {
   "cell_type": "code",
   "execution_count": 2,
   "id": "a5146554-d8ea-42ce-88c6-dcdc92f60ff8",
   "metadata": {},
   "outputs": [],
   "source": [
    "mat = pd.read_csv('/Users/smuellerdott/Documents/NTNUdecoupleR/data/knockTF_expr.csv', index_col=0)\n",
    "obs = pd.read_csv('/Users/smuellerdott/Documents/NTNUdecoupleR/data/knockTF_meta.csv', index_col=0)"
   ]
  },
  {
   "cell_type": "code",
   "execution_count": 3,
   "id": "f5b1d5e1-0f6d-49c8-8483-a85f23bf1d37",
   "metadata": {},
   "outputs": [
    {
     "data": {
      "text/html": [
       "<div>\n",
       "<style scoped>\n",
       "    .dataframe tbody tr th:only-of-type {\n",
       "        vertical-align: middle;\n",
       "    }\n",
       "\n",
       "    .dataframe tbody tr th {\n",
       "        vertical-align: top;\n",
       "    }\n",
       "\n",
       "    .dataframe thead th {\n",
       "        text-align: right;\n",
       "    }\n",
       "</style>\n",
       "<table border=\"1\" class=\"dataframe\">\n",
       "  <thead>\n",
       "    <tr style=\"text-align: right;\">\n",
       "      <th></th>\n",
       "      <th>A1BG</th>\n",
       "      <th>A1BG-AS1</th>\n",
       "      <th>A1CF</th>\n",
       "      <th>A2LD1</th>\n",
       "      <th>A2M</th>\n",
       "      <th>A2ML1</th>\n",
       "      <th>A4GALT</th>\n",
       "      <th>A4GNT</th>\n",
       "      <th>AA06</th>\n",
       "      <th>AAA1</th>\n",
       "      <th>...</th>\n",
       "      <th>ZWINT</th>\n",
       "      <th>ZXDA</th>\n",
       "      <th>ZXDB</th>\n",
       "      <th>ZXDC</th>\n",
       "      <th>ZYG11A</th>\n",
       "      <th>ZYG11B</th>\n",
       "      <th>ZYX</th>\n",
       "      <th>ZZEF1</th>\n",
       "      <th>ZZZ3</th>\n",
       "      <th>psiTPTE22</th>\n",
       "    </tr>\n",
       "  </thead>\n",
       "  <tbody>\n",
       "    <tr>\n",
       "      <th>DataSet_01_001</th>\n",
       "      <td>0.000000</td>\n",
       "      <td>0.000000</td>\n",
       "      <td>0.000000</td>\n",
       "      <td>0.0000</td>\n",
       "      <td>0.000000</td>\n",
       "      <td>0.00000</td>\n",
       "      <td>0.00000</td>\n",
       "      <td>0.00000</td>\n",
       "      <td>0.0</td>\n",
       "      <td>0.0</td>\n",
       "      <td>...</td>\n",
       "      <td>0.000000</td>\n",
       "      <td>0.00000</td>\n",
       "      <td>0.000000</td>\n",
       "      <td>0.000000</td>\n",
       "      <td>0.00000</td>\n",
       "      <td>0.000000</td>\n",
       "      <td>-0.033220</td>\n",
       "      <td>-0.046900</td>\n",
       "      <td>-0.143830</td>\n",
       "      <td>0.00000</td>\n",
       "    </tr>\n",
       "    <tr>\n",
       "      <th>DataSet_01_002</th>\n",
       "      <td>-0.173750</td>\n",
       "      <td>0.000000</td>\n",
       "      <td>-0.537790</td>\n",
       "      <td>-0.4424</td>\n",
       "      <td>-1.596640</td>\n",
       "      <td>-0.00010</td>\n",
       "      <td>-0.08260</td>\n",
       "      <td>-3.64590</td>\n",
       "      <td>0.0</td>\n",
       "      <td>0.0</td>\n",
       "      <td>...</td>\n",
       "      <td>0.000000</td>\n",
       "      <td>0.39579</td>\n",
       "      <td>0.000000</td>\n",
       "      <td>0.086110</td>\n",
       "      <td>0.28574</td>\n",
       "      <td>-0.130210</td>\n",
       "      <td>-0.276640</td>\n",
       "      <td>-0.881580</td>\n",
       "      <td>0.812950</td>\n",
       "      <td>0.47896</td>\n",
       "    </tr>\n",
       "    <tr>\n",
       "      <th>DataSet_01_003</th>\n",
       "      <td>-0.216130</td>\n",
       "      <td>0.000000</td>\n",
       "      <td>-0.220270</td>\n",
       "      <td>-0.0008</td>\n",
       "      <td>0.000000</td>\n",
       "      <td>0.15580</td>\n",
       "      <td>-0.35802</td>\n",
       "      <td>-0.32025</td>\n",
       "      <td>0.0</td>\n",
       "      <td>0.0</td>\n",
       "      <td>...</td>\n",
       "      <td>0.000000</td>\n",
       "      <td>-0.82964</td>\n",
       "      <td>0.000000</td>\n",
       "      <td>0.064470</td>\n",
       "      <td>0.59323</td>\n",
       "      <td>0.313950</td>\n",
       "      <td>-0.232600</td>\n",
       "      <td>0.065510</td>\n",
       "      <td>-0.147140</td>\n",
       "      <td>0.00000</td>\n",
       "    </tr>\n",
       "    <tr>\n",
       "      <th>DataSet_01_004</th>\n",
       "      <td>-0.255680</td>\n",
       "      <td>0.111050</td>\n",
       "      <td>-0.285270</td>\n",
       "      <td>0.0000</td>\n",
       "      <td>-0.035860</td>\n",
       "      <td>-0.46970</td>\n",
       "      <td>0.18559</td>\n",
       "      <td>-0.25601</td>\n",
       "      <td>0.0</td>\n",
       "      <td>0.0</td>\n",
       "      <td>...</td>\n",
       "      <td>0.000000</td>\n",
       "      <td>-0.39888</td>\n",
       "      <td>0.000000</td>\n",
       "      <td>0.104440</td>\n",
       "      <td>-0.16434</td>\n",
       "      <td>0.191460</td>\n",
       "      <td>0.415610</td>\n",
       "      <td>0.393840</td>\n",
       "      <td>0.127900</td>\n",
       "      <td>0.00000</td>\n",
       "    </tr>\n",
       "    <tr>\n",
       "      <th>DataSet_01_005</th>\n",
       "      <td>0.478500</td>\n",
       "      <td>-0.375710</td>\n",
       "      <td>-0.847180</td>\n",
       "      <td>0.0000</td>\n",
       "      <td>3.354450</td>\n",
       "      <td>0.17104</td>\n",
       "      <td>-0.34852</td>\n",
       "      <td>-0.95517</td>\n",
       "      <td>0.0</td>\n",
       "      <td>0.0</td>\n",
       "      <td>...</td>\n",
       "      <td>0.000000</td>\n",
       "      <td>0.24849</td>\n",
       "      <td>0.000000</td>\n",
       "      <td>-0.286920</td>\n",
       "      <td>-0.01815</td>\n",
       "      <td>0.119410</td>\n",
       "      <td>0.077850</td>\n",
       "      <td>0.234740</td>\n",
       "      <td>0.228690</td>\n",
       "      <td>0.00000</td>\n",
       "    </tr>\n",
       "    <tr>\n",
       "      <th>...</th>\n",
       "      <td>...</td>\n",
       "      <td>...</td>\n",
       "      <td>...</td>\n",
       "      <td>...</td>\n",
       "      <td>...</td>\n",
       "      <td>...</td>\n",
       "      <td>...</td>\n",
       "      <td>...</td>\n",
       "      <td>...</td>\n",
       "      <td>...</td>\n",
       "      <td>...</td>\n",
       "      <td>...</td>\n",
       "      <td>...</td>\n",
       "      <td>...</td>\n",
       "      <td>...</td>\n",
       "      <td>...</td>\n",
       "      <td>...</td>\n",
       "      <td>...</td>\n",
       "      <td>...</td>\n",
       "      <td>...</td>\n",
       "      <td>...</td>\n",
       "    </tr>\n",
       "    <tr>\n",
       "      <th>DataSet_04_039</th>\n",
       "      <td>0.668721</td>\n",
       "      <td>0.000000</td>\n",
       "      <td>0.120893</td>\n",
       "      <td>0.0000</td>\n",
       "      <td>0.263564</td>\n",
       "      <td>0.00000</td>\n",
       "      <td>0.00000</td>\n",
       "      <td>0.00000</td>\n",
       "      <td>0.0</td>\n",
       "      <td>0.0</td>\n",
       "      <td>...</td>\n",
       "      <td>-0.324808</td>\n",
       "      <td>0.00000</td>\n",
       "      <td>-0.370491</td>\n",
       "      <td>0.092874</td>\n",
       "      <td>0.00000</td>\n",
       "      <td>0.014075</td>\n",
       "      <td>-0.215169</td>\n",
       "      <td>0.141374</td>\n",
       "      <td>-0.076054</td>\n",
       "      <td>0.00000</td>\n",
       "    </tr>\n",
       "    <tr>\n",
       "      <th>DataSet_04_040</th>\n",
       "      <td>1.816027</td>\n",
       "      <td>0.000000</td>\n",
       "      <td>0.139721</td>\n",
       "      <td>0.0000</td>\n",
       "      <td>0.459498</td>\n",
       "      <td>0.00000</td>\n",
       "      <td>0.00000</td>\n",
       "      <td>0.00000</td>\n",
       "      <td>0.0</td>\n",
       "      <td>0.0</td>\n",
       "      <td>...</td>\n",
       "      <td>-0.321726</td>\n",
       "      <td>0.00000</td>\n",
       "      <td>-0.144934</td>\n",
       "      <td>-0.238343</td>\n",
       "      <td>0.00000</td>\n",
       "      <td>-0.134995</td>\n",
       "      <td>0.577406</td>\n",
       "      <td>0.082028</td>\n",
       "      <td>-0.171424</td>\n",
       "      <td>0.00000</td>\n",
       "    </tr>\n",
       "    <tr>\n",
       "      <th>DataSet_04_041</th>\n",
       "      <td>-0.174250</td>\n",
       "      <td>0.000000</td>\n",
       "      <td>-0.084499</td>\n",
       "      <td>0.0000</td>\n",
       "      <td>0.112492</td>\n",
       "      <td>0.00000</td>\n",
       "      <td>0.00000</td>\n",
       "      <td>0.00000</td>\n",
       "      <td>0.0</td>\n",
       "      <td>0.0</td>\n",
       "      <td>...</td>\n",
       "      <td>0.405369</td>\n",
       "      <td>0.00000</td>\n",
       "      <td>0.272526</td>\n",
       "      <td>-0.125475</td>\n",
       "      <td>0.00000</td>\n",
       "      <td>0.019763</td>\n",
       "      <td>-0.098584</td>\n",
       "      <td>0.072675</td>\n",
       "      <td>0.199813</td>\n",
       "      <td>0.00000</td>\n",
       "    </tr>\n",
       "    <tr>\n",
       "      <th>DataSet_04_042</th>\n",
       "      <td>0.976681</td>\n",
       "      <td>0.000000</td>\n",
       "      <td>0.099845</td>\n",
       "      <td>0.0000</td>\n",
       "      <td>0.366973</td>\n",
       "      <td>0.00000</td>\n",
       "      <td>0.00000</td>\n",
       "      <td>0.00000</td>\n",
       "      <td>0.0</td>\n",
       "      <td>0.0</td>\n",
       "      <td>...</td>\n",
       "      <td>0.397698</td>\n",
       "      <td>0.00000</td>\n",
       "      <td>-0.398350</td>\n",
       "      <td>0.037134</td>\n",
       "      <td>0.00000</td>\n",
       "      <td>0.409704</td>\n",
       "      <td>-0.056978</td>\n",
       "      <td>0.308122</td>\n",
       "      <td>-0.058794</td>\n",
       "      <td>0.00000</td>\n",
       "    </tr>\n",
       "    <tr>\n",
       "      <th>DataSet_04_043</th>\n",
       "      <td>0.677944</td>\n",
       "      <td>0.584963</td>\n",
       "      <td>0.271215</td>\n",
       "      <td>0.0000</td>\n",
       "      <td>0.104090</td>\n",
       "      <td>0.00000</td>\n",
       "      <td>0.00000</td>\n",
       "      <td>0.00000</td>\n",
       "      <td>0.0</td>\n",
       "      <td>0.0</td>\n",
       "      <td>...</td>\n",
       "      <td>-0.357371</td>\n",
       "      <td>0.00000</td>\n",
       "      <td>-0.152622</td>\n",
       "      <td>-0.076498</td>\n",
       "      <td>0.00000</td>\n",
       "      <td>0.047949</td>\n",
       "      <td>-0.169766</td>\n",
       "      <td>0.178053</td>\n",
       "      <td>0.199003</td>\n",
       "      <td>0.00000</td>\n",
       "    </tr>\n",
       "  </tbody>\n",
       "</table>\n",
       "<p>907 rows × 21985 columns</p>\n",
       "</div>"
      ],
      "text/plain": [
       "                    A1BG  A1BG-AS1      A1CF   A2LD1       A2M    A2ML1  \\\n",
       "DataSet_01_001  0.000000  0.000000  0.000000  0.0000  0.000000  0.00000   \n",
       "DataSet_01_002 -0.173750  0.000000 -0.537790 -0.4424 -1.596640 -0.00010   \n",
       "DataSet_01_003 -0.216130  0.000000 -0.220270 -0.0008  0.000000  0.15580   \n",
       "DataSet_01_004 -0.255680  0.111050 -0.285270  0.0000 -0.035860 -0.46970   \n",
       "DataSet_01_005  0.478500 -0.375710 -0.847180  0.0000  3.354450  0.17104   \n",
       "...                  ...       ...       ...     ...       ...      ...   \n",
       "DataSet_04_039  0.668721  0.000000  0.120893  0.0000  0.263564  0.00000   \n",
       "DataSet_04_040  1.816027  0.000000  0.139721  0.0000  0.459498  0.00000   \n",
       "DataSet_04_041 -0.174250  0.000000 -0.084499  0.0000  0.112492  0.00000   \n",
       "DataSet_04_042  0.976681  0.000000  0.099845  0.0000  0.366973  0.00000   \n",
       "DataSet_04_043  0.677944  0.584963  0.271215  0.0000  0.104090  0.00000   \n",
       "\n",
       "                 A4GALT    A4GNT  AA06  AAA1  ...     ZWINT     ZXDA  \\\n",
       "DataSet_01_001  0.00000  0.00000   0.0   0.0  ...  0.000000  0.00000   \n",
       "DataSet_01_002 -0.08260 -3.64590   0.0   0.0  ...  0.000000  0.39579   \n",
       "DataSet_01_003 -0.35802 -0.32025   0.0   0.0  ...  0.000000 -0.82964   \n",
       "DataSet_01_004  0.18559 -0.25601   0.0   0.0  ...  0.000000 -0.39888   \n",
       "DataSet_01_005 -0.34852 -0.95517   0.0   0.0  ...  0.000000  0.24849   \n",
       "...                 ...      ...   ...   ...  ...       ...      ...   \n",
       "DataSet_04_039  0.00000  0.00000   0.0   0.0  ... -0.324808  0.00000   \n",
       "DataSet_04_040  0.00000  0.00000   0.0   0.0  ... -0.321726  0.00000   \n",
       "DataSet_04_041  0.00000  0.00000   0.0   0.0  ...  0.405369  0.00000   \n",
       "DataSet_04_042  0.00000  0.00000   0.0   0.0  ...  0.397698  0.00000   \n",
       "DataSet_04_043  0.00000  0.00000   0.0   0.0  ... -0.357371  0.00000   \n",
       "\n",
       "                    ZXDB      ZXDC   ZYG11A    ZYG11B       ZYX     ZZEF1  \\\n",
       "DataSet_01_001  0.000000  0.000000  0.00000  0.000000 -0.033220 -0.046900   \n",
       "DataSet_01_002  0.000000  0.086110  0.28574 -0.130210 -0.276640 -0.881580   \n",
       "DataSet_01_003  0.000000  0.064470  0.59323  0.313950 -0.232600  0.065510   \n",
       "DataSet_01_004  0.000000  0.104440 -0.16434  0.191460  0.415610  0.393840   \n",
       "DataSet_01_005  0.000000 -0.286920 -0.01815  0.119410  0.077850  0.234740   \n",
       "...                  ...       ...      ...       ...       ...       ...   \n",
       "DataSet_04_039 -0.370491  0.092874  0.00000  0.014075 -0.215169  0.141374   \n",
       "DataSet_04_040 -0.144934 -0.238343  0.00000 -0.134995  0.577406  0.082028   \n",
       "DataSet_04_041  0.272526 -0.125475  0.00000  0.019763 -0.098584  0.072675   \n",
       "DataSet_04_042 -0.398350  0.037134  0.00000  0.409704 -0.056978  0.308122   \n",
       "DataSet_04_043 -0.152622 -0.076498  0.00000  0.047949 -0.169766  0.178053   \n",
       "\n",
       "                    ZZZ3  psiTPTE22  \n",
       "DataSet_01_001 -0.143830    0.00000  \n",
       "DataSet_01_002  0.812950    0.47896  \n",
       "DataSet_01_003 -0.147140    0.00000  \n",
       "DataSet_01_004  0.127900    0.00000  \n",
       "DataSet_01_005  0.228690    0.00000  \n",
       "...                  ...        ...  \n",
       "DataSet_04_039 -0.076054    0.00000  \n",
       "DataSet_04_040 -0.171424    0.00000  \n",
       "DataSet_04_041  0.199813    0.00000  \n",
       "DataSet_04_042 -0.058794    0.00000  \n",
       "DataSet_04_043  0.199003    0.00000  \n",
       "\n",
       "[907 rows x 21985 columns]"
      ]
     },
     "execution_count": 3,
     "metadata": {},
     "output_type": "execute_result"
    }
   ],
   "source": [
    "mat"
   ]
  },
  {
   "cell_type": "code",
   "execution_count": 11,
   "id": "197b3cad-998a-4145-9d9f-e7b57f3bea72",
   "metadata": {},
   "outputs": [
    {
     "data": {
      "text/html": [
       "<div>\n",
       "<style scoped>\n",
       "    .dataframe tbody tr th:only-of-type {\n",
       "        vertical-align: middle;\n",
       "    }\n",
       "\n",
       "    .dataframe tbody tr th {\n",
       "        vertical-align: top;\n",
       "    }\n",
       "\n",
       "    .dataframe thead th {\n",
       "        text-align: right;\n",
       "    }\n",
       "</style>\n",
       "<table border=\"1\" class=\"dataframe\">\n",
       "  <thead>\n",
       "    <tr style=\"text-align: right;\">\n",
       "      <th></th>\n",
       "      <th>TF</th>\n",
       "      <th>Species</th>\n",
       "      <th>Knock.Method</th>\n",
       "      <th>Biosample.Name</th>\n",
       "      <th>Profile.ID</th>\n",
       "      <th>Platform</th>\n",
       "      <th>TF.Class</th>\n",
       "      <th>TF.Superclass</th>\n",
       "      <th>Tissue.Type</th>\n",
       "      <th>Biosample.Type</th>\n",
       "      <th>Data.Source</th>\n",
       "      <th>Pubmed.ID</th>\n",
       "      <th>logFC</th>\n",
       "    </tr>\n",
       "  </thead>\n",
       "  <tbody>\n",
       "    <tr>\n",
       "      <th>DataSet_01_001</th>\n",
       "      <td>ESR1</td>\n",
       "      <td>Homo sapiens</td>\n",
       "      <td>siRNA</td>\n",
       "      <td>MCF7</td>\n",
       "      <td>GSE10061</td>\n",
       "      <td>GPL3921</td>\n",
       "      <td>Nuclear receptors with C4 zinc fingers</td>\n",
       "      <td>Zinc-coordinating DNA-binding domains</td>\n",
       "      <td>Mammary_gland</td>\n",
       "      <td>Cell line</td>\n",
       "      <td>GEO</td>\n",
       "      <td>18631401</td>\n",
       "      <td>-0.713850</td>\n",
       "    </tr>\n",
       "    <tr>\n",
       "      <th>DataSet_01_002</th>\n",
       "      <td>HNF1A</td>\n",
       "      <td>Homo sapiens</td>\n",
       "      <td>shRNA</td>\n",
       "      <td>HuH7</td>\n",
       "      <td>GSE103128</td>\n",
       "      <td>GPL18180</td>\n",
       "      <td>Homeo domain factors</td>\n",
       "      <td>Helix-turn-helix domains</td>\n",
       "      <td>Liver</td>\n",
       "      <td>Cell line</td>\n",
       "      <td>GEO</td>\n",
       "      <td>29466992</td>\n",
       "      <td>0.164280</td>\n",
       "    </tr>\n",
       "    <tr>\n",
       "      <th>DataSet_01_003</th>\n",
       "      <td>MLXIP</td>\n",
       "      <td>Homo sapiens</td>\n",
       "      <td>shRNA</td>\n",
       "      <td>HA1ER</td>\n",
       "      <td>GSE11242</td>\n",
       "      <td>GPL4133</td>\n",
       "      <td>Basic helix-loop-helix factors (bHLH)</td>\n",
       "      <td>Basic domains</td>\n",
       "      <td>Embryo_kidney</td>\n",
       "      <td>Stem cell</td>\n",
       "      <td>GEO</td>\n",
       "      <td>18458340</td>\n",
       "      <td>0.262150</td>\n",
       "    </tr>\n",
       "    <tr>\n",
       "      <th>DataSet_01_004</th>\n",
       "      <td>CREB1</td>\n",
       "      <td>Homo sapiens</td>\n",
       "      <td>shRNA</td>\n",
       "      <td>K562</td>\n",
       "      <td>GSE12056</td>\n",
       "      <td>GPL570</td>\n",
       "      <td>Basic leucine zipper factors (bZIP)</td>\n",
       "      <td>Basic domains</td>\n",
       "      <td>Haematopoietic_and_lymphoid_tissue</td>\n",
       "      <td>Cell line</td>\n",
       "      <td>GEO</td>\n",
       "      <td>18801183</td>\n",
       "      <td>-0.950180</td>\n",
       "    </tr>\n",
       "    <tr>\n",
       "      <th>DataSet_01_005</th>\n",
       "      <td>POU5F1</td>\n",
       "      <td>Homo sapiens</td>\n",
       "      <td>siRNA</td>\n",
       "      <td>GBS6</td>\n",
       "      <td>GSE12320</td>\n",
       "      <td>GPL570</td>\n",
       "      <td>Homeo domain factors</td>\n",
       "      <td>Helix-turn-helix domains</td>\n",
       "      <td>Bone_marrow</td>\n",
       "      <td>Cell line</td>\n",
       "      <td>GEO</td>\n",
       "      <td>20203285</td>\n",
       "      <td>0.000000</td>\n",
       "    </tr>\n",
       "    <tr>\n",
       "      <th>...</th>\n",
       "      <td>...</td>\n",
       "      <td>...</td>\n",
       "      <td>...</td>\n",
       "      <td>...</td>\n",
       "      <td>...</td>\n",
       "      <td>...</td>\n",
       "      <td>...</td>\n",
       "      <td>...</td>\n",
       "      <td>...</td>\n",
       "      <td>...</td>\n",
       "      <td>...</td>\n",
       "      <td>...</td>\n",
       "      <td>...</td>\n",
       "    </tr>\n",
       "    <tr>\n",
       "      <th>DataSet_04_039</th>\n",
       "      <td>SRPK2</td>\n",
       "      <td>Homo sapiens</td>\n",
       "      <td>CRISPR</td>\n",
       "      <td>HepG2</td>\n",
       "      <td>ENCSR929EIP</td>\n",
       "      <td>-</td>\n",
       "      <td>Others</td>\n",
       "      <td>ENCODE_TF</td>\n",
       "      <td>Liver</td>\n",
       "      <td>Cell line</td>\n",
       "      <td>ENCODE</td>\n",
       "      <td>22955616</td>\n",
       "      <td>-1.392551</td>\n",
       "    </tr>\n",
       "    <tr>\n",
       "      <th>DataSet_04_040</th>\n",
       "      <td>WRN</td>\n",
       "      <td>Homo sapiens</td>\n",
       "      <td>shRNA</td>\n",
       "      <td>HepG2</td>\n",
       "      <td>ENCSR093FHC</td>\n",
       "      <td>-</td>\n",
       "      <td>Others</td>\n",
       "      <td>ENCODE_TF</td>\n",
       "      <td>Liver</td>\n",
       "      <td>Cell line</td>\n",
       "      <td>ENCODE</td>\n",
       "      <td>22955616</td>\n",
       "      <td>-0.173964</td>\n",
       "    </tr>\n",
       "    <tr>\n",
       "      <th>DataSet_04_041</th>\n",
       "      <td>YBX1</td>\n",
       "      <td>Homo sapiens</td>\n",
       "      <td>CRISPR</td>\n",
       "      <td>HepG2</td>\n",
       "      <td>ENCSR548OTL</td>\n",
       "      <td>-</td>\n",
       "      <td>Cold-shock domain factors</td>\n",
       "      <td>beta-Barrel DNA-binding domains</td>\n",
       "      <td>Liver</td>\n",
       "      <td>Cell line</td>\n",
       "      <td>ENCODE</td>\n",
       "      <td>22955616</td>\n",
       "      <td>-2.025170</td>\n",
       "    </tr>\n",
       "    <tr>\n",
       "      <th>DataSet_04_042</th>\n",
       "      <td>ZC3H8</td>\n",
       "      <td>Homo sapiens</td>\n",
       "      <td>shRNA</td>\n",
       "      <td>HepG2</td>\n",
       "      <td>ENCSR184YDW</td>\n",
       "      <td>-</td>\n",
       "      <td>C3H zinc finger factors</td>\n",
       "      <td>Zinc-coordinating DNA-binding domains</td>\n",
       "      <td>Liver</td>\n",
       "      <td>Cell line</td>\n",
       "      <td>ENCODE</td>\n",
       "      <td>22955616</td>\n",
       "      <td>-0.027152</td>\n",
       "    </tr>\n",
       "    <tr>\n",
       "      <th>DataSet_04_043</th>\n",
       "      <td>ZNF574</td>\n",
       "      <td>Homo sapiens</td>\n",
       "      <td>CRISPR</td>\n",
       "      <td>HepG2</td>\n",
       "      <td>ENCSR821GQN</td>\n",
       "      <td>-</td>\n",
       "      <td>C2H2 zinc finger factors</td>\n",
       "      <td>Zinc-coordinating DNA-binding domains</td>\n",
       "      <td>Liver</td>\n",
       "      <td>Cell line</td>\n",
       "      <td>ENCODE</td>\n",
       "      <td>22955616</td>\n",
       "      <td>0.990298</td>\n",
       "    </tr>\n",
       "  </tbody>\n",
       "</table>\n",
       "<p>907 rows × 13 columns</p>\n",
       "</div>"
      ],
      "text/plain": [
       "                    TF       Species Knock.Method Biosample.Name   Profile.ID  \\\n",
       "DataSet_01_001    ESR1  Homo sapiens        siRNA           MCF7     GSE10061   \n",
       "DataSet_01_002   HNF1A  Homo sapiens        shRNA           HuH7    GSE103128   \n",
       "DataSet_01_003   MLXIP  Homo sapiens        shRNA          HA1ER     GSE11242   \n",
       "DataSet_01_004   CREB1  Homo sapiens        shRNA           K562     GSE12056   \n",
       "DataSet_01_005  POU5F1  Homo sapiens        siRNA           GBS6     GSE12320   \n",
       "...                ...           ...          ...            ...          ...   \n",
       "DataSet_04_039   SRPK2  Homo sapiens       CRISPR          HepG2  ENCSR929EIP   \n",
       "DataSet_04_040     WRN  Homo sapiens        shRNA          HepG2  ENCSR093FHC   \n",
       "DataSet_04_041    YBX1  Homo sapiens       CRISPR          HepG2  ENCSR548OTL   \n",
       "DataSet_04_042   ZC3H8  Homo sapiens        shRNA          HepG2  ENCSR184YDW   \n",
       "DataSet_04_043  ZNF574  Homo sapiens       CRISPR          HepG2  ENCSR821GQN   \n",
       "\n",
       "                Platform                                TF.Class  \\\n",
       "DataSet_01_001   GPL3921  Nuclear receptors with C4 zinc fingers   \n",
       "DataSet_01_002  GPL18180                    Homeo domain factors   \n",
       "DataSet_01_003   GPL4133   Basic helix-loop-helix factors (bHLH)   \n",
       "DataSet_01_004    GPL570     Basic leucine zipper factors (bZIP)   \n",
       "DataSet_01_005    GPL570                    Homeo domain factors   \n",
       "...                  ...                                     ...   \n",
       "DataSet_04_039         -                                  Others   \n",
       "DataSet_04_040         -                                  Others   \n",
       "DataSet_04_041         -               Cold-shock domain factors   \n",
       "DataSet_04_042         -                 C3H zinc finger factors   \n",
       "DataSet_04_043         -                C2H2 zinc finger factors   \n",
       "\n",
       "                                        TF.Superclass  \\\n",
       "DataSet_01_001  Zinc-coordinating DNA-binding domains   \n",
       "DataSet_01_002               Helix-turn-helix domains   \n",
       "DataSet_01_003                          Basic domains   \n",
       "DataSet_01_004                          Basic domains   \n",
       "DataSet_01_005               Helix-turn-helix domains   \n",
       "...                                               ...   \n",
       "DataSet_04_039                              ENCODE_TF   \n",
       "DataSet_04_040                              ENCODE_TF   \n",
       "DataSet_04_041        beta-Barrel DNA-binding domains   \n",
       "DataSet_04_042  Zinc-coordinating DNA-binding domains   \n",
       "DataSet_04_043  Zinc-coordinating DNA-binding domains   \n",
       "\n",
       "                                       Tissue.Type Biosample.Type Data.Source  \\\n",
       "DataSet_01_001                       Mammary_gland      Cell line         GEO   \n",
       "DataSet_01_002                               Liver      Cell line         GEO   \n",
       "DataSet_01_003                       Embryo_kidney      Stem cell         GEO   \n",
       "DataSet_01_004  Haematopoietic_and_lymphoid_tissue      Cell line         GEO   \n",
       "DataSet_01_005                         Bone_marrow      Cell line         GEO   \n",
       "...                                            ...            ...         ...   \n",
       "DataSet_04_039                               Liver      Cell line      ENCODE   \n",
       "DataSet_04_040                               Liver      Cell line      ENCODE   \n",
       "DataSet_04_041                               Liver      Cell line      ENCODE   \n",
       "DataSet_04_042                               Liver      Cell line      ENCODE   \n",
       "DataSet_04_043                               Liver      Cell line      ENCODE   \n",
       "\n",
       "               Pubmed.ID     logFC  \n",
       "DataSet_01_001  18631401 -0.713850  \n",
       "DataSet_01_002  29466992  0.164280  \n",
       "DataSet_01_003  18458340  0.262150  \n",
       "DataSet_01_004  18801183 -0.950180  \n",
       "DataSet_01_005  20203285  0.000000  \n",
       "...                  ...       ...  \n",
       "DataSet_04_039  22955616 -1.392551  \n",
       "DataSet_04_040  22955616 -0.173964  \n",
       "DataSet_04_041  22955616 -2.025170  \n",
       "DataSet_04_042  22955616 -0.027152  \n",
       "DataSet_04_043  22955616  0.990298  \n",
       "\n",
       "[907 rows x 13 columns]"
      ]
     },
     "execution_count": 11,
     "metadata": {},
     "output_type": "execute_result"
    }
   ],
   "source": [
    "obs"
   ]
  },
  {
   "cell_type": "code",
   "execution_count": 3,
   "id": "8f40e67b-b84c-4326-bd8b-b1514dc6356b",
   "metadata": {},
   "outputs": [
    {
     "data": {
      "text/plain": [
       "((388, 21985), (388, 13))"
      ]
     },
     "execution_count": 3,
     "metadata": {},
     "output_type": "execute_result"
    }
   ],
   "source": [
    "msk = obs['logFC'] < -1\n",
    "mat = mat[msk]\n",
    "obs = obs[msk]\n",
    "mat.shape, obs.shape"
   ]
  },
  {
   "cell_type": "code",
   "execution_count": 6,
   "id": "82c01008-6929-40f7-b45f-39ba70295cf8",
   "metadata": {},
   "outputs": [],
   "source": [
    "doro_ABC = dc.get_dorothea(levels=['A', 'B', 'C'])\n",
    "regnet = pd.read_csv('../data/raw/regnetwork.csv')\n",
    "chea3 = pd.read_csv('../data/raw/chea3.csv')\n",
    "collecTRI_signed = pd.read_csv('../output/040722/02_signed_networks/strict_signed_CollecTRI.csv')\n",
    "collecTRI_agnostic = pd.read_csv('../output/040722/02_signed_networks/strict_signed_CollecTRI.csv')\n",
    "collecTRI_agnostic['weight'] = 1\n",
    "collecTRI_rand = dc.shuffle_net(collecTRI_agnostic, target='target', weight='weight').drop_duplicates(['source', 'target'])\n",
    "collecTRI_rand_signed = dc.shuffle_net(collecTRI_signed, target='target', weight='weight').drop_duplicates(['source', 'target'])"
   ]
  },
  {
   "cell_type": "code",
   "execution_count": 6,
   "id": "e6ae4c4a-bf4a-4773-ab6d-2aabe0e64c7c",
   "metadata": {},
   "outputs": [],
   "source": [
    "pd.DataFrame.to_csv(doro_ABC, '../data/raw/dorothea_ABC.csv')"
   ]
  },
  {
   "cell_type": "code",
   "execution_count": 11,
   "id": "1b97d7c6-6f9b-4776-9230-9c0f7fc6737a",
   "metadata": {},
   "outputs": [],
   "source": [
    "chea3_archs4 = chea3[chea3['confidence'] == 'ARCHS4_Coexpression']\n",
    "chea3_encode = chea3[chea3['confidence'] == 'ENCODE_ChIP-seq']\n",
    "chea3_enrich = chea3[chea3['confidence'] == 'Enrichr_Queries']\n",
    "chea3_GTEx = chea3[chea3['confidence'] == 'GTEx_Coexpression']\n",
    "chea3_lit = chea3[chea3['confidence'] == 'Literature_ChIP-seq']\n",
    "chea3_remap = chea3[chea3['confidence'] == 'ReMap_ChIP-seq']"
   ]
  },
  {
   "cell_type": "code",
   "execution_count": 12,
   "id": "d9d4b650-0e81-48a6-acb3-127d0fe9833d",
   "metadata": {},
   "outputs": [
    {
     "name": "stdout",
     "output_type": "stream",
     "text": [
      "Using ABC network...\n",
      "Extracting inputs...\n",
      "Formating net...\n",
      "174 experiments without sources in net, they will be removed.\n",
      "Running methods...\n",
      "55 features of mat are empty, they will be removed.\n",
      "Running mlm on mat with 214 samples and 21930 targets for 297 sources.\n"
     ]
    },
    {
     "name": "stderr",
     "output_type": "stream",
     "text": [
      "100%|█████████████████████████████████████████████| 1/1 [00:00<00:00,  1.95it/s]\n"
     ]
    },
    {
     "name": "stdout",
     "output_type": "stream",
     "text": [
      "55 features of mat are empty, they will be removed.\n",
      "Running ulm on mat with 214 samples and 21930 targets for 297 sources.\n",
      "55 features of mat are empty, they will be removed.\n",
      "Running wsum on mat with 214 samples and 21930 targets for 297 sources.\n",
      "Infering activities on 1 batches.\n"
     ]
    },
    {
     "name": "stderr",
     "output_type": "stream",
     "text": [
      "100%|█████████████████████████████████████████████| 1/1 [00:03<00:00,  3.44s/it]\n"
     ]
    },
    {
     "name": "stdout",
     "output_type": "stream",
     "text": [
      "Calculating metrics...\n",
      "Computing metrics...\n",
      "Done.\n",
      "Using collecTRI network...\n",
      "Extracting inputs...\n",
      "Formating net...\n",
      "122 experiments without sources in net, they will be removed.\n",
      "Running methods...\n",
      "52 features of mat are empty, they will be removed.\n",
      "Running mlm on mat with 266 samples and 21933 targets for 702 sources.\n"
     ]
    },
    {
     "name": "stderr",
     "output_type": "stream",
     "text": [
      "100%|█████████████████████████████████████████████| 1/1 [00:01<00:00,  1.13s/it]\n"
     ]
    },
    {
     "name": "stdout",
     "output_type": "stream",
     "text": [
      "52 features of mat are empty, they will be removed.\n",
      "Running ulm on mat with 266 samples and 21933 targets for 702 sources.\n",
      "52 features of mat are empty, they will be removed.\n",
      "Running wsum on mat with 266 samples and 21933 targets for 702 sources.\n",
      "Infering activities on 1 batches.\n"
     ]
    },
    {
     "name": "stderr",
     "output_type": "stream",
     "text": [
      "100%|█████████████████████████████████████████████| 1/1 [00:06<00:00,  6.90s/it]\n"
     ]
    },
    {
     "name": "stdout",
     "output_type": "stream",
     "text": [
      "Calculating metrics...\n",
      "Computing metrics...\n",
      "Done.\n",
      "Using collecTRI_signed network...\n",
      "Extracting inputs...\n",
      "Formating net...\n",
      "122 experiments without sources in net, they will be removed.\n",
      "Running methods...\n",
      "52 features of mat are empty, they will be removed.\n",
      "Running mlm on mat with 266 samples and 21933 targets for 702 sources.\n"
     ]
    },
    {
     "name": "stderr",
     "output_type": "stream",
     "text": [
      "100%|█████████████████████████████████████████████| 1/1 [00:01<00:00,  1.50s/it]\n"
     ]
    },
    {
     "name": "stdout",
     "output_type": "stream",
     "text": [
      "52 features of mat are empty, they will be removed.\n",
      "Running ulm on mat with 266 samples and 21933 targets for 702 sources.\n",
      "52 features of mat are empty, they will be removed.\n",
      "Running wsum on mat with 266 samples and 21933 targets for 702 sources.\n",
      "Infering activities on 1 batches.\n"
     ]
    },
    {
     "name": "stderr",
     "output_type": "stream",
     "text": [
      "100%|█████████████████████████████████████████████| 1/1 [00:07<00:00,  7.58s/it]\n"
     ]
    },
    {
     "name": "stdout",
     "output_type": "stream",
     "text": [
      "Calculating metrics...\n",
      "Computing metrics...\n",
      "Done.\n",
      "Using regnet network...\n",
      "Extracting inputs...\n",
      "Formating net...\n",
      "181 experiments without sources in net, they will be removed.\n",
      "Running methods...\n",
      "55 features of mat are empty, they will be removed.\n",
      "Running mlm on mat with 207 samples and 21930 targets for 434 sources.\n"
     ]
    },
    {
     "name": "stderr",
     "output_type": "stream",
     "text": [
      "100%|█████████████████████████████████████████████| 1/1 [00:00<00:00,  1.43it/s]\n"
     ]
    },
    {
     "name": "stdout",
     "output_type": "stream",
     "text": [
      "55 features of mat are empty, they will be removed.\n",
      "Running ulm on mat with 207 samples and 21930 targets for 434 sources.\n",
      "55 features of mat are empty, they will be removed.\n",
      "Running wsum on mat with 207 samples and 21930 targets for 434 sources.\n",
      "Infering activities on 1 batches.\n"
     ]
    },
    {
     "name": "stderr",
     "output_type": "stream",
     "text": [
      "100%|█████████████████████████████████████████████| 1/1 [00:04<00:00,  4.25s/it]\n"
     ]
    },
    {
     "name": "stdout",
     "output_type": "stream",
     "text": [
      "Calculating metrics...\n",
      "Computing metrics...\n",
      "Done.\n",
      "Using chea3_archs4 network...\n",
      "Extracting inputs...\n",
      "Formating net...\n",
      "112 experiments without sources in net, they will be removed.\n",
      "Running methods...\n",
      "50 features of mat are empty, they will be removed.\n",
      "Running mlm on mat with 276 samples and 21935 targets for 1614 sources.\n"
     ]
    },
    {
     "name": "stderr",
     "output_type": "stream",
     "text": [
      "100%|█████████████████████████████████████████████| 1/1 [00:03<00:00,  3.79s/it]\n"
     ]
    },
    {
     "name": "stdout",
     "output_type": "stream",
     "text": [
      "50 features of mat are empty, they will be removed.\n",
      "Running ulm on mat with 276 samples and 21935 targets for 1614 sources.\n",
      "50 features of mat are empty, they will be removed.\n",
      "Running wsum on mat with 276 samples and 21935 targets for 1614 sources.\n",
      "Infering activities on 1 batches.\n"
     ]
    },
    {
     "name": "stderr",
     "output_type": "stream",
     "text": [
      "100%|█████████████████████████████████████████████| 1/1 [00:14<00:00, 14.11s/it]\n"
     ]
    },
    {
     "name": "stdout",
     "output_type": "stream",
     "text": [
      "Calculating metrics...\n",
      "Computing metrics...\n",
      "Done.\n",
      "Using chea3_encode network...\n",
      "Extracting inputs...\n",
      "Formating net...\n",
      "281 experiments without sources in net, they will be removed.\n",
      "Running methods...\n",
      "68 features of mat are empty, they will be removed.\n",
      "Running mlm on mat with 107 samples and 21917 targets for 133 sources.\n"
     ]
    },
    {
     "name": "stderr",
     "output_type": "stream",
     "text": [
      "100%|█████████████████████████████████████████████| 1/1 [00:00<00:00,  2.88it/s]\n"
     ]
    },
    {
     "name": "stdout",
     "output_type": "stream",
     "text": [
      "68 features of mat are empty, they will be removed.\n",
      "Running ulm on mat with 107 samples and 21917 targets for 133 sources.\n",
      "68 features of mat are empty, they will be removed.\n",
      "Running wsum on mat with 107 samples and 21917 targets for 133 sources.\n",
      "Infering activities on 1 batches.\n"
     ]
    },
    {
     "name": "stderr",
     "output_type": "stream",
     "text": [
      "100%|█████████████████████████████████████████████| 1/1 [00:01<00:00,  1.52s/it]\n"
     ]
    },
    {
     "name": "stdout",
     "output_type": "stream",
     "text": [
      "Calculating metrics...\n",
      "Computing metrics...\n",
      "Done.\n",
      "Using chea3_enrich network...\n",
      "Extracting inputs...\n",
      "Formating net...\n",
      "126 experiments without sources in net, they will be removed.\n",
      "Running methods...\n",
      "50 features of mat are empty, they will be removed.\n",
      "Running mlm on mat with 262 samples and 21935 targets for 1393 sources.\n"
     ]
    },
    {
     "name": "stderr",
     "output_type": "stream",
     "text": [
      "100%|█████████████████████████████████████████████| 1/1 [00:03<00:00,  3.82s/it]\n"
     ]
    },
    {
     "name": "stdout",
     "output_type": "stream",
     "text": [
      "50 features of mat are empty, they will be removed.\n",
      "Running ulm on mat with 262 samples and 21935 targets for 1393 sources.\n",
      "50 features of mat are empty, they will be removed.\n",
      "Running wsum on mat with 262 samples and 21935 targets for 1393 sources.\n",
      "Infering activities on 1 batches.\n"
     ]
    },
    {
     "name": "stderr",
     "output_type": "stream",
     "text": [
      "100%|█████████████████████████████████████████████| 1/1 [00:27<00:00, 27.25s/it]\n"
     ]
    },
    {
     "name": "stdout",
     "output_type": "stream",
     "text": [
      "Calculating metrics...\n",
      "Computing metrics...\n",
      "Done.\n",
      "Using chea3_GTEx network...\n",
      "Extracting inputs...\n",
      "Formating net...\n",
      "113 experiments without sources in net, they will be removed.\n",
      "Running methods...\n",
      "50 features of mat are empty, they will be removed.\n",
      "Running mlm on mat with 275 samples and 21935 targets for 1579 sources.\n"
     ]
    },
    {
     "name": "stderr",
     "output_type": "stream",
     "text": [
      "100%|█████████████████████████████████████████████| 1/1 [00:03<00:00,  3.87s/it]\n"
     ]
    },
    {
     "name": "stdout",
     "output_type": "stream",
     "text": [
      "50 features of mat are empty, they will be removed.\n",
      "Running ulm on mat with 275 samples and 21935 targets for 1579 sources.\n",
      "50 features of mat are empty, they will be removed.\n",
      "Running wsum on mat with 275 samples and 21935 targets for 1579 sources.\n",
      "Infering activities on 1 batches.\n"
     ]
    },
    {
     "name": "stderr",
     "output_type": "stream",
     "text": [
      "100%|█████████████████████████████████████████████| 1/1 [00:15<00:00, 15.78s/it]\n"
     ]
    },
    {
     "name": "stdout",
     "output_type": "stream",
     "text": [
      "Calculating metrics...\n",
      "Computing metrics...\n",
      "Done.\n",
      "Using chea3_lit network...\n",
      "Extracting inputs...\n",
      "Formating net...\n",
      "224 experiments without sources in net, they will be removed.\n",
      "Running methods...\n",
      "68 features of mat are empty, they will be removed.\n",
      "Running mlm on mat with 164 samples and 21917 targets for 166 sources.\n"
     ]
    },
    {
     "name": "stderr",
     "output_type": "stream",
     "text": [
      "100%|█████████████████████████████████████████████| 1/1 [00:00<00:00,  2.68it/s]\n"
     ]
    },
    {
     "name": "stdout",
     "output_type": "stream",
     "text": [
      "68 features of mat are empty, they will be removed.\n",
      "Running ulm on mat with 164 samples and 21917 targets for 166 sources.\n",
      "68 features of mat are empty, they will be removed.\n",
      "Running wsum on mat with 164 samples and 21917 targets for 166 sources.\n",
      "Infering activities on 1 batches.\n"
     ]
    },
    {
     "name": "stderr",
     "output_type": "stream",
     "text": [
      "100%|█████████████████████████████████████████████| 1/1 [00:01<00:00,  1.93s/it]\n"
     ]
    },
    {
     "name": "stdout",
     "output_type": "stream",
     "text": [
      "Calculating metrics...\n",
      "Computing metrics...\n",
      "Done.\n",
      "Using chea3_remap network...\n",
      "Extracting inputs...\n",
      "Formating net...\n",
      "187 experiments without sources in net, they will be removed.\n",
      "Running methods...\n",
      "55 features of mat are empty, they will be removed.\n",
      "Running mlm on mat with 201 samples and 21930 targets for 306 sources.\n"
     ]
    },
    {
     "name": "stderr",
     "output_type": "stream",
     "text": [
      "100%|█████████████████████████████████████████████| 1/1 [00:00<00:00,  1.86it/s]\n"
     ]
    },
    {
     "name": "stdout",
     "output_type": "stream",
     "text": [
      "55 features of mat are empty, they will be removed.\n",
      "Running ulm on mat with 201 samples and 21930 targets for 306 sources.\n",
      "55 features of mat are empty, they will be removed.\n",
      "Running wsum on mat with 201 samples and 21930 targets for 306 sources.\n",
      "Infering activities on 1 batches.\n"
     ]
    },
    {
     "name": "stderr",
     "output_type": "stream",
     "text": [
      "100%|█████████████████████████████████████████████| 1/1 [00:03<00:00,  3.06s/it]\n"
     ]
    },
    {
     "name": "stdout",
     "output_type": "stream",
     "text": [
      "Calculating metrics...\n",
      "Computing metrics...\n",
      "Done.\n",
      "Using rand network...\n",
      "Extracting inputs...\n",
      "Formating net...\n",
      "122 experiments without sources in net, they will be removed.\n",
      "Running methods...\n",
      "52 features of mat are empty, they will be removed.\n",
      "Running mlm on mat with 266 samples and 21933 targets for 699 sources.\n"
     ]
    },
    {
     "name": "stderr",
     "output_type": "stream",
     "text": [
      "100%|█████████████████████████████████████████████| 1/1 [00:01<00:00,  1.17s/it]\n"
     ]
    },
    {
     "name": "stdout",
     "output_type": "stream",
     "text": [
      "52 features of mat are empty, they will be removed.\n",
      "Running ulm on mat with 266 samples and 21933 targets for 699 sources.\n",
      "52 features of mat are empty, they will be removed.\n",
      "Running wsum on mat with 266 samples and 21933 targets for 699 sources.\n",
      "Infering activities on 1 batches.\n"
     ]
    },
    {
     "name": "stderr",
     "output_type": "stream",
     "text": [
      "100%|█████████████████████████████████████████████| 1/1 [00:08<00:00,  8.44s/it]\n"
     ]
    },
    {
     "name": "stdout",
     "output_type": "stream",
     "text": [
      "Calculating metrics...\n",
      "Computing metrics...\n",
      "Done.\n"
     ]
    }
   ],
   "source": [
    "# Build dictionary of networks to test\n",
    "nets = {\n",
    "    'ABC': doro_ABC,\n",
    "    'collecTRI': collecTRI_agnostic,\n",
    "    'collecTRI_signed': collecTRI_signed,\n",
    "    'regnet': regnet,\n",
    "    'chea3_archs4': chea3_archs4,\n",
    "    'chea3_encode': chea3_encode,\n",
    "    'chea3_enrich': chea3_enrich,\n",
    "    'chea3_GTEx': chea3_GTEx,\n",
    "    'chea3_lit': chea3_lit,\n",
    "    'chea3_remap': chea3_remap,\n",
    "    'rand': collecTRI_rand\n",
    "}\n",
    "\n",
    "# Example extra arguments\n",
    "decouple_kws = {\n",
    "    'ABC': {'args' : {'wsum' : {'times': 100}}},\n",
    "    'collecTRI': {'args' : {'wsum' : {'times': 100}}},\n",
    "    'collecTRI_signed': {'args' : {'wsum' : {'times': 100}}},\n",
    "    'regnet': {'args' : {'wsum' : {'times': 100}}},\n",
    "    'chea3_archs4': {'args' : {'wsum' : {'times': 100}}},\n",
    "    'chea3_encode': {'args' : {'wsum' : {'times': 100}}},\n",
    "    'chea3_enrich': {'args' : {'wsum' : {'times': 100}}},\n",
    "    'chea3_GTEx': {'args' : {'wsum' : {'times': 100}}},\n",
    "    'chea3_lit': {'args' : {'wsum' : {'times': 100}}},\n",
    "    'chea3_remap': {'args' : {'wsum' : {'times': 100}}},\n",
    "    'rand': {'args' : {'wsum' : {'times': 100}}}\n",
    "\n",
    "}\n",
    "\n",
    "# Run benchmark pipeline\n",
    "df = dc.benchmark(mat, obs, nets, perturb='TF', sign=-1, verbose=True, decouple_kws=decouple_kws)"
   ]
  },
  {
   "cell_type": "code",
   "execution_count": 13,
   "id": "04f8cf50-ba12-45f4-a7e9-2c8eb5382447",
   "metadata": {},
   "outputs": [],
   "source": [
    "pd.DataFrame.to_csv(df, '../output/040722/benchmark/agnositc_res.csv')"
   ]
  },
  {
   "cell_type": "code",
   "execution_count": 38,
   "id": "01820d60-3d3d-4e5b-93a7-38be72037b6a",
   "metadata": {},
   "outputs": [],
   "source": [
    "# Build dictionary of networks to test\n",
    "nets = {\n",
    "    'collecTRI': collecTRI_agnostic,\n",
    "    'collecTRI_signed': collecTRI_signed\n",
    "}\n",
    "\n",
    "# Example extra arguments\n",
    "decouple_kws = {\n",
    "    'collecTRI': {'args' : {'wsum' : {'times': 100}}},\n",
    "    'collecTRI_signed': {'args' : {'wsum' : {'times': 100}}}\n",
    "\n",
    "}"
   ]
  },
  {
   "cell_type": "code",
   "execution_count": 39,
   "id": "acdf5e12-3f60-49f8-80fb-587dfbdf60a8",
   "metadata": {},
   "outputs": [
    {
     "name": "stdout",
     "output_type": "stream",
     "text": [
      "Using collecTRI network...\n",
      "Extracting inputs...\n",
      "Formating net...\n",
      "139 experiments without sources in net, they will be removed.\n",
      "Running methods...\n",
      "52 features of mat are empty, they will be removed.\n",
      "Running mlm on mat with 249 samples and 21933 targets for 598 sources.\n"
     ]
    },
    {
     "name": "stderr",
     "output_type": "stream",
     "text": [
      "100%|█████████████████████████████████████████████| 1/1 [00:01<00:00,  1.03s/it]\n"
     ]
    },
    {
     "name": "stdout",
     "output_type": "stream",
     "text": [
      "52 features of mat are empty, they will be removed.\n",
      "Running ulm on mat with 249 samples and 21933 targets for 598 sources.\n",
      "52 features of mat are empty, they will be removed.\n",
      "Running wsum on mat with 249 samples and 21933 targets for 598 sources.\n",
      "Infering activities on 1 batches.\n"
     ]
    },
    {
     "name": "stderr",
     "output_type": "stream",
     "text": [
      "100%|█████████████████████████████████████████████| 1/1 [00:05<00:00,  5.76s/it]\n"
     ]
    },
    {
     "name": "stdout",
     "output_type": "stream",
     "text": [
      "Calculating metrics...\n",
      "Computing metrics...\n",
      "Done.\n",
      "Using collecTRI_signed network...\n",
      "Extracting inputs...\n",
      "Formating net...\n",
      "139 experiments without sources in net, they will be removed.\n",
      "Running methods...\n",
      "52 features of mat are empty, they will be removed.\n",
      "Running mlm on mat with 249 samples and 21933 targets for 598 sources.\n"
     ]
    },
    {
     "name": "stderr",
     "output_type": "stream",
     "text": [
      "100%|█████████████████████████████████████████████| 1/1 [00:01<00:00,  1.02s/it]\n"
     ]
    },
    {
     "name": "stdout",
     "output_type": "stream",
     "text": [
      "52 features of mat are empty, they will be removed.\n",
      "Running ulm on mat with 249 samples and 21933 targets for 598 sources.\n",
      "52 features of mat are empty, they will be removed.\n",
      "Running wsum on mat with 249 samples and 21933 targets for 598 sources.\n",
      "Infering activities on 1 batches.\n"
     ]
    },
    {
     "name": "stderr",
     "output_type": "stream",
     "text": [
      "100%|█████████████████████████████████████████████| 1/1 [00:05<00:00,  5.60s/it]\n"
     ]
    },
    {
     "name": "stdout",
     "output_type": "stream",
     "text": [
      "Calculating metrics...\n",
      "Computing metrics...\n",
      "Done.\n"
     ]
    }
   ],
   "source": [
    "df_source = dc.benchmark(mat, obs, nets, perturb='TF', sign=-1, by='source', verbose=True, decouple_kws=decouple_kws)"
   ]
  },
  {
   "cell_type": "code",
   "execution_count": 40,
   "id": "c95c4450-2ee1-4088-a089-7de993ed8327",
   "metadata": {},
   "outputs": [
    {
     "data": {
      "image/png": "[encoded data removed]",
      "text/plain": [
       "<Figure size 900x500 with 12 Axes>"
      ]
     },
     "metadata": {},
     "output_type": "display_data"
    }
   ],
   "source": [
    "dc.plot_metrics_scatter_cols(df_source[df_source['method'] == 'consensus_estimate'], col='source', figsize=(9, 5), groupby='net')"
   ]
  },
  {
   "cell_type": "code",
   "execution_count": 37,
   "id": "1c37252c-77e4-47e0-913f-3efa2c8bf340",
   "metadata": {},
   "outputs": [
    {
     "data": {
      "text/html": [
       "<div>\n",
       "<style scoped>\n",
       "    .dataframe tbody tr th:only-of-type {\n",
       "        vertical-align: middle;\n",
       "    }\n",
       "\n",
       "    .dataframe tbody tr th {\n",
       "        vertical-align: top;\n",
       "    }\n",
       "\n",
       "    .dataframe thead th {\n",
       "        text-align: right;\n",
       "    }\n",
       "</style>\n",
       "<table border=\"1\" class=\"dataframe\">\n",
       "  <thead>\n",
       "    <tr style=\"text-align: right;\">\n",
       "      <th></th>\n",
       "      <th>groupby</th>\n",
       "      <th>group</th>\n",
       "      <th>source</th>\n",
       "      <th>method</th>\n",
       "      <th>metric</th>\n",
       "      <th>score</th>\n",
       "      <th>ci</th>\n",
       "      <th>net</th>\n",
       "    </tr>\n",
       "  </thead>\n",
       "  <tbody>\n",
       "    <tr>\n",
       "      <th>10010</th>\n",
       "      <td>None</td>\n",
       "      <td>None</td>\n",
       "      <td>FLI1</td>\n",
       "      <td>consensus_estimate</td>\n",
       "      <td>auroc</td>\n",
       "      <td>0.657051</td>\n",
       "      <td>0.028037</td>\n",
       "      <td>ABC</td>\n",
       "    </tr>\n",
       "    <tr>\n",
       "      <th>10011</th>\n",
       "      <td>None</td>\n",
       "      <td>None</td>\n",
       "      <td>FLI1</td>\n",
       "      <td>consensus_estimate</td>\n",
       "      <td>auprc</td>\n",
       "      <td>0.732494</td>\n",
       "      <td>0.028037</td>\n",
       "      <td>ABC</td>\n",
       "    </tr>\n",
       "    <tr>\n",
       "      <th>10012</th>\n",
       "      <td>None</td>\n",
       "      <td>None</td>\n",
       "      <td>FLI1</td>\n",
       "      <td>consensus_estimate</td>\n",
       "      <td>mcauroc</td>\n",
       "      <td>0.611111</td>\n",
       "      <td>0.028037</td>\n",
       "      <td>ABC</td>\n",
       "    </tr>\n",
       "    <tr>\n",
       "      <th>10013</th>\n",
       "      <td>None</td>\n",
       "      <td>None</td>\n",
       "      <td>FLI1</td>\n",
       "      <td>consensus_estimate</td>\n",
       "      <td>mcauroc</td>\n",
       "      <td>0.583333</td>\n",
       "      <td>0.028037</td>\n",
       "      <td>ABC</td>\n",
       "    </tr>\n",
       "    <tr>\n",
       "      <th>10014</th>\n",
       "      <td>None</td>\n",
       "      <td>None</td>\n",
       "      <td>FLI1</td>\n",
       "      <td>consensus_estimate</td>\n",
       "      <td>mcauroc</td>\n",
       "      <td>0.611111</td>\n",
       "      <td>0.028037</td>\n",
       "      <td>ABC</td>\n",
       "    </tr>\n",
       "    <tr>\n",
       "      <th>...</th>\n",
       "      <td>...</td>\n",
       "      <td>...</td>\n",
       "      <td>...</td>\n",
       "      <td>...</td>\n",
       "      <td>...</td>\n",
       "      <td>...</td>\n",
       "      <td>...</td>\n",
       "      <td>...</td>\n",
       "    </tr>\n",
       "    <tr>\n",
       "      <th>132127</th>\n",
       "      <td>None</td>\n",
       "      <td>None</td>\n",
       "      <td>TP63</td>\n",
       "      <td>consensus_estimate</td>\n",
       "      <td>mcauprc</td>\n",
       "      <td>0.944444</td>\n",
       "      <td>0.024096</td>\n",
       "      <td>collecTRI_signed</td>\n",
       "    </tr>\n",
       "    <tr>\n",
       "      <th>132128</th>\n",
       "      <td>None</td>\n",
       "      <td>None</td>\n",
       "      <td>TP63</td>\n",
       "      <td>consensus_estimate</td>\n",
       "      <td>mcauprc</td>\n",
       "      <td>0.646627</td>\n",
       "      <td>0.024096</td>\n",
       "      <td>collecTRI_signed</td>\n",
       "    </tr>\n",
       "    <tr>\n",
       "      <th>132129</th>\n",
       "      <td>None</td>\n",
       "      <td>None</td>\n",
       "      <td>TP63</td>\n",
       "      <td>consensus_estimate</td>\n",
       "      <td>mcauprc</td>\n",
       "      <td>0.958333</td>\n",
       "      <td>0.024096</td>\n",
       "      <td>collecTRI_signed</td>\n",
       "    </tr>\n",
       "    <tr>\n",
       "      <th>132130</th>\n",
       "      <td>None</td>\n",
       "      <td>None</td>\n",
       "      <td>TP63</td>\n",
       "      <td>consensus_estimate</td>\n",
       "      <td>mcauprc</td>\n",
       "      <td>0.688492</td>\n",
       "      <td>0.024096</td>\n",
       "      <td>collecTRI_signed</td>\n",
       "    </tr>\n",
       "    <tr>\n",
       "      <th>132131</th>\n",
       "      <td>None</td>\n",
       "      <td>None</td>\n",
       "      <td>TP63</td>\n",
       "      <td>consensus_estimate</td>\n",
       "      <td>mcauprc</td>\n",
       "      <td>0.883333</td>\n",
       "      <td>0.024096</td>\n",
       "      <td>collecTRI_signed</td>\n",
       "    </tr>\n",
       "  </tbody>\n",
       "</table>\n",
       "<p>68068 rows × 8 columns</p>\n",
       "</div>"
      ],
      "text/plain": [
       "       groupby group source              method   metric     score        ci  \\\n",
       "10010     None  None   FLI1  consensus_estimate    auroc  0.657051  0.028037   \n",
       "10011     None  None   FLI1  consensus_estimate    auprc  0.732494  0.028037   \n",
       "10012     None  None   FLI1  consensus_estimate  mcauroc  0.611111  0.028037   \n",
       "10013     None  None   FLI1  consensus_estimate  mcauroc  0.583333  0.028037   \n",
       "10014     None  None   FLI1  consensus_estimate  mcauroc  0.611111  0.028037   \n",
       "...        ...   ...    ...                 ...      ...       ...       ...   \n",
       "132127    None  None   TP63  consensus_estimate  mcauprc  0.944444  0.024096   \n",
       "132128    None  None   TP63  consensus_estimate  mcauprc  0.646627  0.024096   \n",
       "132129    None  None   TP63  consensus_estimate  mcauprc  0.958333  0.024096   \n",
       "132130    None  None   TP63  consensus_estimate  mcauprc  0.688492  0.024096   \n",
       "132131    None  None   TP63  consensus_estimate  mcauprc  0.883333  0.024096   \n",
       "\n",
       "                     net  \n",
       "10010                ABC  \n",
       "10011                ABC  \n",
       "10012                ABC  \n",
       "10013                ABC  \n",
       "10014                ABC  \n",
       "...                  ...  \n",
       "132127  collecTRI_signed  \n",
       "132128  collecTRI_signed  \n",
       "132129  collecTRI_signed  \n",
       "132130  collecTRI_signed  \n",
       "132131  collecTRI_signed  \n",
       "\n",
       "[68068 rows x 8 columns]"
      ]
     },
     "execution_count": 37,
     "metadata": {},
     "output_type": "execute_result"
    }
   ],
   "source": [
    "df_source[df_source['method'] == 'consensus_estimate']"
   ]
  },
  {
   "cell_type": "code",
   "execution_count": 7,
   "id": "e35fd957-f0d4-48e4-b181-b940173416fe",
   "metadata": {},
   "outputs": [
    {
     "name": "stdout",
     "output_type": "stream",
     "text": [
      "Using ABC network...\n",
      "Extracting inputs...\n",
      "Formating net...\n",
      "174 experiments without sources in net, they will be removed.\n",
      "Running methods...\n",
      "55 features of mat are empty, they will be removed.\n",
      "Running mlm on mat with 214 samples and 21930 targets for 297 sources.\n"
     ]
    },
    {
     "name": "stderr",
     "output_type": "stream",
     "text": [
      "100%|█████████████████████████████████████████████| 1/1 [00:00<00:00,  1.74it/s]\n"
     ]
    },
    {
     "name": "stdout",
     "output_type": "stream",
     "text": [
      "55 features of mat are empty, they will be removed.\n",
      "Running ulm on mat with 214 samples and 21930 targets for 297 sources.\n",
      "55 features of mat are empty, they will be removed.\n",
      "Running wsum on mat with 214 samples and 21930 targets for 297 sources.\n",
      "Infering activities on 1 batches.\n"
     ]
    },
    {
     "name": "stderr",
     "output_type": "stream",
     "text": [
      "100%|█████████████████████████████████████████████| 1/1 [00:03<00:00,  3.20s/it]\n"
     ]
    },
    {
     "name": "stdout",
     "output_type": "stream",
     "text": [
      "Calculating metrics...\n",
      "Computing metrics...\n",
      "Done.\n",
      "Using regnet network...\n",
      "Extracting inputs...\n",
      "Formating net...\n",
      "181 experiments without sources in net, they will be removed.\n",
      "Running methods...\n",
      "55 features of mat are empty, they will be removed.\n",
      "Running mlm on mat with 207 samples and 21930 targets for 434 sources.\n"
     ]
    },
    {
     "name": "stderr",
     "output_type": "stream",
     "text": [
      "100%|█████████████████████████████████████████████| 1/1 [00:00<00:00,  1.44it/s]\n"
     ]
    },
    {
     "name": "stdout",
     "output_type": "stream",
     "text": [
      "55 features of mat are empty, they will be removed.\n",
      "Running ulm on mat with 207 samples and 21930 targets for 434 sources.\n",
      "55 features of mat are empty, they will be removed.\n",
      "Running wsum on mat with 207 samples and 21930 targets for 434 sources.\n",
      "Infering activities on 1 batches.\n"
     ]
    },
    {
     "name": "stderr",
     "output_type": "stream",
     "text": [
      "100%|█████████████████████████████████████████████| 1/1 [00:04<00:00,  4.23s/it]\n"
     ]
    },
    {
     "name": "stdout",
     "output_type": "stream",
     "text": [
      "Calculating metrics...\n",
      "Computing metrics...\n",
      "Done.\n",
      "Using collecTRI_signed network...\n",
      "Extracting inputs...\n",
      "Formating net...\n",
      "122 experiments without sources in net, they will be removed.\n",
      "Running methods...\n",
      "52 features of mat are empty, they will be removed.\n",
      "Running mlm on mat with 266 samples and 21933 targets for 702 sources.\n"
     ]
    },
    {
     "name": "stderr",
     "output_type": "stream",
     "text": [
      "100%|█████████████████████████████████████████████| 1/1 [00:01<00:00,  1.17s/it]\n"
     ]
    },
    {
     "name": "stdout",
     "output_type": "stream",
     "text": [
      "52 features of mat are empty, they will be removed.\n",
      "Running ulm on mat with 266 samples and 21933 targets for 702 sources.\n",
      "52 features of mat are empty, they will be removed.\n",
      "Running wsum on mat with 266 samples and 21933 targets for 702 sources.\n",
      "Infering activities on 1 batches.\n"
     ]
    },
    {
     "name": "stderr",
     "output_type": "stream",
     "text": [
      "100%|█████████████████████████████████████████████| 1/1 [00:06<00:00,  6.45s/it]\n"
     ]
    },
    {
     "name": "stdout",
     "output_type": "stream",
     "text": [
      "Calculating metrics...\n",
      "Computing metrics...\n",
      "Done.\n",
      "Using rand network...\n",
      "Extracting inputs...\n",
      "Formating net...\n",
      "122 experiments without sources in net, they will be removed.\n",
      "Running methods...\n",
      "52 features of mat are empty, they will be removed.\n",
      "Running mlm on mat with 266 samples and 21933 targets for 699 sources.\n"
     ]
    },
    {
     "name": "stderr",
     "output_type": "stream",
     "text": [
      "100%|█████████████████████████████████████████████| 1/1 [00:01<00:00,  1.17s/it]\n"
     ]
    },
    {
     "name": "stdout",
     "output_type": "stream",
     "text": [
      "52 features of mat are empty, they will be removed.\n",
      "Running ulm on mat with 266 samples and 21933 targets for 699 sources.\n",
      "52 features of mat are empty, they will be removed.\n",
      "Running wsum on mat with 266 samples and 21933 targets for 699 sources.\n",
      "Infering activities on 1 batches.\n"
     ]
    },
    {
     "name": "stderr",
     "output_type": "stream",
     "text": [
      "100%|█████████████████████████████████████████████| 1/1 [00:06<00:00,  6.68s/it]\n"
     ]
    },
    {
     "name": "stdout",
     "output_type": "stream",
     "text": [
      "Calculating metrics...\n",
      "Computing metrics...\n",
      "Done.\n"
     ]
    }
   ],
   "source": [
    "nets = {\n",
    "    'ABC': doro_ABC,\n",
    "    'regnet': regnet,\n",
    "    'collecTRI_signed': collecTRI_signed,\n",
    "    'rand': collecTRI_rand_signed\n",
    "}\n",
    "\n",
    "# Example extra arguments\n",
    "decouple_kws = {\n",
    "    'ABC': {'args' : {'wsum' : {'times': 100}}},\n",
    "    'regnet': {'args' : {'wsum' : {'times': 100}}},\n",
    "    'collecTRI_signed': {'args' : {'wsum' : {'times': 100}}},\n",
    "    'rand': {'args' : {'wsum' : {'times': 100}}}\n",
    "\n",
    "}\n",
    "\n",
    "# Run benchmark pipeline\n",
    "df_signed = dc.benchmark(mat, obs, nets, perturb='TF', sign=-1, verbose=True, decouple_kws=decouple_kws)"
   ]
  },
  {
   "cell_type": "code",
   "execution_count": 6,
   "id": "2e31d0e6-f4d4-42ca-87f0-021e892360d5",
   "metadata": {},
   "outputs": [],
   "source": [
    "pd.DataFrame.to_csv(df_signed, '../output/040722/benchmark/signed_res.csv')"
   ]
  },
  {
   "cell_type": "code",
   "execution_count": 8,
   "id": "32955fd0-0c23-4565-95b3-0f24cf1d234e",
   "metadata": {},
   "outputs": [
    {
     "name": "stdout",
     "output_type": "stream",
     "text": [
      "Using ABC network...\n",
      "Extracting inputs...\n",
      "Formating net...\n",
      "174 experiments without sources in net, they will be removed.\n",
      "Running methods...\n",
      "55 features of mat are empty, they will be removed.\n",
      "Running mlm on mat with 214 samples and 21930 targets for 297 sources.\n"
     ]
    },
    {
     "name": "stderr",
     "output_type": "stream",
     "text": [
      "100%|█████████████████████████████████████████████| 1/1 [00:00<00:00,  1.92it/s]\n"
     ]
    },
    {
     "name": "stdout",
     "output_type": "stream",
     "text": [
      "55 features of mat are empty, they will be removed.\n",
      "Running ulm on mat with 214 samples and 21930 targets for 297 sources.\n",
      "55 features of mat are empty, they will be removed.\n",
      "Running wsum on mat with 214 samples and 21930 targets for 297 sources.\n",
      "Infering activities on 1 batches.\n"
     ]
    },
    {
     "name": "stderr",
     "output_type": "stream",
     "text": [
      "100%|█████████████████████████████████████████████| 1/1 [00:03<00:00,  3.06s/it]\n"
     ]
    },
    {
     "name": "stdout",
     "output_type": "stream",
     "text": [
      "Calculating metrics...\n",
      "Computing metrics...\n",
      "Done.\n",
      "Using regnet network...\n",
      "Extracting inputs...\n",
      "Formating net...\n",
      "181 experiments without sources in net, they will be removed.\n",
      "Running methods...\n",
      "55 features of mat are empty, they will be removed.\n",
      "Running mlm on mat with 207 samples and 21930 targets for 434 sources.\n"
     ]
    },
    {
     "name": "stderr",
     "output_type": "stream",
     "text": [
      "100%|█████████████████████████████████████████████| 1/1 [00:00<00:00,  1.43it/s]\n"
     ]
    },
    {
     "name": "stdout",
     "output_type": "stream",
     "text": [
      "55 features of mat are empty, they will be removed.\n",
      "Running ulm on mat with 207 samples and 21930 targets for 434 sources.\n",
      "55 features of mat are empty, they will be removed.\n",
      "Running wsum on mat with 207 samples and 21930 targets for 434 sources.\n",
      "Infering activities on 1 batches.\n"
     ]
    },
    {
     "name": "stderr",
     "output_type": "stream",
     "text": [
      "100%|█████████████████████████████████████████████| 1/1 [00:04<00:00,  4.08s/it]\n"
     ]
    },
    {
     "name": "stdout",
     "output_type": "stream",
     "text": [
      "Calculating metrics...\n",
      "Computing metrics...\n",
      "Done.\n",
      "Using collecTRI_signed network...\n",
      "Extracting inputs...\n",
      "Formating net...\n",
      "122 experiments without sources in net, they will be removed.\n",
      "Running methods...\n",
      "52 features of mat are empty, they will be removed.\n",
      "Running mlm on mat with 266 samples and 21933 targets for 702 sources.\n"
     ]
    },
    {
     "name": "stderr",
     "output_type": "stream",
     "text": [
      "100%|█████████████████████████████████████████████| 1/1 [00:01<00:00,  1.28s/it]\n"
     ]
    },
    {
     "name": "stdout",
     "output_type": "stream",
     "text": [
      "52 features of mat are empty, they will be removed.\n",
      "Running ulm on mat with 266 samples and 21933 targets for 702 sources.\n",
      "52 features of mat are empty, they will be removed.\n",
      "Running wsum on mat with 266 samples and 21933 targets for 702 sources.\n",
      "Infering activities on 1 batches.\n"
     ]
    },
    {
     "name": "stderr",
     "output_type": "stream",
     "text": [
      "100%|█████████████████████████████████████████████| 1/1 [00:06<00:00,  6.44s/it]\n"
     ]
    },
    {
     "name": "stdout",
     "output_type": "stream",
     "text": [
      "Calculating metrics...\n",
      "Computing metrics...\n",
      "Done.\n",
      "Using rand network...\n",
      "Extracting inputs...\n",
      "Formating net...\n",
      "122 experiments without sources in net, they will be removed.\n",
      "Running methods...\n",
      "52 features of mat are empty, they will be removed.\n",
      "Running mlm on mat with 266 samples and 21933 targets for 699 sources.\n"
     ]
    },
    {
     "name": "stderr",
     "output_type": "stream",
     "text": [
      "100%|█████████████████████████████████████████████| 1/1 [00:01<00:00,  1.14s/it]\n"
     ]
    },
    {
     "name": "stdout",
     "output_type": "stream",
     "text": [
      "52 features of mat are empty, they will be removed.\n",
      "Running ulm on mat with 266 samples and 21933 targets for 699 sources.\n",
      "52 features of mat are empty, they will be removed.\n",
      "Running wsum on mat with 266 samples and 21933 targets for 699 sources.\n",
      "Infering activities on 1 batches.\n"
     ]
    },
    {
     "name": "stderr",
     "output_type": "stream",
     "text": [
      "100%|█████████████████████████████████████████████| 1/1 [00:07<00:00,  7.10s/it]\n"
     ]
    },
    {
     "name": "stdout",
     "output_type": "stream",
     "text": [
      "Calculating metrics...\n",
      "Computing metrics...\n",
      "Done.\n"
     ]
    }
   ],
   "source": [
    "df_signed_source = dc.benchmark(mat, obs, nets, perturb='TF', sign=-1, by='source', verbose=True, decouple_kws=decouple_kws)"
   ]
  },
  {
   "cell_type": "code",
   "execution_count": 9,
   "id": "484e460c-e654-4566-b216-9fee335e9be6",
   "metadata": {},
   "outputs": [],
   "source": [
    "pd.DataFrame.to_csv(df_signed_source, '../output/040722/benchmark/signed_source_res.csv')"
   ]
  }
 ],
 "metadata": {
  "kernelspec": {
   "display_name": "decoupler",
   "language": "python",
   "name": "decoupler"
  },
  "language_info": {
   "codemirror_mode": {
    "name": "ipython",
    "version": 3
   },
   "file_extension": ".py",
   "mimetype": "text/x-python",
   "name": "python",
   "nbconvert_exporter": "python",
   "pygments_lexer": "ipython3",
   "version": "3.10.4"
  }
 },
 "nbformat": 4,
 "nbformat_minor": 5
}
