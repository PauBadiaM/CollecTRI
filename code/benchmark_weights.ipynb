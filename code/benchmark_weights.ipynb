{
 "cells": [
  {
   "cell_type": "code",
   "execution_count": 1,
   "id": "c3ff99f3-5920-4c4c-a6bf-14c5ec5c7ee0",
   "metadata": {},
   "outputs": [
    {
     "name": "stderr",
     "output_type": "stream",
     "text": [
      "OMP: Info #276: omp_set_nested routine deprecated, please use omp_set_max_active_levels instead.\n"
     ]
    }
   ],
   "source": [
    "import pandas as pd\n",
    "import numpy as np\n",
    "\n",
    "import decoupler as dc\n",
    "import matplotlib.pyplot as plt"
   ]
  },
  {
   "cell_type": "code",
   "execution_count": 7,
   "id": "c6fec412-c505-4e48-9d81-9bb0e6f12d61",
   "metadata": {},
   "outputs": [
    {
     "name": "stdout",
     "output_type": "stream",
     "text": [
      "--2022-10-04 11:48:29--  https://zenodo.org/record/7035528/files/knockTF_expr.csv?download=1\n",
      "Resolving zenodo.org (zenodo.org)... 188.184.117.155\n",
      "Connecting to zenodo.org (zenodo.org)|188.184.117.155|:443... connected.\n",
      "HTTP request sent, awaiting response... 200 OK\n",
      "Length: 146086808 (139M) [text/plain]\n",
      "Saving to: ‘/Users/smuellerdott/Documents/NTNUdecoupleR/data/knockTF_expr.csv’\n",
      "\n",
      "/Users/smuellerdott 100%[===================>] 139,32M  28,0MB/s    in 5,7s    \n",
      "\n",
      "2022-10-04 11:48:35 (24,4 MB/s) - ‘/Users/smuellerdott/Documents/NTNUdecoupleR/data/knockTF_expr.csv’ saved [146086808/146086808]\n",
      "\n",
      "--2022-10-04 11:48:36--  https://zenodo.org/record/7035528/files/knockTF_meta.csv?download=1\n",
      "Resolving zenodo.org (zenodo.org)... 188.184.117.155\n",
      "Connecting to zenodo.org (zenodo.org)|188.184.117.155|:443... connected.\n",
      "HTTP request sent, awaiting response... 200 OK\n",
      "Length: 144861 (141K) [text/plain]\n",
      "Saving to: ‘/Users/smuellerdott/Documents/NTNUdecoupleR/data/knockTF_meta.csv’\n",
      "\n",
      "/Users/smuellerdott 100%[===================>] 141,47K  --.-KB/s    in 0,05s   \n",
      "\n",
      "2022-10-04 11:48:36 (2,76 MB/s) - ‘/Users/smuellerdott/Documents/NTNUdecoupleR/data/knockTF_meta.csv’ saved [144861/144861]\n",
      "\n"
     ]
    }
   ],
   "source": [
    "!wget 'https://zenodo.org/record/7035528/files/knockTF_expr.csv?download=1' -O /Users/smuellerdott/Documents/NTNUdecoupleR/data/knockTF_expr.csv\n",
    "!wget 'https://zenodo.org/record/7035528/files/knockTF_meta.csv?download=1' -O /Users/smuellerdott/Documents/NTNUdecoupleR/data/knockTF_meta.csv"
   ]
  },
  {
   "cell_type": "code",
   "execution_count": 2,
   "id": "a5146554-d8ea-42ce-88c6-dcdc92f60ff8",
   "metadata": {},
   "outputs": [],
   "source": [
    "mat = pd.read_csv('/Users/smuellerdott/Documents/NTNUdecoupleR/data/knockTF_expr.csv', index_col=0)\n",
    "obs = pd.read_csv('/Users/smuellerdott/Documents/NTNUdecoupleR/data/knockTF_meta.csv', index_col=0)"
   ]
  },
  {
   "cell_type": "code",
   "execution_count": 3,
   "id": "f5b1d5e1-0f6d-49c8-8483-a85f23bf1d37",
   "metadata": {},
   "outputs": [
    {
     "data": {
      "text/html": [
       "<div>\n",
       "<style scoped>\n",
       "    .dataframe tbody tr th:only-of-type {\n",
       "        vertical-align: middle;\n",
       "    }\n",
       "\n",
       "    .dataframe tbody tr th {\n",
       "        vertical-align: top;\n",
       "    }\n",
       "\n",
       "    .dataframe thead th {\n",
       "        text-align: right;\n",
       "    }\n",
       "</style>\n",
       "<table border=\"1\" class=\"dataframe\">\n",
       "  <thead>\n",
       "    <tr style=\"text-align: right;\">\n",
       "      <th></th>\n",
       "      <th>A1BG</th>\n",
       "      <th>A1BG-AS1</th>\n",
       "      <th>A1CF</th>\n",
       "      <th>A2LD1</th>\n",
       "      <th>A2M</th>\n",
       "      <th>A2ML1</th>\n",
       "      <th>A4GALT</th>\n",
       "      <th>A4GNT</th>\n",
       "      <th>AA06</th>\n",
       "      <th>AAA1</th>\n",
       "      <th>...</th>\n",
       "      <th>ZWINT</th>\n",
       "      <th>ZXDA</th>\n",
       "      <th>ZXDB</th>\n",
       "      <th>ZXDC</th>\n",
       "      <th>ZYG11A</th>\n",
       "      <th>ZYG11B</th>\n",
       "      <th>ZYX</th>\n",
       "      <th>ZZEF1</th>\n",
       "      <th>ZZZ3</th>\n",
       "      <th>psiTPTE22</th>\n",
       "    </tr>\n",
       "  </thead>\n",
       "  <tbody>\n",
       "    <tr>\n",
       "      <th>DataSet_01_001</th>\n",
       "      <td>0.000000</td>\n",
       "      <td>0.000000</td>\n",
       "      <td>0.000000</td>\n",
       "      <td>0.0000</td>\n",
       "      <td>0.000000</td>\n",
       "      <td>0.00000</td>\n",
       "      <td>0.00000</td>\n",
       "      <td>0.00000</td>\n",
       "      <td>0.0</td>\n",
       "      <td>0.0</td>\n",
       "      <td>...</td>\n",
       "      <td>0.000000</td>\n",
       "      <td>0.00000</td>\n",
       "      <td>0.000000</td>\n",
       "      <td>0.000000</td>\n",
       "      <td>0.00000</td>\n",
       "      <td>0.000000</td>\n",
       "      <td>-0.033220</td>\n",
       "      <td>-0.046900</td>\n",
       "      <td>-0.143830</td>\n",
       "      <td>0.00000</td>\n",
       "    </tr>\n",
       "    <tr>\n",
       "      <th>DataSet_01_002</th>\n",
       "      <td>-0.173750</td>\n",
       "      <td>0.000000</td>\n",
       "      <td>-0.537790</td>\n",
       "      <td>-0.4424</td>\n",
       "      <td>-1.596640</td>\n",
       "      <td>-0.00010</td>\n",
       "      <td>-0.08260</td>\n",
       "      <td>-3.64590</td>\n",
       "      <td>0.0</td>\n",
       "      <td>0.0</td>\n",
       "      <td>...</td>\n",
       "      <td>0.000000</td>\n",
       "      <td>0.39579</td>\n",
       "      <td>0.000000</td>\n",
       "      <td>0.086110</td>\n",
       "      <td>0.28574</td>\n",
       "      <td>-0.130210</td>\n",
       "      <td>-0.276640</td>\n",
       "      <td>-0.881580</td>\n",
       "      <td>0.812950</td>\n",
       "      <td>0.47896</td>\n",
       "    </tr>\n",
       "    <tr>\n",
       "      <th>DataSet_01_003</th>\n",
       "      <td>-0.216130</td>\n",
       "      <td>0.000000</td>\n",
       "      <td>-0.220270</td>\n",
       "      <td>-0.0008</td>\n",
       "      <td>0.000000</td>\n",
       "      <td>0.15580</td>\n",
       "      <td>-0.35802</td>\n",
       "      <td>-0.32025</td>\n",
       "      <td>0.0</td>\n",
       "      <td>0.0</td>\n",
       "      <td>...</td>\n",
       "      <td>0.000000</td>\n",
       "      <td>-0.82964</td>\n",
       "      <td>0.000000</td>\n",
       "      <td>0.064470</td>\n",
       "      <td>0.59323</td>\n",
       "      <td>0.313950</td>\n",
       "      <td>-0.232600</td>\n",
       "      <td>0.065510</td>\n",
       "      <td>-0.147140</td>\n",
       "      <td>0.00000</td>\n",
       "    </tr>\n",
       "    <tr>\n",
       "      <th>DataSet_01_004</th>\n",
       "      <td>-0.255680</td>\n",
       "      <td>0.111050</td>\n",
       "      <td>-0.285270</td>\n",
       "      <td>0.0000</td>\n",
       "      <td>-0.035860</td>\n",
       "      <td>-0.46970</td>\n",
       "      <td>0.18559</td>\n",
       "      <td>-0.25601</td>\n",
       "      <td>0.0</td>\n",
       "      <td>0.0</td>\n",
       "      <td>...</td>\n",
       "      <td>0.000000</td>\n",
       "      <td>-0.39888</td>\n",
       "      <td>0.000000</td>\n",
       "      <td>0.104440</td>\n",
       "      <td>-0.16434</td>\n",
       "      <td>0.191460</td>\n",
       "      <td>0.415610</td>\n",
       "      <td>0.393840</td>\n",
       "      <td>0.127900</td>\n",
       "      <td>0.00000</td>\n",
       "    </tr>\n",
       "    <tr>\n",
       "      <th>DataSet_01_005</th>\n",
       "      <td>0.478500</td>\n",
       "      <td>-0.375710</td>\n",
       "      <td>-0.847180</td>\n",
       "      <td>0.0000</td>\n",
       "      <td>3.354450</td>\n",
       "      <td>0.17104</td>\n",
       "      <td>-0.34852</td>\n",
       "      <td>-0.95517</td>\n",
       "      <td>0.0</td>\n",
       "      <td>0.0</td>\n",
       "      <td>...</td>\n",
       "      <td>0.000000</td>\n",
       "      <td>0.24849</td>\n",
       "      <td>0.000000</td>\n",
       "      <td>-0.286920</td>\n",
       "      <td>-0.01815</td>\n",
       "      <td>0.119410</td>\n",
       "      <td>0.077850</td>\n",
       "      <td>0.234740</td>\n",
       "      <td>0.228690</td>\n",
       "      <td>0.00000</td>\n",
       "    </tr>\n",
       "    <tr>\n",
       "      <th>...</th>\n",
       "      <td>...</td>\n",
       "      <td>...</td>\n",
       "      <td>...</td>\n",
       "      <td>...</td>\n",
       "      <td>...</td>\n",
       "      <td>...</td>\n",
       "      <td>...</td>\n",
       "      <td>...</td>\n",
       "      <td>...</td>\n",
       "      <td>...</td>\n",
       "      <td>...</td>\n",
       "      <td>...</td>\n",
       "      <td>...</td>\n",
       "      <td>...</td>\n",
       "      <td>...</td>\n",
       "      <td>...</td>\n",
       "      <td>...</td>\n",
       "      <td>...</td>\n",
       "      <td>...</td>\n",
       "      <td>...</td>\n",
       "      <td>...</td>\n",
       "    </tr>\n",
       "    <tr>\n",
       "      <th>DataSet_04_039</th>\n",
       "      <td>0.668721</td>\n",
       "      <td>0.000000</td>\n",
       "      <td>0.120893</td>\n",
       "      <td>0.0000</td>\n",
       "      <td>0.263564</td>\n",
       "      <td>0.00000</td>\n",
       "      <td>0.00000</td>\n",
       "      <td>0.00000</td>\n",
       "      <td>0.0</td>\n",
       "      <td>0.0</td>\n",
       "      <td>...</td>\n",
       "      <td>-0.324808</td>\n",
       "      <td>0.00000</td>\n",
       "      <td>-0.370491</td>\n",
       "      <td>0.092874</td>\n",
       "      <td>0.00000</td>\n",
       "      <td>0.014075</td>\n",
       "      <td>-0.215169</td>\n",
       "      <td>0.141374</td>\n",
       "      <td>-0.076054</td>\n",
       "      <td>0.00000</td>\n",
       "    </tr>\n",
       "    <tr>\n",
       "      <th>DataSet_04_040</th>\n",
       "      <td>1.816027</td>\n",
       "      <td>0.000000</td>\n",
       "      <td>0.139721</td>\n",
       "      <td>0.0000</td>\n",
       "      <td>0.459498</td>\n",
       "      <td>0.00000</td>\n",
       "      <td>0.00000</td>\n",
       "      <td>0.00000</td>\n",
       "      <td>0.0</td>\n",
       "      <td>0.0</td>\n",
       "      <td>...</td>\n",
       "      <td>-0.321726</td>\n",
       "      <td>0.00000</td>\n",
       "      <td>-0.144934</td>\n",
       "      <td>-0.238343</td>\n",
       "      <td>0.00000</td>\n",
       "      <td>-0.134995</td>\n",
       "      <td>0.577406</td>\n",
       "      <td>0.082028</td>\n",
       "      <td>-0.171424</td>\n",
       "      <td>0.00000</td>\n",
       "    </tr>\n",
       "    <tr>\n",
       "      <th>DataSet_04_041</th>\n",
       "      <td>-0.174250</td>\n",
       "      <td>0.000000</td>\n",
       "      <td>-0.084499</td>\n",
       "      <td>0.0000</td>\n",
       "      <td>0.112492</td>\n",
       "      <td>0.00000</td>\n",
       "      <td>0.00000</td>\n",
       "      <td>0.00000</td>\n",
       "      <td>0.0</td>\n",
       "      <td>0.0</td>\n",
       "      <td>...</td>\n",
       "      <td>0.405369</td>\n",
       "      <td>0.00000</td>\n",
       "      <td>0.272526</td>\n",
       "      <td>-0.125475</td>\n",
       "      <td>0.00000</td>\n",
       "      <td>0.019763</td>\n",
       "      <td>-0.098584</td>\n",
       "      <td>0.072675</td>\n",
       "      <td>0.199813</td>\n",
       "      <td>0.00000</td>\n",
       "    </tr>\n",
       "    <tr>\n",
       "      <th>DataSet_04_042</th>\n",
       "      <td>0.976681</td>\n",
       "      <td>0.000000</td>\n",
       "      <td>0.099845</td>\n",
       "      <td>0.0000</td>\n",
       "      <td>0.366973</td>\n",
       "      <td>0.00000</td>\n",
       "      <td>0.00000</td>\n",
       "      <td>0.00000</td>\n",
       "      <td>0.0</td>\n",
       "      <td>0.0</td>\n",
       "      <td>...</td>\n",
       "      <td>0.397698</td>\n",
       "      <td>0.00000</td>\n",
       "      <td>-0.398350</td>\n",
       "      <td>0.037134</td>\n",
       "      <td>0.00000</td>\n",
       "      <td>0.409704</td>\n",
       "      <td>-0.056978</td>\n",
       "      <td>0.308122</td>\n",
       "      <td>-0.058794</td>\n",
       "      <td>0.00000</td>\n",
       "    </tr>\n",
       "    <tr>\n",
       "      <th>DataSet_04_043</th>\n",
       "      <td>0.677944</td>\n",
       "      <td>0.584963</td>\n",
       "      <td>0.271215</td>\n",
       "      <td>0.0000</td>\n",
       "      <td>0.104090</td>\n",
       "      <td>0.00000</td>\n",
       "      <td>0.00000</td>\n",
       "      <td>0.00000</td>\n",
       "      <td>0.0</td>\n",
       "      <td>0.0</td>\n",
       "      <td>...</td>\n",
       "      <td>-0.357371</td>\n",
       "      <td>0.00000</td>\n",
       "      <td>-0.152622</td>\n",
       "      <td>-0.076498</td>\n",
       "      <td>0.00000</td>\n",
       "      <td>0.047949</td>\n",
       "      <td>-0.169766</td>\n",
       "      <td>0.178053</td>\n",
       "      <td>0.199003</td>\n",
       "      <td>0.00000</td>\n",
       "    </tr>\n",
       "  </tbody>\n",
       "</table>\n",
       "<p>907 rows × 21985 columns</p>\n",
       "</div>"
      ],
      "text/plain": [
       "                    A1BG  A1BG-AS1      A1CF   A2LD1       A2M    A2ML1  \\\n",
       "DataSet_01_001  0.000000  0.000000  0.000000  0.0000  0.000000  0.00000   \n",
       "DataSet_01_002 -0.173750  0.000000 -0.537790 -0.4424 -1.596640 -0.00010   \n",
       "DataSet_01_003 -0.216130  0.000000 -0.220270 -0.0008  0.000000  0.15580   \n",
       "DataSet_01_004 -0.255680  0.111050 -0.285270  0.0000 -0.035860 -0.46970   \n",
       "DataSet_01_005  0.478500 -0.375710 -0.847180  0.0000  3.354450  0.17104   \n",
       "...                  ...       ...       ...     ...       ...      ...   \n",
       "DataSet_04_039  0.668721  0.000000  0.120893  0.0000  0.263564  0.00000   \n",
       "DataSet_04_040  1.816027  0.000000  0.139721  0.0000  0.459498  0.00000   \n",
       "DataSet_04_041 -0.174250  0.000000 -0.084499  0.0000  0.112492  0.00000   \n",
       "DataSet_04_042  0.976681  0.000000  0.099845  0.0000  0.366973  0.00000   \n",
       "DataSet_04_043  0.677944  0.584963  0.271215  0.0000  0.104090  0.00000   \n",
       "\n",
       "                 A4GALT    A4GNT  AA06  AAA1  ...     ZWINT     ZXDA  \\\n",
       "DataSet_01_001  0.00000  0.00000   0.0   0.0  ...  0.000000  0.00000   \n",
       "DataSet_01_002 -0.08260 -3.64590   0.0   0.0  ...  0.000000  0.39579   \n",
       "DataSet_01_003 -0.35802 -0.32025   0.0   0.0  ...  0.000000 -0.82964   \n",
       "DataSet_01_004  0.18559 -0.25601   0.0   0.0  ...  0.000000 -0.39888   \n",
       "DataSet_01_005 -0.34852 -0.95517   0.0   0.0  ...  0.000000  0.24849   \n",
       "...                 ...      ...   ...   ...  ...       ...      ...   \n",
       "DataSet_04_039  0.00000  0.00000   0.0   0.0  ... -0.324808  0.00000   \n",
       "DataSet_04_040  0.00000  0.00000   0.0   0.0  ... -0.321726  0.00000   \n",
       "DataSet_04_041  0.00000  0.00000   0.0   0.0  ...  0.405369  0.00000   \n",
       "DataSet_04_042  0.00000  0.00000   0.0   0.0  ...  0.397698  0.00000   \n",
       "DataSet_04_043  0.00000  0.00000   0.0   0.0  ... -0.357371  0.00000   \n",
       "\n",
       "                    ZXDB      ZXDC   ZYG11A    ZYG11B       ZYX     ZZEF1  \\\n",
       "DataSet_01_001  0.000000  0.000000  0.00000  0.000000 -0.033220 -0.046900   \n",
       "DataSet_01_002  0.000000  0.086110  0.28574 -0.130210 -0.276640 -0.881580   \n",
       "DataSet_01_003  0.000000  0.064470  0.59323  0.313950 -0.232600  0.065510   \n",
       "DataSet_01_004  0.000000  0.104440 -0.16434  0.191460  0.415610  0.393840   \n",
       "DataSet_01_005  0.000000 -0.286920 -0.01815  0.119410  0.077850  0.234740   \n",
       "...                  ...       ...      ...       ...       ...       ...   \n",
       "DataSet_04_039 -0.370491  0.092874  0.00000  0.014075 -0.215169  0.141374   \n",
       "DataSet_04_040 -0.144934 -0.238343  0.00000 -0.134995  0.577406  0.082028   \n",
       "DataSet_04_041  0.272526 -0.125475  0.00000  0.019763 -0.098584  0.072675   \n",
       "DataSet_04_042 -0.398350  0.037134  0.00000  0.409704 -0.056978  0.308122   \n",
       "DataSet_04_043 -0.152622 -0.076498  0.00000  0.047949 -0.169766  0.178053   \n",
       "\n",
       "                    ZZZ3  psiTPTE22  \n",
       "DataSet_01_001 -0.143830    0.00000  \n",
       "DataSet_01_002  0.812950    0.47896  \n",
       "DataSet_01_003 -0.147140    0.00000  \n",
       "DataSet_01_004  0.127900    0.00000  \n",
       "DataSet_01_005  0.228690    0.00000  \n",
       "...                  ...        ...  \n",
       "DataSet_04_039 -0.076054    0.00000  \n",
       "DataSet_04_040 -0.171424    0.00000  \n",
       "DataSet_04_041  0.199813    0.00000  \n",
       "DataSet_04_042 -0.058794    0.00000  \n",
       "DataSet_04_043  0.199003    0.00000  \n",
       "\n",
       "[907 rows x 21985 columns]"
      ]
     },
     "execution_count": 3,
     "metadata": {},
     "output_type": "execute_result"
    }
   ],
   "source": [
    "mat"
   ]
  },
  {
   "cell_type": "code",
   "execution_count": 4,
   "id": "197b3cad-998a-4145-9d9f-e7b57f3bea72",
   "metadata": {},
   "outputs": [
    {
     "data": {
      "text/html": [
       "<div>\n",
       "<style scoped>\n",
       "    .dataframe tbody tr th:only-of-type {\n",
       "        vertical-align: middle;\n",
       "    }\n",
       "\n",
       "    .dataframe tbody tr th {\n",
       "        vertical-align: top;\n",
       "    }\n",
       "\n",
       "    .dataframe thead th {\n",
       "        text-align: right;\n",
       "    }\n",
       "</style>\n",
       "<table border=\"1\" class=\"dataframe\">\n",
       "  <thead>\n",
       "    <tr style=\"text-align: right;\">\n",
       "      <th></th>\n",
       "      <th>TF</th>\n",
       "      <th>Species</th>\n",
       "      <th>Knock.Method</th>\n",
       "      <th>Biosample.Name</th>\n",
       "      <th>Profile.ID</th>\n",
       "      <th>Platform</th>\n",
       "      <th>TF.Class</th>\n",
       "      <th>TF.Superclass</th>\n",
       "      <th>Tissue.Type</th>\n",
       "      <th>Biosample.Type</th>\n",
       "      <th>Data.Source</th>\n",
       "      <th>Pubmed.ID</th>\n",
       "      <th>logFC</th>\n",
       "    </tr>\n",
       "  </thead>\n",
       "  <tbody>\n",
       "    <tr>\n",
       "      <th>DataSet_01_001</th>\n",
       "      <td>ESR1</td>\n",
       "      <td>Homo sapiens</td>\n",
       "      <td>siRNA</td>\n",
       "      <td>MCF7</td>\n",
       "      <td>GSE10061</td>\n",
       "      <td>GPL3921</td>\n",
       "      <td>Nuclear receptors with C4 zinc fingers</td>\n",
       "      <td>Zinc-coordinating DNA-binding domains</td>\n",
       "      <td>Mammary_gland</td>\n",
       "      <td>Cell line</td>\n",
       "      <td>GEO</td>\n",
       "      <td>18631401</td>\n",
       "      <td>-0.713850</td>\n",
       "    </tr>\n",
       "    <tr>\n",
       "      <th>DataSet_01_002</th>\n",
       "      <td>HNF1A</td>\n",
       "      <td>Homo sapiens</td>\n",
       "      <td>shRNA</td>\n",
       "      <td>HuH7</td>\n",
       "      <td>GSE103128</td>\n",
       "      <td>GPL18180</td>\n",
       "      <td>Homeo domain factors</td>\n",
       "      <td>Helix-turn-helix domains</td>\n",
       "      <td>Liver</td>\n",
       "      <td>Cell line</td>\n",
       "      <td>GEO</td>\n",
       "      <td>29466992</td>\n",
       "      <td>0.164280</td>\n",
       "    </tr>\n",
       "    <tr>\n",
       "      <th>DataSet_01_003</th>\n",
       "      <td>MLXIP</td>\n",
       "      <td>Homo sapiens</td>\n",
       "      <td>shRNA</td>\n",
       "      <td>HA1ER</td>\n",
       "      <td>GSE11242</td>\n",
       "      <td>GPL4133</td>\n",
       "      <td>Basic helix-loop-helix factors (bHLH)</td>\n",
       "      <td>Basic domains</td>\n",
       "      <td>Embryo_kidney</td>\n",
       "      <td>Stem cell</td>\n",
       "      <td>GEO</td>\n",
       "      <td>18458340</td>\n",
       "      <td>0.262150</td>\n",
       "    </tr>\n",
       "    <tr>\n",
       "      <th>DataSet_01_004</th>\n",
       "      <td>CREB1</td>\n",
       "      <td>Homo sapiens</td>\n",
       "      <td>shRNA</td>\n",
       "      <td>K562</td>\n",
       "      <td>GSE12056</td>\n",
       "      <td>GPL570</td>\n",
       "      <td>Basic leucine zipper factors (bZIP)</td>\n",
       "      <td>Basic domains</td>\n",
       "      <td>Haematopoietic_and_lymphoid_tissue</td>\n",
       "      <td>Cell line</td>\n",
       "      <td>GEO</td>\n",
       "      <td>18801183</td>\n",
       "      <td>-0.950180</td>\n",
       "    </tr>\n",
       "    <tr>\n",
       "      <th>DataSet_01_005</th>\n",
       "      <td>POU5F1</td>\n",
       "      <td>Homo sapiens</td>\n",
       "      <td>siRNA</td>\n",
       "      <td>GBS6</td>\n",
       "      <td>GSE12320</td>\n",
       "      <td>GPL570</td>\n",
       "      <td>Homeo domain factors</td>\n",
       "      <td>Helix-turn-helix domains</td>\n",
       "      <td>Bone_marrow</td>\n",
       "      <td>Cell line</td>\n",
       "      <td>GEO</td>\n",
       "      <td>20203285</td>\n",
       "      <td>0.000000</td>\n",
       "    </tr>\n",
       "    <tr>\n",
       "      <th>...</th>\n",
       "      <td>...</td>\n",
       "      <td>...</td>\n",
       "      <td>...</td>\n",
       "      <td>...</td>\n",
       "      <td>...</td>\n",
       "      <td>...</td>\n",
       "      <td>...</td>\n",
       "      <td>...</td>\n",
       "      <td>...</td>\n",
       "      <td>...</td>\n",
       "      <td>...</td>\n",
       "      <td>...</td>\n",
       "      <td>...</td>\n",
       "    </tr>\n",
       "    <tr>\n",
       "      <th>DataSet_04_039</th>\n",
       "      <td>SRPK2</td>\n",
       "      <td>Homo sapiens</td>\n",
       "      <td>CRISPR</td>\n",
       "      <td>HepG2</td>\n",
       "      <td>ENCSR929EIP</td>\n",
       "      <td>-</td>\n",
       "      <td>Others</td>\n",
       "      <td>ENCODE_TF</td>\n",
       "      <td>Liver</td>\n",
       "      <td>Cell line</td>\n",
       "      <td>ENCODE</td>\n",
       "      <td>22955616</td>\n",
       "      <td>-1.392551</td>\n",
       "    </tr>\n",
       "    <tr>\n",
       "      <th>DataSet_04_040</th>\n",
       "      <td>WRN</td>\n",
       "      <td>Homo sapiens</td>\n",
       "      <td>shRNA</td>\n",
       "      <td>HepG2</td>\n",
       "      <td>ENCSR093FHC</td>\n",
       "      <td>-</td>\n",
       "      <td>Others</td>\n",
       "      <td>ENCODE_TF</td>\n",
       "      <td>Liver</td>\n",
       "      <td>Cell line</td>\n",
       "      <td>ENCODE</td>\n",
       "      <td>22955616</td>\n",
       "      <td>-0.173964</td>\n",
       "    </tr>\n",
       "    <tr>\n",
       "      <th>DataSet_04_041</th>\n",
       "      <td>YBX1</td>\n",
       "      <td>Homo sapiens</td>\n",
       "      <td>CRISPR</td>\n",
       "      <td>HepG2</td>\n",
       "      <td>ENCSR548OTL</td>\n",
       "      <td>-</td>\n",
       "      <td>Cold-shock domain factors</td>\n",
       "      <td>beta-Barrel DNA-binding domains</td>\n",
       "      <td>Liver</td>\n",
       "      <td>Cell line</td>\n",
       "      <td>ENCODE</td>\n",
       "      <td>22955616</td>\n",
       "      <td>-2.025170</td>\n",
       "    </tr>\n",
       "    <tr>\n",
       "      <th>DataSet_04_042</th>\n",
       "      <td>ZC3H8</td>\n",
       "      <td>Homo sapiens</td>\n",
       "      <td>shRNA</td>\n",
       "      <td>HepG2</td>\n",
       "      <td>ENCSR184YDW</td>\n",
       "      <td>-</td>\n",
       "      <td>C3H zinc finger factors</td>\n",
       "      <td>Zinc-coordinating DNA-binding domains</td>\n",
       "      <td>Liver</td>\n",
       "      <td>Cell line</td>\n",
       "      <td>ENCODE</td>\n",
       "      <td>22955616</td>\n",
       "      <td>-0.027152</td>\n",
       "    </tr>\n",
       "    <tr>\n",
       "      <th>DataSet_04_043</th>\n",
       "      <td>ZNF574</td>\n",
       "      <td>Homo sapiens</td>\n",
       "      <td>CRISPR</td>\n",
       "      <td>HepG2</td>\n",
       "      <td>ENCSR821GQN</td>\n",
       "      <td>-</td>\n",
       "      <td>C2H2 zinc finger factors</td>\n",
       "      <td>Zinc-coordinating DNA-binding domains</td>\n",
       "      <td>Liver</td>\n",
       "      <td>Cell line</td>\n",
       "      <td>ENCODE</td>\n",
       "      <td>22955616</td>\n",
       "      <td>0.990298</td>\n",
       "    </tr>\n",
       "  </tbody>\n",
       "</table>\n",
       "<p>907 rows × 13 columns</p>\n",
       "</div>"
      ],
      "text/plain": [
       "                    TF       Species Knock.Method Biosample.Name   Profile.ID  \\\n",
       "DataSet_01_001    ESR1  Homo sapiens        siRNA           MCF7     GSE10061   \n",
       "DataSet_01_002   HNF1A  Homo sapiens        shRNA           HuH7    GSE103128   \n",
       "DataSet_01_003   MLXIP  Homo sapiens        shRNA          HA1ER     GSE11242   \n",
       "DataSet_01_004   CREB1  Homo sapiens        shRNA           K562     GSE12056   \n",
       "DataSet_01_005  POU5F1  Homo sapiens        siRNA           GBS6     GSE12320   \n",
       "...                ...           ...          ...            ...          ...   \n",
       "DataSet_04_039   SRPK2  Homo sapiens       CRISPR          HepG2  ENCSR929EIP   \n",
       "DataSet_04_040     WRN  Homo sapiens        shRNA          HepG2  ENCSR093FHC   \n",
       "DataSet_04_041    YBX1  Homo sapiens       CRISPR          HepG2  ENCSR548OTL   \n",
       "DataSet_04_042   ZC3H8  Homo sapiens        shRNA          HepG2  ENCSR184YDW   \n",
       "DataSet_04_043  ZNF574  Homo sapiens       CRISPR          HepG2  ENCSR821GQN   \n",
       "\n",
       "                Platform                                TF.Class  \\\n",
       "DataSet_01_001   GPL3921  Nuclear receptors with C4 zinc fingers   \n",
       "DataSet_01_002  GPL18180                    Homeo domain factors   \n",
       "DataSet_01_003   GPL4133   Basic helix-loop-helix factors (bHLH)   \n",
       "DataSet_01_004    GPL570     Basic leucine zipper factors (bZIP)   \n",
       "DataSet_01_005    GPL570                    Homeo domain factors   \n",
       "...                  ...                                     ...   \n",
       "DataSet_04_039         -                                  Others   \n",
       "DataSet_04_040         -                                  Others   \n",
       "DataSet_04_041         -               Cold-shock domain factors   \n",
       "DataSet_04_042         -                 C3H zinc finger factors   \n",
       "DataSet_04_043         -                C2H2 zinc finger factors   \n",
       "\n",
       "                                        TF.Superclass  \\\n",
       "DataSet_01_001  Zinc-coordinating DNA-binding domains   \n",
       "DataSet_01_002               Helix-turn-helix domains   \n",
       "DataSet_01_003                          Basic domains   \n",
       "DataSet_01_004                          Basic domains   \n",
       "DataSet_01_005               Helix-turn-helix domains   \n",
       "...                                               ...   \n",
       "DataSet_04_039                              ENCODE_TF   \n",
       "DataSet_04_040                              ENCODE_TF   \n",
       "DataSet_04_041        beta-Barrel DNA-binding domains   \n",
       "DataSet_04_042  Zinc-coordinating DNA-binding domains   \n",
       "DataSet_04_043  Zinc-coordinating DNA-binding domains   \n",
       "\n",
       "                                       Tissue.Type Biosample.Type Data.Source  \\\n",
       "DataSet_01_001                       Mammary_gland      Cell line         GEO   \n",
       "DataSet_01_002                               Liver      Cell line         GEO   \n",
       "DataSet_01_003                       Embryo_kidney      Stem cell         GEO   \n",
       "DataSet_01_004  Haematopoietic_and_lymphoid_tissue      Cell line         GEO   \n",
       "DataSet_01_005                         Bone_marrow      Cell line         GEO   \n",
       "...                                            ...            ...         ...   \n",
       "DataSet_04_039                               Liver      Cell line      ENCODE   \n",
       "DataSet_04_040                               Liver      Cell line      ENCODE   \n",
       "DataSet_04_041                               Liver      Cell line      ENCODE   \n",
       "DataSet_04_042                               Liver      Cell line      ENCODE   \n",
       "DataSet_04_043                               Liver      Cell line      ENCODE   \n",
       "\n",
       "               Pubmed.ID     logFC  \n",
       "DataSet_01_001  18631401 -0.713850  \n",
       "DataSet_01_002  29466992  0.164280  \n",
       "DataSet_01_003  18458340  0.262150  \n",
       "DataSet_01_004  18801183 -0.950180  \n",
       "DataSet_01_005  20203285  0.000000  \n",
       "...                  ...       ...  \n",
       "DataSet_04_039  22955616 -1.392551  \n",
       "DataSet_04_040  22955616 -0.173964  \n",
       "DataSet_04_041  22955616 -2.025170  \n",
       "DataSet_04_042  22955616 -0.027152  \n",
       "DataSet_04_043  22955616  0.990298  \n",
       "\n",
       "[907 rows x 13 columns]"
      ]
     },
     "execution_count": 4,
     "metadata": {},
     "output_type": "execute_result"
    }
   ],
   "source": [
    "obs"
   ]
  },
  {
   "cell_type": "code",
   "execution_count": 3,
   "id": "8f40e67b-b84c-4326-bd8b-b1514dc6356b",
   "metadata": {},
   "outputs": [
    {
     "data": {
      "text/plain": [
       "((388, 21985), (388, 13))"
      ]
     },
     "execution_count": 3,
     "metadata": {},
     "output_type": "execute_result"
    }
   ],
   "source": [
    "msk = obs['logFC'] < -1\n",
    "mat = mat[msk]\n",
    "obs = obs[msk]\n",
    "mat.shape, obs.shape"
   ]
  },
  {
   "cell_type": "code",
   "execution_count": 44,
   "id": "82c01008-6929-40f7-b45f-39ba70295cf8",
   "metadata": {},
   "outputs": [],
   "source": [
    "doro_ABC = dc.get_dorothea(levels=['A', 'B', 'C'])\n",
    "collecTRI = pd.read_csv('../output/040722/02_signed_networks/strict_signed_CollecTRI.csv')\n",
    "collecTRI = collecTRI[collecTRI['TF.category'] == 'DbTF']"
   ]
  },
  {
   "cell_type": "code",
   "execution_count": 45,
   "id": "4534ff51-6d21-468c-aabf-16032dcba5ec",
   "metadata": {},
   "outputs": [],
   "source": [
    "#MatrixRider\n",
    "collecTRI_res = pd.read_csv('../output/040722/04_weighted_networks/matrixRider/collecTRI_res.csv') \n",
    "matrixRider_raw = pd.read_csv('../output/040722/04_weighted_networks/matrixRider/collecTRI_matrixRider_raw.csv')\n",
    "matrixRider_gene = pd.read_csv('../output/040722/04_weighted_networks/matrixRider/collecTRI_matrixRider_scaled_gene.csv')\n",
    "matrixRider_tf = pd.read_csv('../output/040722/04_weighted_networks/matrixRider/collecTRI_matrixRider_scaled_tf.csv')"
   ]
  },
  {
   "cell_type": "code",
   "execution_count": 46,
   "id": "e0b227d1-80ed-4607-9839-2006f2cedbc4",
   "metadata": {},
   "outputs": [],
   "source": [
    "matrixRider_filtered_10 = pd.read_csv('../output/040722/04_weighted_networks/matrixRider/collecTRI_matrixRider_filtered_10.csv')\n",
    "random_filtered_10 = pd.read_csv('../output/040722/04_weighted_networks/matrixRider/collecTRI_random_filtered_10.csv')\n",
    "matrixRider_filtered_20 = pd.read_csv('../output/040722/04_weighted_networks/matrixRider/collecTRI_matrixRider_filtered_20.csv')\n",
    "random_filtered_20 = pd.read_csv('../output/040722/04_weighted_networks/matrixRider/collecTRI_random_filtered_20.csv')\n",
    "matrixRider_filtered_30 = pd.read_csv('../output/040722/04_weighted_networks/matrixRider/collecTRI_matrixRider_filtered_30.csv')\n",
    "random_filtered_30 = pd.read_csv('../output/040722/04_weighted_networks/matrixRider/collecTRI_random_filtered_30.csv')"
   ]
  },
  {
   "cell_type": "code",
   "execution_count": 48,
   "id": "cee4a47a-cf7a-4beb-8d39-65a69d3ccdb0",
   "metadata": {},
   "outputs": [
    {
     "name": "stdout",
     "output_type": "stream",
     "text": [
      "Using ABC network...\n",
      "Extracting inputs...\n",
      "Formating net...\n",
      "174 experiments without sources in net, they will be removed.\n",
      "Running methods...\n",
      "55 features of mat are empty, they will be removed.\n",
      "Running mlm on mat with 214 samples and 21930 targets for 297 sources.\n"
     ]
    },
    {
     "name": "stderr",
     "output_type": "stream",
     "text": [
      "100%|█████████████████████████████████████████████| 1/1 [00:00<00:00,  1.85it/s]\n"
     ]
    },
    {
     "name": "stdout",
     "output_type": "stream",
     "text": [
      "55 features of mat are empty, they will be removed.\n",
      "Running ulm on mat with 214 samples and 21930 targets for 297 sources.\n",
      "55 features of mat are empty, they will be removed.\n",
      "Running wsum on mat with 214 samples and 21930 targets for 297 sources.\n",
      "Infering activities on 1 batches.\n"
     ]
    },
    {
     "name": "stderr",
     "output_type": "stream",
     "text": [
      "100%|█████████████████████████████████████████████| 1/1 [00:03<00:00,  3.49s/it]\n"
     ]
    },
    {
     "name": "stdout",
     "output_type": "stream",
     "text": [
      "Calculating metrics...\n",
      "Computing metrics...\n",
      "Done.\n",
      "Using collecTRI_res network...\n",
      "Extracting inputs...\n",
      "Formating net...\n",
      "146 experiments without sources in net, they will be removed.\n",
      "Running methods...\n",
      "52 features of mat are empty, they will be removed.\n",
      "Running mlm on mat with 242 samples and 21933 targets for 520 sources.\n"
     ]
    },
    {
     "name": "stderr",
     "output_type": "stream",
     "text": [
      "100%|█████████████████████████████████████████████| 1/1 [00:00<00:00,  1.10it/s]\n"
     ]
    },
    {
     "name": "stdout",
     "output_type": "stream",
     "text": [
      "52 features of mat are empty, they will be removed.\n",
      "Running ulm on mat with 242 samples and 21933 targets for 520 sources.\n",
      "52 features of mat are empty, they will be removed.\n",
      "Running wsum on mat with 242 samples and 21933 targets for 520 sources.\n",
      "Infering activities on 1 batches.\n"
     ]
    },
    {
     "name": "stderr",
     "output_type": "stream",
     "text": [
      "100%|█████████████████████████████████████████████| 1/1 [00:05<00:00,  5.03s/it]\n"
     ]
    },
    {
     "name": "stdout",
     "output_type": "stream",
     "text": [
      "Calculating metrics...\n",
      "Computing metrics...\n",
      "Done.\n",
      "Using matrixRider_raw network...\n",
      "Extracting inputs...\n",
      "Formating net...\n",
      "146 experiments without sources in net, they will be removed.\n",
      "Running methods...\n",
      "52 features of mat are empty, they will be removed.\n",
      "Running mlm on mat with 242 samples and 21933 targets for 520 sources.\n"
     ]
    },
    {
     "name": "stderr",
     "output_type": "stream",
     "text": [
      "100%|█████████████████████████████████████████████| 1/1 [00:00<00:00,  1.19it/s]\n"
     ]
    },
    {
     "name": "stdout",
     "output_type": "stream",
     "text": [
      "52 features of mat are empty, they will be removed.\n",
      "Running ulm on mat with 242 samples and 21933 targets for 520 sources.\n",
      "52 features of mat are empty, they will be removed.\n",
      "Running wsum on mat with 242 samples and 21933 targets for 520 sources.\n",
      "Infering activities on 1 batches.\n"
     ]
    },
    {
     "name": "stderr",
     "output_type": "stream",
     "text": [
      "100%|█████████████████████████████████████████████| 1/1 [00:05<00:00,  5.13s/it]\n"
     ]
    },
    {
     "name": "stdout",
     "output_type": "stream",
     "text": [
      "Calculating metrics...\n",
      "Computing metrics...\n",
      "Done.\n",
      "Using matrixRider_gene network...\n",
      "Extracting inputs...\n",
      "Formating net...\n",
      "146 experiments without sources in net, they will be removed.\n",
      "Running methods...\n",
      "52 features of mat are empty, they will be removed.\n",
      "Running mlm on mat with 242 samples and 21933 targets for 520 sources.\n"
     ]
    },
    {
     "name": "stderr",
     "output_type": "stream",
     "text": [
      "100%|█████████████████████████████████████████████| 1/1 [00:00<00:00,  1.18it/s]\n"
     ]
    },
    {
     "name": "stdout",
     "output_type": "stream",
     "text": [
      "52 features of mat are empty, they will be removed.\n",
      "Running ulm on mat with 242 samples and 21933 targets for 520 sources.\n",
      "52 features of mat are empty, they will be removed.\n",
      "Running wsum on mat with 242 samples and 21933 targets for 520 sources.\n",
      "Infering activities on 1 batches.\n"
     ]
    },
    {
     "name": "stderr",
     "output_type": "stream",
     "text": [
      "100%|█████████████████████████████████████████████| 1/1 [00:04<00:00,  4.88s/it]\n"
     ]
    },
    {
     "name": "stdout",
     "output_type": "stream",
     "text": [
      "Calculating metrics...\n",
      "Computing metrics...\n",
      "Done.\n",
      "Using matrixRider_tf network...\n",
      "Extracting inputs...\n",
      "Formating net...\n",
      "146 experiments without sources in net, they will be removed.\n",
      "Running methods...\n",
      "52 features of mat are empty, they will be removed.\n",
      "Running mlm on mat with 242 samples and 21933 targets for 520 sources.\n"
     ]
    },
    {
     "name": "stderr",
     "output_type": "stream",
     "text": [
      "100%|█████████████████████████████████████████████| 1/1 [00:00<00:00,  1.22it/s]\n"
     ]
    },
    {
     "name": "stdout",
     "output_type": "stream",
     "text": [
      "52 features of mat are empty, they will be removed.\n",
      "Running ulm on mat with 242 samples and 21933 targets for 520 sources.\n",
      "52 features of mat are empty, they will be removed.\n",
      "Running wsum on mat with 242 samples and 21933 targets for 520 sources.\n",
      "Infering activities on 1 batches.\n"
     ]
    },
    {
     "name": "stderr",
     "output_type": "stream",
     "text": [
      "100%|█████████████████████████████████████████████| 1/1 [00:04<00:00,  4.79s/it]\n"
     ]
    },
    {
     "name": "stdout",
     "output_type": "stream",
     "text": [
      "Calculating metrics...\n",
      "Computing metrics...\n",
      "Done.\n"
     ]
    }
   ],
   "source": [
    "# Build dictionary of networks to test\n",
    "nets = {\n",
    "    'ABC': doro_ABC,\n",
    "    'collecTRI_res': collecTRI_res,\n",
    "    'matrixRider_raw': matrixRider_raw,\n",
    "    'matrixRider_gene': matrixRider_gene,\n",
    "    'matrixRider_tf': matrixRider_tf\n",
    "}\n",
    "\n",
    "# Example extra arguments\n",
    "decouple_kws = {\n",
    "    'ABC': {'args' : {'wsum' : {'times': 100}}},\n",
    "    'collecTRI_res': {'args' : {'wsum' : {'times': 100}}},\n",
    "    'matrixRider_raw': {'args' : {'wsum' : {'times': 100}}},\n",
    "    'matrixRider_gene': {'args' : {'wsum' : {'times': 100}}},\n",
    "    'matrixRider_tf': {'args' : {'wsum' : {'times': 100}}}\n",
    "}\n",
    "\n",
    "# Run benchmark pipeline\n",
    "df_MatrixRider = dc.benchmark(mat, obs, nets, perturb='TF', sign=-1, decouple_kws=decouple_kws)"
   ]
  },
  {
   "cell_type": "code",
   "execution_count": 49,
   "id": "32801877-9bb8-49c5-a007-f0596b99b2c6",
   "metadata": {},
   "outputs": [
    {
     "data": {
      "image/png": "[encoded data removed]",
      "text/plain": [
       "<Figure size 500x500 with 1 Axes>"
      ]
     },
     "metadata": {},
     "output_type": "display_data"
    }
   ],
   "source": [
    "dc.plot_metrics_scatter(df_MatrixRider[df_MatrixRider['method'] == 'consensus_estimate'], groupby='net', x='mcauroc', y='mcauprc', show_text=False)"
   ]
  },
  {
   "cell_type": "code",
   "execution_count": 54,
   "id": "fabc1923-e705-497a-b6f3-a3262c242813",
   "metadata": {},
   "outputs": [
    {
     "name": "stdout",
     "output_type": "stream",
     "text": [
      "Using ABC network...\n",
      "Extracting inputs...\n",
      "Formating net...\n",
      "174 experiments without sources in net, they will be removed.\n",
      "Running methods...\n",
      "55 features of mat are empty, they will be removed.\n",
      "Running mlm on mat with 214 samples and 21930 targets for 297 sources.\n"
     ]
    },
    {
     "name": "stderr",
     "output_type": "stream",
     "text": [
      "100%|█████████████████████████████████████████████| 1/1 [00:00<00:00,  1.75it/s]\n"
     ]
    },
    {
     "name": "stdout",
     "output_type": "stream",
     "text": [
      "55 features of mat are empty, they will be removed.\n",
      "Running ulm on mat with 214 samples and 21930 targets for 297 sources.\n",
      "55 features of mat are empty, they will be removed.\n",
      "Running wsum on mat with 214 samples and 21930 targets for 297 sources.\n",
      "Infering activities on 1 batches.\n"
     ]
    },
    {
     "name": "stderr",
     "output_type": "stream",
     "text": [
      "100%|█████████████████████████████████████████████| 1/1 [00:03<00:00,  3.26s/it]\n"
     ]
    },
    {
     "name": "stdout",
     "output_type": "stream",
     "text": [
      "Calculating metrics...\n",
      "Computing metrics...\n",
      "Done.\n",
      "Using collecTRI network...\n",
      "Extracting inputs...\n",
      "Formating net...\n",
      "139 experiments without sources in net, they will be removed.\n",
      "Running methods...\n",
      "52 features of mat are empty, they will be removed.\n",
      "Running mlm on mat with 249 samples and 21933 targets for 598 sources.\n"
     ]
    },
    {
     "name": "stderr",
     "output_type": "stream",
     "text": [
      "100%|█████████████████████████████████████████████| 1/1 [00:00<00:00,  1.07it/s]\n"
     ]
    },
    {
     "name": "stdout",
     "output_type": "stream",
     "text": [
      "52 features of mat are empty, they will be removed.\n",
      "Running ulm on mat with 249 samples and 21933 targets for 598 sources.\n",
      "52 features of mat are empty, they will be removed.\n",
      "Running wsum on mat with 249 samples and 21933 targets for 598 sources.\n",
      "Infering activities on 1 batches.\n"
     ]
    },
    {
     "name": "stderr",
     "output_type": "stream",
     "text": [
      "100%|█████████████████████████████████████████████| 1/1 [00:05<00:00,  5.61s/it]\n"
     ]
    },
    {
     "name": "stdout",
     "output_type": "stream",
     "text": [
      "Calculating metrics...\n",
      "Computing metrics...\n",
      "Done.\n",
      "Using matrixRider_filtered_10 network...\n",
      "Extracting inputs...\n",
      "Formating net...\n",
      "155 experiments without sources in net, they will be removed.\n",
      "Running methods...\n",
      "52 features of mat are empty, they will be removed.\n",
      "Running mlm on mat with 233 samples and 21933 targets for 481 sources.\n"
     ]
    },
    {
     "name": "stderr",
     "output_type": "stream",
     "text": [
      "100%|█████████████████████████████████████████████| 1/1 [00:00<00:00,  1.37it/s]\n"
     ]
    },
    {
     "name": "stdout",
     "output_type": "stream",
     "text": [
      "52 features of mat are empty, they will be removed.\n",
      "Running ulm on mat with 233 samples and 21933 targets for 481 sources.\n",
      "52 features of mat are empty, they will be removed.\n",
      "Running wsum on mat with 233 samples and 21933 targets for 481 sources.\n",
      "Infering activities on 1 batches.\n"
     ]
    },
    {
     "name": "stderr",
     "output_type": "stream",
     "text": [
      "100%|█████████████████████████████████████████████| 1/1 [00:04<00:00,  4.56s/it]\n"
     ]
    },
    {
     "name": "stdout",
     "output_type": "stream",
     "text": [
      "Calculating metrics...\n",
      "Computing metrics...\n",
      "Done.\n",
      "Using matrixRider_filtered_20 network...\n",
      "Extracting inputs...\n",
      "Formating net...\n",
      "158 experiments without sources in net, they will be removed.\n",
      "Running methods...\n",
      "52 features of mat are empty, they will be removed.\n",
      "Running mlm on mat with 230 samples and 21933 targets for 466 sources.\n"
     ]
    },
    {
     "name": "stderr",
     "output_type": "stream",
     "text": [
      "100%|█████████████████████████████████████████████| 1/1 [00:00<00:00,  1.33it/s]\n"
     ]
    },
    {
     "name": "stdout",
     "output_type": "stream",
     "text": [
      "52 features of mat are empty, they will be removed.\n",
      "Running ulm on mat with 230 samples and 21933 targets for 466 sources.\n",
      "52 features of mat are empty, they will be removed.\n",
      "Running wsum on mat with 230 samples and 21933 targets for 466 sources.\n",
      "Infering activities on 1 batches.\n"
     ]
    },
    {
     "name": "stderr",
     "output_type": "stream",
     "text": [
      "100%|█████████████████████████████████████████████| 1/1 [00:04<00:00,  4.39s/it]\n"
     ]
    },
    {
     "name": "stdout",
     "output_type": "stream",
     "text": [
      "Calculating metrics...\n",
      "Computing metrics...\n",
      "Done.\n",
      "Using matrixRider_filtered_30 network...\n",
      "Extracting inputs...\n",
      "Formating net...\n",
      "164 experiments without sources in net, they will be removed.\n",
      "Running methods...\n",
      "52 features of mat are empty, they will be removed.\n",
      "Running mlm on mat with 224 samples and 21933 targets for 445 sources.\n"
     ]
    },
    {
     "name": "stderr",
     "output_type": "stream",
     "text": [
      "100%|█████████████████████████████████████████████| 1/1 [00:00<00:00,  1.42it/s]\n"
     ]
    },
    {
     "name": "stdout",
     "output_type": "stream",
     "text": [
      "52 features of mat are empty, they will be removed.\n",
      "Running ulm on mat with 224 samples and 21933 targets for 445 sources.\n",
      "52 features of mat are empty, they will be removed.\n",
      "Running wsum on mat with 224 samples and 21933 targets for 445 sources.\n",
      "Infering activities on 1 batches.\n"
     ]
    },
    {
     "name": "stderr",
     "output_type": "stream",
     "text": [
      "100%|█████████████████████████████████████████████| 1/1 [00:04<00:00,  4.17s/it]\n"
     ]
    },
    {
     "name": "stdout",
     "output_type": "stream",
     "text": [
      "Calculating metrics...\n",
      "Computing metrics...\n",
      "Done.\n",
      "Using random_filtered_10 network...\n",
      "Extracting inputs...\n",
      "Formating net...\n",
      "147 experiments without sources in net, they will be removed.\n",
      "Running methods...\n",
      "52 features of mat are empty, they will be removed.\n",
      "Running mlm on mat with 241 samples and 21933 targets for 510 sources.\n"
     ]
    },
    {
     "name": "stderr",
     "output_type": "stream",
     "text": [
      "100%|█████████████████████████████████████████████| 1/1 [00:00<00:00,  1.21it/s]\n"
     ]
    },
    {
     "name": "stdout",
     "output_type": "stream",
     "text": [
      "52 features of mat are empty, they will be removed.\n",
      "Running ulm on mat with 241 samples and 21933 targets for 510 sources.\n",
      "52 features of mat are empty, they will be removed.\n",
      "Running wsum on mat with 241 samples and 21933 targets for 510 sources.\n",
      "Infering activities on 1 batches.\n"
     ]
    },
    {
     "name": "stderr",
     "output_type": "stream",
     "text": [
      "100%|█████████████████████████████████████████████| 1/1 [00:04<00:00,  4.93s/it]\n"
     ]
    },
    {
     "name": "stdout",
     "output_type": "stream",
     "text": [
      "Calculating metrics...\n",
      "Computing metrics...\n",
      "Done.\n",
      "Using random_filtered_20 network...\n",
      "Extracting inputs...\n",
      "Formating net...\n",
      "147 experiments without sources in net, they will be removed.\n",
      "Running methods...\n",
      "52 features of mat are empty, they will be removed.\n",
      "Running mlm on mat with 241 samples and 21933 targets for 496 sources.\n"
     ]
    },
    {
     "name": "stderr",
     "output_type": "stream",
     "text": [
      "100%|█████████████████████████████████████████████| 1/1 [00:00<00:00,  1.27it/s]\n"
     ]
    },
    {
     "name": "stdout",
     "output_type": "stream",
     "text": [
      "52 features of mat are empty, they will be removed.\n",
      "Running ulm on mat with 241 samples and 21933 targets for 496 sources.\n",
      "52 features of mat are empty, they will be removed.\n",
      "Running wsum on mat with 241 samples and 21933 targets for 496 sources.\n",
      "Infering activities on 1 batches.\n"
     ]
    },
    {
     "name": "stderr",
     "output_type": "stream",
     "text": [
      "100%|█████████████████████████████████████████████| 1/1 [00:05<00:00,  5.38s/it]\n"
     ]
    },
    {
     "name": "stdout",
     "output_type": "stream",
     "text": [
      "Calculating metrics...\n",
      "Computing metrics...\n",
      "Done.\n",
      "Using random_filtered_30 network...\n",
      "Extracting inputs...\n",
      "Formating net...\n",
      "149 experiments without sources in net, they will be removed.\n",
      "Running methods...\n",
      "52 features of mat are empty, they will be removed.\n",
      "Running mlm on mat with 239 samples and 21933 targets for 481 sources.\n"
     ]
    },
    {
     "name": "stderr",
     "output_type": "stream",
     "text": [
      "100%|█████████████████████████████████████████████| 1/1 [00:00<00:00,  1.22it/s]\n"
     ]
    },
    {
     "name": "stdout",
     "output_type": "stream",
     "text": [
      "52 features of mat are empty, they will be removed.\n",
      "Running ulm on mat with 239 samples and 21933 targets for 481 sources.\n",
      "52 features of mat are empty, they will be removed.\n",
      "Running wsum on mat with 239 samples and 21933 targets for 481 sources.\n",
      "Infering activities on 1 batches.\n"
     ]
    },
    {
     "name": "stderr",
     "output_type": "stream",
     "text": [
      "100%|█████████████████████████████████████████████| 1/1 [00:05<00:00,  5.01s/it]\n"
     ]
    },
    {
     "name": "stdout",
     "output_type": "stream",
     "text": [
      "Calculating metrics...\n",
      "Computing metrics...\n",
      "Done.\n"
     ]
    }
   ],
   "source": [
    "# Build dictionary of networks to test\n",
    "nets = {\n",
    "    'ABC': doro_ABC,\n",
    "    'collecTRI': collecTRI,\n",
    "    'matrixRider_filtered_10': matrixRider_filtered_10,\n",
    "    'matrixRider_filtered_20': matrixRider_filtered_20,\n",
    "    'matrixRider_filtered_30': matrixRider_filtered_30,\n",
    "    'random_filtered_10': random_filtered_10,\n",
    "    'random_filtered_20': random_filtered_20,\n",
    "    'random_filtered_30': random_filtered_30\n",
    "}\n",
    "\n",
    "# Example extra arguments\n",
    "decouple_kws = {\n",
    "    'ABC': {'args' : {'wsum' : {'times': 100}}},\n",
    "    'collecTRI': {'args' : {'wsum' : {'times': 100}}},\n",
    "    'matrixRider_filtered_10': {'args' : {'wsum' : {'times': 100}}},\n",
    "    'matrixRider_filtered_20': {'args' : {'wsum' : {'times': 100}}},\n",
    "    'matrixRider_filtered_30': {'args' : {'wsum' : {'times': 100}}},\n",
    "    'random_filtered_10': {'args' : {'wsum' : {'times': 100}}},\n",
    "    'random_filtered_20': {'args' : {'wsum' : {'times': 100}}},\n",
    "    'random_filtered_30': {'args' : {'wsum' : {'times': 100}}}\n",
    "}\n",
    "\n",
    "# Run benchmark pipeline\n",
    "df_MatrixRider_filtered = dc.benchmark(mat, obs, nets, perturb='TF', sign=-1, verbose=True, decouple_kws=decouple_kws)"
   ]
  },
  {
   "cell_type": "code",
   "execution_count": 55,
   "id": "e44362ee-3d34-4e20-a4d1-d1e65535d22e",
   "metadata": {},
   "outputs": [
    {
     "data": {
      "image/png": "[encoded data removed]",
      "text/plain": [
       "<Figure size 500x500 with 1 Axes>"
      ]
     },
     "metadata": {},
     "output_type": "display_data"
    }
   ],
   "source": [
    "dc.plot_metrics_scatter(df_MatrixRider_filtered[df_MatrixRider_filtered['method'] == 'consensus_estimate'], groupby='net', x='mcauroc', y='mcauprc', show_text=False)"
   ]
  },
  {
   "cell_type": "code",
   "execution_count": 40,
   "id": "17f04a00-386f-4cb8-8a00-df9aa7664dd7",
   "metadata": {},
   "outputs": [],
   "source": [
    "#FIMO\n",
    "collecTRI_res = pd.read_csv('../output/040722/04_weighted_networks/FIMO/collecTRI_res.csv') \n",
    "fimo_raw = pd.read_csv('../output/040722/04_weighted_networks/FIMO/collecTRI_FIMO_raw.csv')\n",
    "fimo_gene = pd.read_csv('../output/040722/04_weighted_networks/FIMO/collecTRI_FIMO_scaled_gene.csv')\n",
    "fimo_tf = pd.read_csv('../output/040722/04_weighted_networks/FIMO/collecTRI_FIMO_scaled_tf.csv')"
   ]
  },
  {
   "cell_type": "code",
   "execution_count": 24,
   "id": "925dc722-1a75-4ef2-9aba-ff2ee06e2d37",
   "metadata": {},
   "outputs": [],
   "source": [
    "fimo_filtered = pd.read_csv('../output/040722/04_weighted_networks/FIMO/collecTRI_FIMO_filtered.csv')\n",
    "random_filtered = pd.read_csv('../output/040722/04_weighted_networks/FIMO/collecTRI_random_filtered.csv')"
   ]
  },
  {
   "cell_type": "code",
   "execution_count": 43,
   "id": "295e030a-c3d5-4cd8-89a0-58c90ff73fb9",
   "metadata": {},
   "outputs": [
    {
     "name": "stdout",
     "output_type": "stream",
     "text": [
      "Using ABC network...\n",
      "Extracting inputs...\n",
      "Formating net...\n",
      "174 experiments without sources in net, they will be removed.\n",
      "Running methods...\n",
      "55 features of mat are empty, they will be removed.\n",
      "Running mlm on mat with 214 samples and 21930 targets for 297 sources.\n"
     ]
    },
    {
     "name": "stderr",
     "output_type": "stream",
     "text": [
      "100%|█████████████████████████████████████████████| 1/1 [00:00<00:00,  1.96it/s]\n"
     ]
    },
    {
     "name": "stdout",
     "output_type": "stream",
     "text": [
      "55 features of mat are empty, they will be removed.\n",
      "Running ulm on mat with 214 samples and 21930 targets for 297 sources.\n",
      "55 features of mat are empty, they will be removed.\n",
      "Running wsum on mat with 214 samples and 21930 targets for 297 sources.\n",
      "Infering activities on 1 batches.\n"
     ]
    },
    {
     "name": "stderr",
     "output_type": "stream",
     "text": [
      "100%|█████████████████████████████████████████████| 1/1 [00:03<00:00,  3.47s/it]\n"
     ]
    },
    {
     "name": "stdout",
     "output_type": "stream",
     "text": [
      "Calculating metrics...\n",
      "Computing metrics...\n",
      "Done.\n",
      "Using collecTRI_res network...\n",
      "Extracting inputs...\n",
      "Formating net...\n",
      "156 experiments without sources in net, they will be removed.\n",
      "Running methods...\n",
      "52 features of mat are empty, they will be removed.\n",
      "Running mlm on mat with 232 samples and 21933 targets for 468 sources.\n"
     ]
    },
    {
     "name": "stderr",
     "output_type": "stream",
     "text": [
      "100%|█████████████████████████████████████████████| 1/1 [00:00<00:00,  1.20it/s]\n"
     ]
    },
    {
     "name": "stdout",
     "output_type": "stream",
     "text": [
      "52 features of mat are empty, they will be removed.\n",
      "Running ulm on mat with 232 samples and 21933 targets for 468 sources.\n",
      "52 features of mat are empty, they will be removed.\n",
      "Running wsum on mat with 232 samples and 21933 targets for 468 sources.\n",
      "Infering activities on 1 batches.\n"
     ]
    },
    {
     "name": "stderr",
     "output_type": "stream",
     "text": [
      "100%|█████████████████████████████████████████████| 1/1 [00:05<00:00,  5.64s/it]\n"
     ]
    },
    {
     "name": "stdout",
     "output_type": "stream",
     "text": [
      "Calculating metrics...\n",
      "Computing metrics...\n",
      "Done.\n",
      "Using fimo_raw network...\n",
      "Extracting inputs...\n",
      "Formating net...\n",
      "156 experiments without sources in net, they will be removed.\n",
      "Running methods...\n",
      "52 features of mat are empty, they will be removed.\n",
      "Running mlm on mat with 232 samples and 21933 targets for 468 sources.\n"
     ]
    },
    {
     "name": "stderr",
     "output_type": "stream",
     "text": [
      "100%|█████████████████████████████████████████████| 1/1 [00:00<00:00,  1.11it/s]\n"
     ]
    },
    {
     "name": "stdout",
     "output_type": "stream",
     "text": [
      "52 features of mat are empty, they will be removed.\n",
      "Running ulm on mat with 232 samples and 21933 targets for 468 sources.\n",
      "52 features of mat are empty, they will be removed.\n",
      "Running wsum on mat with 232 samples and 21933 targets for 468 sources.\n",
      "Infering activities on 1 batches.\n"
     ]
    },
    {
     "name": "stderr",
     "output_type": "stream",
     "text": [
      "100%|█████████████████████████████████████████████| 1/1 [00:06<00:00,  6.02s/it]\n"
     ]
    },
    {
     "name": "stdout",
     "output_type": "stream",
     "text": [
      "Calculating metrics...\n",
      "Computing metrics...\n",
      "Done.\n",
      "Using fimo_gene network...\n",
      "Extracting inputs...\n",
      "Formating net...\n",
      "156 experiments without sources in net, they will be removed.\n",
      "Running methods...\n",
      "52 features of mat are empty, they will be removed.\n",
      "Running mlm on mat with 232 samples and 21933 targets for 468 sources.\n"
     ]
    },
    {
     "name": "stderr",
     "output_type": "stream",
     "text": [
      "100%|█████████████████████████████████████████████| 1/1 [00:00<00:00,  1.11it/s]\n"
     ]
    },
    {
     "name": "stdout",
     "output_type": "stream",
     "text": [
      "52 features of mat are empty, they will be removed.\n",
      "Running ulm on mat with 232 samples and 21933 targets for 468 sources.\n",
      "52 features of mat are empty, they will be removed.\n",
      "Running wsum on mat with 232 samples and 21933 targets for 468 sources.\n",
      "Infering activities on 1 batches.\n"
     ]
    },
    {
     "name": "stderr",
     "output_type": "stream",
     "text": [
      "100%|█████████████████████████████████████████████| 1/1 [00:05<00:00,  5.82s/it]\n"
     ]
    },
    {
     "name": "stdout",
     "output_type": "stream",
     "text": [
      "Calculating metrics...\n",
      "Computing metrics...\n",
      "Done.\n",
      "Using fimo_tf network...\n",
      "Extracting inputs...\n",
      "Formating net...\n",
      "156 experiments without sources in net, they will be removed.\n",
      "Running methods...\n",
      "52 features of mat are empty, they will be removed.\n",
      "Running mlm on mat with 232 samples and 21933 targets for 468 sources.\n"
     ]
    },
    {
     "name": "stderr",
     "output_type": "stream",
     "text": [
      "100%|█████████████████████████████████████████████| 1/1 [00:00<00:00,  1.19it/s]\n"
     ]
    },
    {
     "name": "stdout",
     "output_type": "stream",
     "text": [
      "52 features of mat are empty, they will be removed.\n",
      "Running ulm on mat with 232 samples and 21933 targets for 468 sources.\n",
      "52 features of mat are empty, they will be removed.\n",
      "Running wsum on mat with 232 samples and 21933 targets for 468 sources.\n",
      "Infering activities on 1 batches.\n"
     ]
    },
    {
     "name": "stderr",
     "output_type": "stream",
     "text": [
      "100%|█████████████████████████████████████████████| 1/1 [00:05<00:00,  5.71s/it]\n"
     ]
    },
    {
     "name": "stdout",
     "output_type": "stream",
     "text": [
      "Calculating metrics...\n",
      "Computing metrics...\n",
      "Done.\n"
     ]
    }
   ],
   "source": [
    "# Build dictionary of networks to test\n",
    "nets = {\n",
    "    'ABC': doro_ABC,\n",
    "    'collecTRI_res': collecTRI_res,\n",
    "    'fimo_raw': fimo_raw,\n",
    "    'fimo_gene': fimo_gene,\n",
    "    'fimo_tf': fimo_tf\n",
    "}\n",
    "\n",
    "# Example extra arguments\n",
    "decouple_kws = {\n",
    "    'ABC': {'args' : {'wsum' : {'times': 100}}},\n",
    "    'collecTRI_res': {'args' : {'wsum' : {'times': 100}}},\n",
    "    'fimo_raw': {'args' : {'wsum' : {'times': 100}}},\n",
    "    'fimo_gene': {'args' : {'wsum' : {'times': 100}}},\n",
    "    'fimo_tf': {'args' : {'wsum' : {'times': 100}}}\n",
    "}\n",
    "\n",
    "# Run benchmark pipeline\n",
    "df_FIMO = dc.benchmark(mat, obs, nets, perturb='TF', sign=-1, decouple_kws=decouple_kws)"
   ]
  },
  {
   "cell_type": "code",
   "execution_count": 42,
   "id": "78839115-ee47-4def-b3f5-b25dc37da12b",
   "metadata": {},
   "outputs": [
    {
     "data": {
      "image/png": "[encoded data removed]",
      "text/plain": [
       "<Figure size 500x500 with 1 Axes>"
      ]
     },
     "metadata": {},
     "output_type": "display_data"
    }
   ],
   "source": [
    "dc.plot_metrics_scatter(df_FIMO[df_FIMO['method'] == 'consensus_estimate'], groupby='net', x='mcauroc', y='mcauprc', show_text=False)"
   ]
  },
  {
   "cell_type": "code",
   "execution_count": null,
   "id": "d9d4b650-0e81-48a6-acb3-127d0fe9833d",
   "metadata": {},
   "outputs": [],
   "source": [
    "# Build dictionary of networks to test\n",
    "nets = {\n",
    "    'ABC': doro_ABC,\n",
    "    'collecTRI': collecTRI,\n",
    "    'fimo_filtered': fimo_filtered,\n",
    "    'random_filtered': random_filtered\n",
    "}\n",
    "\n",
    "# Example extra arguments\n",
    "decouple_kws = {\n",
    "    'ABC': {'args' : {'wsum' : {'times': 100}}},\n",
    "    'collecTRI': {'args' : {'wsum' : {'times': 100}}},\n",
    "    'fimo_filtered': {'args' : {'wsum' : {'times': 100}}},\n",
    "    'random_filtered': {'args' : {'wsum' : {'times': 100}}}\n",
    "}\n",
    "\n",
    "# Run benchmark pipeline\n",
    "df_FIMO_filtered = dc.benchmark(mat, obs, nets, perturb='TF', sign=-1, verbose=True, decouple_kws=decouple_kws)"
   ]
  },
  {
   "cell_type": "code",
   "execution_count": null,
   "id": "2b3a138d-1b7f-43dc-8008-24b71b1e6a07",
   "metadata": {},
   "outputs": [],
   "source": [
    "dc.plot_metrics_scatter(df_FIMO_filtered[df_FIMO_filtered['method'] == 'consensus_estimate'], groupby='net', x='mcauroc', y='mcauprc', show_text=False)"
   ]
  },
  {
   "cell_type": "code",
   "execution_count": 13,
   "id": "2d637dbd-08e9-4597-8199-b1ec84bb0335",
   "metadata": {},
   "outputs": [
    {
     "ename": "NameError",
     "evalue": "name 'df_FIMO_filtered' is not defined",
     "output_type": "error",
     "traceback": [
      "\u001b[0;31m---------------------------------------------------------------------------\u001b[0m",
      "\u001b[0;31mNameError\u001b[0m                                 Traceback (most recent call last)",
      "Cell \u001b[0;32mIn [13], line 1\u001b[0m\n\u001b[0;32m----> 1\u001b[0m dc\u001b[38;5;241m.\u001b[39mplot_metrics_boxplot(df_FIMO_filtered, metric\u001b[38;5;241m=\u001b[39m\u001b[38;5;124m'\u001b[39m\u001b[38;5;124mmcauroc\u001b[39m\u001b[38;5;124m'\u001b[39m, groupby\u001b[38;5;241m=\u001b[39m\u001b[38;5;124m'\u001b[39m\u001b[38;5;124mnet\u001b[39m\u001b[38;5;124m'\u001b[39m)\n",
      "\u001b[0;31mNameError\u001b[0m: name 'df_FIMO_filtered' is not defined"
     ]
    }
   ],
   "source": [
    "dc.plot_metrics_boxplot(df_FIMO_filtered, metric='mcauroc', groupby='net')"
   ]
  }
 ],
 "metadata": {
  "kernelspec": {
   "display_name": "decoupler",
   "language": "python",
   "name": "decoupler"
  },
  "language_info": {
   "codemirror_mode": {
    "name": "ipython",
    "version": 3
   },
   "file_extension": ".py",
   "mimetype": "text/x-python",
   "name": "python",
   "nbconvert_exporter": "python",
   "pygments_lexer": "ipython3",
   "version": "3.10.4"
  }
 },
 "nbformat": 4,
 "nbformat_minor": 5
}
