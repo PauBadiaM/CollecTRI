{
 "cells": [
  {
   "cell_type": "code",
   "execution_count": 1,
   "id": "b678fab0-25e7-4b41-a366-fae9f041bfc7",
   "metadata": {},
   "outputs": [
    {
     "name": "stderr",
     "output_type": "stream",
     "text": [
      "OMP: Info #276: omp_set_nested routine deprecated, please use omp_set_max_active_levels instead.\n"
     ]
    }
   ],
   "source": [
    "import pandas as pd\n",
    "import numpy as np\n",
    "\n",
    "import decoupler as dc"
   ]
  },
  {
   "cell_type": "code",
   "execution_count": 11,
   "id": "eeef57e8-7c3a-483f-8c88-53d60b1995b4",
   "metadata": {},
   "outputs": [],
   "source": [
    "mat = pd.read_csv('/Users/smuellerdott/Documents/NTNUdecoupleR/data/knockTF_expr.csv', index_col=0)\n",
    "obs = pd.read_csv('/Users/smuellerdott/Documents/NTNUdecoupleR/data/knockTF_meta.csv', index_col=0)"
   ]
  },
  {
   "cell_type": "code",
   "execution_count": 13,
   "id": "16defaac-2070-41aa-abcc-36aaff8eda2c",
   "metadata": {},
   "outputs": [],
   "source": [
    "doro_ABC = dc.get_dorothea(levels=['A', 'B', 'C'])\n",
    "collecTRI_signed = pd.read_csv('/Users/smuellerdott/Documents/NTNUdecoupleR/output/040722/final_dbTF/signed_collecTRI.csv')"
   ]
  },
  {
   "cell_type": "code",
   "execution_count": 14,
   "id": "b95c9ed7-2722-4f89-9102-6d5a8ccc6675",
   "metadata": {},
   "outputs": [],
   "source": [
    "collecTRI_signed_weighted_res = pd.read_csv('/Users/smuellerdott/Documents/NTNUdecoupleR/output/040722/final_dbTF/signed_weighted_res_collecTRI.csv')\n",
    "collecTRI_agnostic_res = pd.read_csv('/Users/smuellerdott/Documents/NTNUdecoupleR/output/040722/final_dbTF/agnostic_res_collecTRI.csv')\n",
    "collecTRI_signed_res = pd.read_csv('/Users/smuellerdott/Documents/NTNUdecoupleR/output/040722/final_dbTF/signed_res_collecTRI.csv')\n",
    "collecTRI_weighted_res = pd.read_csv('/Users/smuellerdott/Documents/NTNUdecoupleR/output/040722/final_dbTF/weighted_res_collecTRI.csv')"
   ]
  },
  {
   "cell_type": "code",
   "execution_count": 36,
   "id": "b06746b8-7d6e-440f-bec2-10304a87d31c",
   "metadata": {},
   "outputs": [
    {
     "name": "stdout",
     "output_type": "stream",
     "text": [
      "Running mlm on mat with 907 samples and 21985 targets for 598 sources.\n"
     ]
    },
    {
     "name": "stderr",
     "output_type": "stream",
     "text": [
      "100%|█████████████████████████████████████████████| 1/1 [00:01<00:00,  1.49s/it]\n"
     ]
    },
    {
     "name": "stdout",
     "output_type": "stream",
     "text": [
      "Running ulm on mat with 907 samples and 21985 targets for 598 sources.\n",
      "Running wsum on mat with 907 samples and 21985 targets for 598 sources.\n",
      "Infering activities on 1 batches.\n"
     ]
    },
    {
     "name": "stderr",
     "output_type": "stream",
     "text": [
      "100%|████████████████████████████████████████████| 1/1 [03:03<00:00, 183.12s/it]\n"
     ]
    },
    {
     "name": "stdout",
     "output_type": "stream",
     "text": [
      "Running mlm on mat with 907 samples and 21985 targets for 297 sources.\n"
     ]
    },
    {
     "name": "stderr",
     "output_type": "stream",
     "text": [
      "100%|█████████████████████████████████████████████| 1/1 [00:00<00:00,  1.37it/s]\n"
     ]
    },
    {
     "name": "stdout",
     "output_type": "stream",
     "text": [
      "Running ulm on mat with 907 samples and 21985 targets for 297 sources.\n",
      "Running wsum on mat with 907 samples and 21985 targets for 297 sources.\n",
      "Infering activities on 1 batches.\n"
     ]
    },
    {
     "name": "stderr",
     "output_type": "stream",
     "text": [
      "100%|███████████████████████████████████████████| 1/1 [17:45<00:00, 1065.82s/it]\n"
     ]
    }
   ],
   "source": [
    "results_collectri = dc.decouple(mat, net=collecTRI_signed, source='source', target='target', weight='weight', verbose=True, min_n=5)\n",
    "results_doro = dc.decouple(mat, net=doro_ABC, source='source', target='target', weight='weight', verbose=True, min_n=5)"
   ]
  },
  {
   "cell_type": "code",
   "execution_count": null,
   "id": "9da4507a-99e8-4b10-a3e8-d9fbd27dd71d",
   "metadata": {},
   "outputs": [
    {
     "name": "stdout",
     "output_type": "stream",
     "text": [
      "Running mlm on mat with 907 samples and 21985 targets for 499 sources.\n"
     ]
    },
    {
     "name": "stderr",
     "output_type": "stream",
     "text": [
      "100%|█████████████████████████████████████████████| 1/1 [00:01<00:00,  1.29s/it]\n"
     ]
    },
    {
     "name": "stdout",
     "output_type": "stream",
     "text": [
      "Running ulm on mat with 907 samples and 21985 targets for 499 sources.\n",
      "Running wsum on mat with 907 samples and 21985 targets for 499 sources.\n",
      "Infering activities on 1 batches.\n"
     ]
    },
    {
     "name": "stderr",
     "output_type": "stream",
     "text": [
      "  0%|                                                     | 0/1 [00:00<?, ?it/s]"
     ]
    }
   ],
   "source": [
    "results_signed_weighted_res = dc.decouple(mat, net=collecTRI_signed_weighted_res, source='source', target='target', weight='weight', verbose=True, min_n=5)\n",
    "results_agnostic_res = dc.decouple(mat, net=collecTRI_agnostic_res, source='source', target='target', weight='weight', verbose=True, min_n=5)\n",
    "results_signed_res = dc.decouple(mat, net=collecTRI_signed_res, source='source', target='target', weight='weight', verbose=True, min_n=5)\n",
    "results_weighted_res = dc.decouple(mat, net=collecTRI_weighted_res, source='source', target='target', weight='weight', verbose=True, min_n=5)"
   ]
  },
  {
   "cell_type": "code",
   "execution_count": 15,
   "id": "60624490-bb06-4f36-ab96-a65dc09d2278",
   "metadata": {},
   "outputs": [
    {
     "name": "stdout",
     "output_type": "stream",
     "text": [
      "50 features of mat are empty, they will be removed.\n",
      "Running wmean on mat with 388 samples and 21935 targets for 497 sources.\n",
      "Infering activities on 1 batches.\n"
     ]
    },
    {
     "name": "stderr",
     "output_type": "stream",
     "text": [
      "100%|█████████████████████████████████████████████| 1/1 [00:07<00:00,  7.65s/it]\n"
     ]
    },
    {
     "name": "stdout",
     "output_type": "stream",
     "text": [
      "50 features of mat are empty, they will be removed.\n",
      "Running wmean on mat with 388 samples and 21935 targets for 497 sources.\n",
      "Infering activities on 1 batches.\n"
     ]
    },
    {
     "name": "stderr",
     "output_type": "stream",
     "text": [
      "100%|█████████████████████████████████████████████| 1/1 [00:07<00:00,  7.01s/it]\n"
     ]
    },
    {
     "name": "stdout",
     "output_type": "stream",
     "text": [
      "50 features of mat are empty, they will be removed.\n",
      "Running wmean on mat with 388 samples and 21935 targets for 497 sources.\n",
      "Infering activities on 1 batches.\n"
     ]
    },
    {
     "name": "stderr",
     "output_type": "stream",
     "text": [
      "100%|█████████████████████████████████████████████| 1/1 [00:06<00:00,  6.70s/it]\n"
     ]
    },
    {
     "name": "stdout",
     "output_type": "stream",
     "text": [
      "50 features of mat are empty, they will be removed.\n",
      "Running wmean on mat with 388 samples and 21935 targets for 497 sources.\n",
      "Infering activities on 1 batches.\n"
     ]
    },
    {
     "name": "stderr",
     "output_type": "stream",
     "text": [
      "100%|█████████████████████████████████████████████| 1/1 [00:06<00:00,  6.77s/it]\n"
     ]
    }
   ],
   "source": [
    "results_signed_weighted_res = dc.run_wmean(mat, net=collecTRI_signed_weighted_res, source='source', target='target', weight='weight', verbose=True, min_n=5, times=100)\n",
    "results_agnostic_res = dc.run_wmean(mat, net=collecTRI_agnostic_res, source='source', target='target', weight='weight', verbose=True, min_n=5, times=100)\n",
    "results_signed_res = dc.run_wmean(mat, net=collecTRI_signed_res, source='source', target='target', weight='weight', verbose=True, min_n=5, times=100)\n",
    "results_weighted_res = dc.run_wmean(mat, net=collecTRI_weighted_res, source='source', target='target', weight='weight', verbose=True, min_n=5, times=100)"
   ]
  },
  {
   "cell_type": "code",
   "execution_count": 16,
   "id": "4f988c1b-6a84-4980-8a78-16345bef0300",
   "metadata": {},
   "outputs": [
    {
     "data": {
      "text/plain": [
       "'wmean_estimate'"
      ]
     },
     "execution_count": 16,
     "metadata": {},
     "output_type": "execute_result"
    }
   ],
   "source": [
    "results_signed_weighted_res[0].name"
   ]
  },
  {
   "cell_type": "code",
   "execution_count": 37,
   "id": "f770fc64-e53f-40bb-b735-f5739097b20f",
   "metadata": {},
   "outputs": [],
   "source": [
    "consensus_collectri = results_collectri['consensus_estimate']\n",
    "consensus_doro = results_doro['consensus_estimate']"
   ]
  },
  {
   "cell_type": "code",
   "execution_count": 6,
   "id": "e201b8dd-8091-412e-90c5-3cf9b38e3326",
   "metadata": {},
   "outputs": [],
   "source": [
    "consensus_signed_weighted_res = results_signed_weighted_res['consensus_estimate']\n",
    "consensus_agnostic_res = results_agnostic_res['consensus_estimate']\n",
    "consensus_signed_res = results_signed_res['consensus_estimate']\n",
    "consensus_weighted_res = results_weighted_res['consensus_estimate']"
   ]
  },
  {
   "cell_type": "code",
   "execution_count": 38,
   "id": "1966fdbf-c23f-4722-827f-9bc6c441ce1f",
   "metadata": {},
   "outputs": [],
   "source": [
    "pd.DataFrame.to_csv(consensus_collectri, '../output/consensus_collectri.csv')\n",
    "pd.DataFrame.to_csv(consensus_doro, '../output/consensus_doro.csv')"
   ]
  },
  {
   "cell_type": "code",
   "execution_count": 17,
   "id": "2987fedd-3562-4c30-925e-6a49d22b47b4",
   "metadata": {},
   "outputs": [],
   "source": [
    "pd.DataFrame.to_csv(results_signed_weighted_res[0], '../output/040722/decoupler/mean_signed_weighted_res.csv')\n",
    "pd.DataFrame.to_csv(results_agnostic_res[0], '../output/040722/decoupler/mean_agnostic_res.csv')\n",
    "pd.DataFrame.to_csv(results_signed_res[0], '../output/040722/decoupler/mean_signed_res.csv')\n",
    "pd.DataFrame.to_csv(results_weighted_res[0], '../output/040722/decoupler/mean_weighted_res.csv')"
   ]
  },
  {
   "cell_type": "code",
   "execution_count": 7,
   "id": "cc10fe33-da06-4620-a986-18353a288b8d",
   "metadata": {},
   "outputs": [],
   "source": [
    "pd.DataFrame.to_csv(consensus_signed_weighted_res, '../output/040722/decoupler/consensus_signed_weighted_res.csv')\n",
    "pd.DataFrame.to_csv(consensus_agnostic_res, '../output/040722/decoupler/consensus_agnostic_res.csv')\n",
    "pd.DataFrame.to_csv(consensus_signed_res, '../output/040722/decoupler/consensus_signed_res.csv')\n",
    "pd.DataFrame.to_csv(consensus_weighted_res, '../output/040722/decoupler/consensus_weighted_res.csv')"
   ]
  },
  {
   "cell_type": "code",
   "execution_count": 27,
   "id": "f86a5e29-820b-4fc6-8c00-6535a047655d",
   "metadata": {},
   "outputs": [
    {
     "data": {
      "text/html": [
       "<div>\n",
       "<style scoped>\n",
       "    .dataframe tbody tr th:only-of-type {\n",
       "        vertical-align: middle;\n",
       "    }\n",
       "\n",
       "    .dataframe tbody tr th {\n",
       "        vertical-align: top;\n",
       "    }\n",
       "\n",
       "    .dataframe thead th {\n",
       "        text-align: right;\n",
       "    }\n",
       "</style>\n",
       "<table border=\"1\" class=\"dataframe\">\n",
       "  <thead>\n",
       "    <tr style=\"text-align: right;\">\n",
       "      <th></th>\n",
       "      <th>AEBP1</th>\n",
       "      <th>AHR</th>\n",
       "      <th>AHRR</th>\n",
       "      <th>AP1</th>\n",
       "      <th>AR</th>\n",
       "      <th>ARNT</th>\n",
       "      <th>ARNTL</th>\n",
       "      <th>ARNTL2</th>\n",
       "      <th>ARX</th>\n",
       "      <th>ASCL1</th>\n",
       "      <th>...</th>\n",
       "      <th>ZNF354C</th>\n",
       "      <th>ZNF362</th>\n",
       "      <th>ZNF382</th>\n",
       "      <th>ZNF384</th>\n",
       "      <th>ZNF395</th>\n",
       "      <th>ZNF423</th>\n",
       "      <th>ZNF436</th>\n",
       "      <th>ZNF699</th>\n",
       "      <th>ZNF76</th>\n",
       "      <th>ZNF91</th>\n",
       "    </tr>\n",
       "  </thead>\n",
       "  <tbody>\n",
       "    <tr>\n",
       "      <th>DataSet_01_006</th>\n",
       "      <td>0.115386</td>\n",
       "      <td>0.033661</td>\n",
       "      <td>-0.906340</td>\n",
       "      <td>0.800852</td>\n",
       "      <td>0.637026</td>\n",
       "      <td>1.004651</td>\n",
       "      <td>0.313947</td>\n",
       "      <td>-0.669574</td>\n",
       "      <td>1.256340</td>\n",
       "      <td>0.998205</td>\n",
       "      <td>...</td>\n",
       "      <td>-0.249228</td>\n",
       "      <td>0.408440</td>\n",
       "      <td>-0.188062</td>\n",
       "      <td>-0.349575</td>\n",
       "      <td>0.127840</td>\n",
       "      <td>-1.218243</td>\n",
       "      <td>0.576098</td>\n",
       "      <td>1.727530</td>\n",
       "      <td>-0.353286</td>\n",
       "      <td>-0.602605</td>\n",
       "    </tr>\n",
       "    <tr>\n",
       "      <th>DataSet_01_007</th>\n",
       "      <td>-0.216355</td>\n",
       "      <td>1.205121</td>\n",
       "      <td>-0.124302</td>\n",
       "      <td>0.738051</td>\n",
       "      <td>1.129634</td>\n",
       "      <td>0.651834</td>\n",
       "      <td>0.142031</td>\n",
       "      <td>-0.589601</td>\n",
       "      <td>0.468698</td>\n",
       "      <td>0.127900</td>\n",
       "      <td>...</td>\n",
       "      <td>-1.765813</td>\n",
       "      <td>-1.551174</td>\n",
       "      <td>-0.356735</td>\n",
       "      <td>0.084201</td>\n",
       "      <td>0.430751</td>\n",
       "      <td>-0.152078</td>\n",
       "      <td>0.566036</td>\n",
       "      <td>0.666285</td>\n",
       "      <td>-0.176705</td>\n",
       "      <td>-1.623203</td>\n",
       "    </tr>\n",
       "    <tr>\n",
       "      <th>DataSet_01_008</th>\n",
       "      <td>-0.356621</td>\n",
       "      <td>-0.484326</td>\n",
       "      <td>-0.951339</td>\n",
       "      <td>-1.098431</td>\n",
       "      <td>0.123383</td>\n",
       "      <td>-0.428658</td>\n",
       "      <td>-0.635108</td>\n",
       "      <td>-1.334661</td>\n",
       "      <td>-0.402217</td>\n",
       "      <td>0.008666</td>\n",
       "      <td>...</td>\n",
       "      <td>-0.120466</td>\n",
       "      <td>-0.501884</td>\n",
       "      <td>1.855755</td>\n",
       "      <td>1.366274</td>\n",
       "      <td>1.196215</td>\n",
       "      <td>-0.302546</td>\n",
       "      <td>-0.720705</td>\n",
       "      <td>0.324557</td>\n",
       "      <td>-0.627115</td>\n",
       "      <td>0.508585</td>\n",
       "    </tr>\n",
       "    <tr>\n",
       "      <th>DataSet_01_010</th>\n",
       "      <td>-0.558731</td>\n",
       "      <td>0.169912</td>\n",
       "      <td>1.782127</td>\n",
       "      <td>-0.691938</td>\n",
       "      <td>0.589236</td>\n",
       "      <td>-0.670887</td>\n",
       "      <td>0.966186</td>\n",
       "      <td>-1.268517</td>\n",
       "      <td>0.979547</td>\n",
       "      <td>-0.810133</td>\n",
       "      <td>...</td>\n",
       "      <td>-0.873633</td>\n",
       "      <td>-1.560630</td>\n",
       "      <td>-0.042273</td>\n",
       "      <td>0.481431</td>\n",
       "      <td>-2.057981</td>\n",
       "      <td>0.586614</td>\n",
       "      <td>-0.926307</td>\n",
       "      <td>0.437987</td>\n",
       "      <td>1.898796</td>\n",
       "      <td>0.705642</td>\n",
       "    </tr>\n",
       "    <tr>\n",
       "      <th>DataSet_01_011</th>\n",
       "      <td>0.580343</td>\n",
       "      <td>-0.919810</td>\n",
       "      <td>-3.697220</td>\n",
       "      <td>-0.308512</td>\n",
       "      <td>0.236982</td>\n",
       "      <td>-0.146061</td>\n",
       "      <td>-0.600511</td>\n",
       "      <td>0.173764</td>\n",
       "      <td>-0.544323</td>\n",
       "      <td>-1.076581</td>\n",
       "      <td>...</td>\n",
       "      <td>-0.622832</td>\n",
       "      <td>1.743780</td>\n",
       "      <td>1.345423</td>\n",
       "      <td>1.286493</td>\n",
       "      <td>-2.379420</td>\n",
       "      <td>0.336189</td>\n",
       "      <td>0.193549</td>\n",
       "      <td>-1.229922</td>\n",
       "      <td>0.204160</td>\n",
       "      <td>-0.043689</td>\n",
       "    </tr>\n",
       "    <tr>\n",
       "      <th>...</th>\n",
       "      <td>...</td>\n",
       "      <td>...</td>\n",
       "      <td>...</td>\n",
       "      <td>...</td>\n",
       "      <td>...</td>\n",
       "      <td>...</td>\n",
       "      <td>...</td>\n",
       "      <td>...</td>\n",
       "      <td>...</td>\n",
       "      <td>...</td>\n",
       "      <td>...</td>\n",
       "      <td>...</td>\n",
       "      <td>...</td>\n",
       "      <td>...</td>\n",
       "      <td>...</td>\n",
       "      <td>...</td>\n",
       "      <td>...</td>\n",
       "      <td>...</td>\n",
       "      <td>...</td>\n",
       "      <td>...</td>\n",
       "      <td>...</td>\n",
       "    </tr>\n",
       "    <tr>\n",
       "      <th>DataSet_04_032</th>\n",
       "      <td>-0.638723</td>\n",
       "      <td>0.379172</td>\n",
       "      <td>0.321510</td>\n",
       "      <td>2.208204</td>\n",
       "      <td>1.477178</td>\n",
       "      <td>1.088792</td>\n",
       "      <td>0.680438</td>\n",
       "      <td>-1.233316</td>\n",
       "      <td>-0.037460</td>\n",
       "      <td>0.264125</td>\n",
       "      <td>...</td>\n",
       "      <td>-0.877165</td>\n",
       "      <td>-0.510287</td>\n",
       "      <td>-0.253263</td>\n",
       "      <td>-0.285364</td>\n",
       "      <td>-1.992122</td>\n",
       "      <td>-0.312638</td>\n",
       "      <td>0.102088</td>\n",
       "      <td>-0.451408</td>\n",
       "      <td>-1.360927</td>\n",
       "      <td>-1.711378</td>\n",
       "    </tr>\n",
       "    <tr>\n",
       "      <th>DataSet_04_036</th>\n",
       "      <td>0.510025</td>\n",
       "      <td>0.458384</td>\n",
       "      <td>-0.938431</td>\n",
       "      <td>0.452899</td>\n",
       "      <td>1.132568</td>\n",
       "      <td>-0.473996</td>\n",
       "      <td>0.326431</td>\n",
       "      <td>-1.282917</td>\n",
       "      <td>1.354682</td>\n",
       "      <td>1.011501</td>\n",
       "      <td>...</td>\n",
       "      <td>-1.676758</td>\n",
       "      <td>-0.657130</td>\n",
       "      <td>-0.825162</td>\n",
       "      <td>0.142653</td>\n",
       "      <td>-0.229331</td>\n",
       "      <td>-0.917033</td>\n",
       "      <td>0.365286</td>\n",
       "      <td>-0.557066</td>\n",
       "      <td>-0.336157</td>\n",
       "      <td>0.675787</td>\n",
       "    </tr>\n",
       "    <tr>\n",
       "      <th>DataSet_04_037</th>\n",
       "      <td>-1.840940</td>\n",
       "      <td>1.561272</td>\n",
       "      <td>-0.879554</td>\n",
       "      <td>1.010576</td>\n",
       "      <td>0.557949</td>\n",
       "      <td>0.240658</td>\n",
       "      <td>-0.584345</td>\n",
       "      <td>-1.974786</td>\n",
       "      <td>2.513265</td>\n",
       "      <td>1.164004</td>\n",
       "      <td>...</td>\n",
       "      <td>-0.693892</td>\n",
       "      <td>0.784427</td>\n",
       "      <td>0.766588</td>\n",
       "      <td>0.929515</td>\n",
       "      <td>-1.839058</td>\n",
       "      <td>-1.040077</td>\n",
       "      <td>0.138026</td>\n",
       "      <td>0.233250</td>\n",
       "      <td>-0.708117</td>\n",
       "      <td>-1.375628</td>\n",
       "    </tr>\n",
       "    <tr>\n",
       "      <th>DataSet_04_039</th>\n",
       "      <td>-0.125982</td>\n",
       "      <td>-0.757833</td>\n",
       "      <td>0.233313</td>\n",
       "      <td>-1.669405</td>\n",
       "      <td>-1.416280</td>\n",
       "      <td>-0.431369</td>\n",
       "      <td>-0.098273</td>\n",
       "      <td>-0.362371</td>\n",
       "      <td>-0.456476</td>\n",
       "      <td>-0.842090</td>\n",
       "      <td>...</td>\n",
       "      <td>-0.519303</td>\n",
       "      <td>-1.205102</td>\n",
       "      <td>0.822734</td>\n",
       "      <td>0.095186</td>\n",
       "      <td>-1.370300</td>\n",
       "      <td>-0.211980</td>\n",
       "      <td>0.266129</td>\n",
       "      <td>0.669678</td>\n",
       "      <td>0.036369</td>\n",
       "      <td>-0.245151</td>\n",
       "    </tr>\n",
       "    <tr>\n",
       "      <th>DataSet_04_041</th>\n",
       "      <td>-0.095902</td>\n",
       "      <td>0.023821</td>\n",
       "      <td>-1.254114</td>\n",
       "      <td>-0.076578</td>\n",
       "      <td>-1.184249</td>\n",
       "      <td>-0.820152</td>\n",
       "      <td>-1.011064</td>\n",
       "      <td>-1.688536</td>\n",
       "      <td>0.034656</td>\n",
       "      <td>0.352989</td>\n",
       "      <td>...</td>\n",
       "      <td>-0.757131</td>\n",
       "      <td>0.183243</td>\n",
       "      <td>0.412944</td>\n",
       "      <td>0.018998</td>\n",
       "      <td>0.220153</td>\n",
       "      <td>-0.373563</td>\n",
       "      <td>-0.106412</td>\n",
       "      <td>-0.018438</td>\n",
       "      <td>0.160156</td>\n",
       "      <td>0.038631</td>\n",
       "    </tr>\n",
       "  </tbody>\n",
       "</table>\n",
       "<p>388 rows × 598 columns</p>\n",
       "</div>"
      ],
      "text/plain": [
       "                   AEBP1       AHR      AHRR       AP1        AR      ARNT  \\\n",
       "DataSet_01_006  0.115386  0.033661 -0.906340  0.800852  0.637026  1.004651   \n",
       "DataSet_01_007 -0.216355  1.205121 -0.124302  0.738051  1.129634  0.651834   \n",
       "DataSet_01_008 -0.356621 -0.484326 -0.951339 -1.098431  0.123383 -0.428658   \n",
       "DataSet_01_010 -0.558731  0.169912  1.782127 -0.691938  0.589236 -0.670887   \n",
       "DataSet_01_011  0.580343 -0.919810 -3.697220 -0.308512  0.236982 -0.146061   \n",
       "...                  ...       ...       ...       ...       ...       ...   \n",
       "DataSet_04_032 -0.638723  0.379172  0.321510  2.208204  1.477178  1.088792   \n",
       "DataSet_04_036  0.510025  0.458384 -0.938431  0.452899  1.132568 -0.473996   \n",
       "DataSet_04_037 -1.840940  1.561272 -0.879554  1.010576  0.557949  0.240658   \n",
       "DataSet_04_039 -0.125982 -0.757833  0.233313 -1.669405 -1.416280 -0.431369   \n",
       "DataSet_04_041 -0.095902  0.023821 -1.254114 -0.076578 -1.184249 -0.820152   \n",
       "\n",
       "                   ARNTL    ARNTL2       ARX     ASCL1  ...   ZNF354C  \\\n",
       "DataSet_01_006  0.313947 -0.669574  1.256340  0.998205  ... -0.249228   \n",
       "DataSet_01_007  0.142031 -0.589601  0.468698  0.127900  ... -1.765813   \n",
       "DataSet_01_008 -0.635108 -1.334661 -0.402217  0.008666  ... -0.120466   \n",
       "DataSet_01_010  0.966186 -1.268517  0.979547 -0.810133  ... -0.873633   \n",
       "DataSet_01_011 -0.600511  0.173764 -0.544323 -1.076581  ... -0.622832   \n",
       "...                  ...       ...       ...       ...  ...       ...   \n",
       "DataSet_04_032  0.680438 -1.233316 -0.037460  0.264125  ... -0.877165   \n",
       "DataSet_04_036  0.326431 -1.282917  1.354682  1.011501  ... -1.676758   \n",
       "DataSet_04_037 -0.584345 -1.974786  2.513265  1.164004  ... -0.693892   \n",
       "DataSet_04_039 -0.098273 -0.362371 -0.456476 -0.842090  ... -0.519303   \n",
       "DataSet_04_041 -1.011064 -1.688536  0.034656  0.352989  ... -0.757131   \n",
       "\n",
       "                  ZNF362    ZNF382    ZNF384    ZNF395    ZNF423    ZNF436  \\\n",
       "DataSet_01_006  0.408440 -0.188062 -0.349575  0.127840 -1.218243  0.576098   \n",
       "DataSet_01_007 -1.551174 -0.356735  0.084201  0.430751 -0.152078  0.566036   \n",
       "DataSet_01_008 -0.501884  1.855755  1.366274  1.196215 -0.302546 -0.720705   \n",
       "DataSet_01_010 -1.560630 -0.042273  0.481431 -2.057981  0.586614 -0.926307   \n",
       "DataSet_01_011  1.743780  1.345423  1.286493 -2.379420  0.336189  0.193549   \n",
       "...                  ...       ...       ...       ...       ...       ...   \n",
       "DataSet_04_032 -0.510287 -0.253263 -0.285364 -1.992122 -0.312638  0.102088   \n",
       "DataSet_04_036 -0.657130 -0.825162  0.142653 -0.229331 -0.917033  0.365286   \n",
       "DataSet_04_037  0.784427  0.766588  0.929515 -1.839058 -1.040077  0.138026   \n",
       "DataSet_04_039 -1.205102  0.822734  0.095186 -1.370300 -0.211980  0.266129   \n",
       "DataSet_04_041  0.183243  0.412944  0.018998  0.220153 -0.373563 -0.106412   \n",
       "\n",
       "                  ZNF699     ZNF76     ZNF91  \n",
       "DataSet_01_006  1.727530 -0.353286 -0.602605  \n",
       "DataSet_01_007  0.666285 -0.176705 -1.623203  \n",
       "DataSet_01_008  0.324557 -0.627115  0.508585  \n",
       "DataSet_01_010  0.437987  1.898796  0.705642  \n",
       "DataSet_01_011 -1.229922  0.204160 -0.043689  \n",
       "...                  ...       ...       ...  \n",
       "DataSet_04_032 -0.451408 -1.360927 -1.711378  \n",
       "DataSet_04_036 -0.557066 -0.336157  0.675787  \n",
       "DataSet_04_037  0.233250 -0.708117 -1.375628  \n",
       "DataSet_04_039  0.669678  0.036369 -0.245151  \n",
       "DataSet_04_041 -0.018438  0.160156  0.038631  \n",
       "\n",
       "[388 rows x 598 columns]"
      ]
     },
     "execution_count": 27,
     "metadata": {},
     "output_type": "execute_result"
    }
   ],
   "source": [
    "consensus_collectri"
   ]
  }
 ],
 "metadata": {
  "kernelspec": {
   "display_name": "decoupler",
   "language": "python",
   "name": "decoupler"
  },
  "language_info": {
   "codemirror_mode": {
    "name": "ipython",
    "version": 3
   },
   "file_extension": ".py",
   "mimetype": "text/x-python",
   "name": "python",
   "nbconvert_exporter": "python",
   "pygments_lexer": "ipython3",
   "version": "3.10.4"
  }
 },
 "nbformat": 4,
 "nbformat_minor": 5
}
