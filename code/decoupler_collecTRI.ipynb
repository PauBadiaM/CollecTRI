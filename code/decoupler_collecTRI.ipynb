{
 "cells": [
  {
   "cell_type": "code",
   "execution_count": 1,
   "id": "b678fab0-25e7-4b41-a366-fae9f041bfc7",
   "metadata": {},
   "outputs": [
    {
     "name": "stderr",
     "output_type": "stream",
     "text": [
      "OMP: Info #276: omp_set_nested routine deprecated, please use omp_set_max_active_levels instead.\n"
     ]
    }
   ],
   "source": [
    "import pandas as pd\n",
    "import numpy as np\n",
    "\n",
    "import decoupler as dc"
   ]
  },
  {
   "cell_type": "code",
   "execution_count": 2,
   "id": "eeef57e8-7c3a-483f-8c88-53d60b1995b4",
   "metadata": {},
   "outputs": [],
   "source": [
    "mat = pd.read_csv('/Users/smuellerdott/Documents/NTNUdecoupleR/data/knockTF_expr.csv', index_col=0)\n",
    "obs = pd.read_csv('/Users/smuellerdott/Documents/NTNUdecoupleR/data/knockTF_meta.csv', index_col=0)"
   ]
  },
  {
   "cell_type": "code",
   "execution_count": 3,
   "id": "16defaac-2070-41aa-abcc-36aaff8eda2c",
   "metadata": {},
   "outputs": [
    {
     "name": "stderr",
     "output_type": "stream",
     "text": [
      "/Users/smuellerdott/miniconda3/envs/decoupler/lib/python3.10/site-packages/tqdm/auto.py:22: TqdmWarning: IProgress not found. Please update jupyter and ipywidgets. See https://ipywidgets.readthedocs.io/en/stable/user_install.html\n",
      "  from .autonotebook import tqdm as notebook_tqdm\n"
     ]
    }
   ],
   "source": [
    "doro_ABC = dc.get_dorothea(levels=['A', 'B', 'C'])\n",
    "regnet = pd.read_csv('../data/raw/regnetwork.csv')\n",
    "chea3 = pd.read_csv('../data/raw/chea3.csv')\n",
    "collecTRI_signed = pd.read_csv('../output/040722/02_signed_networks/strict_signed_CollecTRI.csv')\n",
    "collecTRI_agnostic = pd.read_csv('../output/040722/02_signed_networks/strict_signed_CollecTRI.csv')\n",
    "collecTRI_agnostic['weight'] = 1\n",
    "collecTRI_rand = dc.shuffle_net(collecTRI_agnostic, target='target', weight='weight').drop_duplicates(['source', 'target'])\n",
    "collecTRI_rand_signed = dc.shuffle_net(collecTRI_signed, target='target', weight='weight').drop_duplicates(['source', 'target'])"
   ]
  },
  {
   "cell_type": "code",
   "execution_count": 5,
   "id": "c3783ff0-80f7-4e6f-9790-493a92e8dd7b",
   "metadata": {},
   "outputs": [
    {
     "data": {
      "text/html": [
       "<div>\n",
       "<style scoped>\n",
       "    .dataframe tbody tr th:only-of-type {\n",
       "        vertical-align: middle;\n",
       "    }\n",
       "\n",
       "    .dataframe tbody tr th {\n",
       "        vertical-align: top;\n",
       "    }\n",
       "\n",
       "    .dataframe thead th {\n",
       "        text-align: right;\n",
       "    }\n",
       "</style>\n",
       "<table border=\"1\" class=\"dataframe\">\n",
       "  <thead>\n",
       "    <tr style=\"text-align: right;\">\n",
       "      <th></th>\n",
       "      <th>source</th>\n",
       "      <th>weight</th>\n",
       "      <th>target</th>\n",
       "      <th>confidence</th>\n",
       "    </tr>\n",
       "  </thead>\n",
       "  <tbody>\n",
       "    <tr>\n",
       "      <th>0</th>\n",
       "      <td>USF1</td>\n",
       "      <td>1</td>\n",
       "      <td>S100A6</td>\n",
       "      <td>A</td>\n",
       "    </tr>\n",
       "    <tr>\n",
       "      <th>1</th>\n",
       "      <td>USF1</td>\n",
       "      <td>1</td>\n",
       "      <td>DUSP1</td>\n",
       "      <td>A</td>\n",
       "    </tr>\n",
       "    <tr>\n",
       "      <th>2</th>\n",
       "      <td>USF1</td>\n",
       "      <td>1</td>\n",
       "      <td>C4A</td>\n",
       "      <td>A</td>\n",
       "    </tr>\n",
       "    <tr>\n",
       "      <th>3</th>\n",
       "      <td>USF1</td>\n",
       "      <td>1</td>\n",
       "      <td>ABCA1</td>\n",
       "      <td>A</td>\n",
       "    </tr>\n",
       "    <tr>\n",
       "      <th>4</th>\n",
       "      <td>TP53</td>\n",
       "      <td>1</td>\n",
       "      <td>TP73</td>\n",
       "      <td>A</td>\n",
       "    </tr>\n",
       "    <tr>\n",
       "      <th>...</th>\n",
       "      <td>...</td>\n",
       "      <td>...</td>\n",
       "      <td>...</td>\n",
       "      <td>...</td>\n",
       "    </tr>\n",
       "    <tr>\n",
       "      <th>130650</th>\n",
       "      <td>ZSCAN16</td>\n",
       "      <td>1</td>\n",
       "      <td>SLC25A38</td>\n",
       "      <td>A</td>\n",
       "    </tr>\n",
       "    <tr>\n",
       "      <th>130651</th>\n",
       "      <td>ZSCAN16</td>\n",
       "      <td>1</td>\n",
       "      <td>ZNF446</td>\n",
       "      <td>A</td>\n",
       "    </tr>\n",
       "    <tr>\n",
       "      <th>130652</th>\n",
       "      <td>ZSCAN21</td>\n",
       "      <td>1</td>\n",
       "      <td>SCAND1</td>\n",
       "      <td>A</td>\n",
       "    </tr>\n",
       "    <tr>\n",
       "      <th>130653</th>\n",
       "      <td>ZSCAN4</td>\n",
       "      <td>1</td>\n",
       "      <td>SMAD1</td>\n",
       "      <td>A</td>\n",
       "    </tr>\n",
       "    <tr>\n",
       "      <th>130654</th>\n",
       "      <td>ZSCAN4</td>\n",
       "      <td>1</td>\n",
       "      <td>SMAD9</td>\n",
       "      <td>A</td>\n",
       "    </tr>\n",
       "  </tbody>\n",
       "</table>\n",
       "<p>130655 rows × 4 columns</p>\n",
       "</div>"
      ],
      "text/plain": [
       "         source  weight    target confidence\n",
       "0          USF1       1    S100A6          A\n",
       "1          USF1       1     DUSP1          A\n",
       "2          USF1       1       C4A          A\n",
       "3          USF1       1     ABCA1          A\n",
       "4          TP53       1      TP73          A\n",
       "...         ...     ...       ...        ...\n",
       "130650  ZSCAN16       1  SLC25A38          A\n",
       "130651  ZSCAN16       1    ZNF446          A\n",
       "130652  ZSCAN21       1    SCAND1          A\n",
       "130653   ZSCAN4       1     SMAD1          A\n",
       "130654   ZSCAN4       1     SMAD9          A\n",
       "\n",
       "[130655 rows x 4 columns]"
      ]
     },
     "execution_count": 5,
     "metadata": {},
     "output_type": "execute_result"
    }
   ],
   "source": [
    "regnet"
   ]
  },
  {
   "cell_type": "code",
   "execution_count": 9,
   "id": "c11ea6c8-7fda-49d0-9fd1-5f871f0697bf",
   "metadata": {},
   "outputs": [],
   "source": [
    "msk = obs['logFC'] < -1\n",
    "mat = mat[msk]\n",
    "obs = obs[msk]"
   ]
  },
  {
   "cell_type": "code",
   "execution_count": 12,
   "id": "7618390f-7148-4957-bd00-a96538e7c404",
   "metadata": {},
   "outputs": [
    {
     "data": {
      "text/html": [
       "<div>\n",
       "<style scoped>\n",
       "    .dataframe tbody tr th:only-of-type {\n",
       "        vertical-align: middle;\n",
       "    }\n",
       "\n",
       "    .dataframe tbody tr th {\n",
       "        vertical-align: top;\n",
       "    }\n",
       "\n",
       "    .dataframe thead th {\n",
       "        text-align: right;\n",
       "    }\n",
       "</style>\n",
       "<table border=\"1\" class=\"dataframe\">\n",
       "  <thead>\n",
       "    <tr style=\"text-align: right;\">\n",
       "      <th></th>\n",
       "      <th>source</th>\n",
       "      <th>weight</th>\n",
       "      <th>target</th>\n",
       "      <th>confidence</th>\n",
       "    </tr>\n",
       "  </thead>\n",
       "  <tbody>\n",
       "    <tr>\n",
       "      <th>0</th>\n",
       "      <td>USF1</td>\n",
       "      <td>1</td>\n",
       "      <td>S100A6</td>\n",
       "      <td>A</td>\n",
       "    </tr>\n",
       "    <tr>\n",
       "      <th>1</th>\n",
       "      <td>USF1</td>\n",
       "      <td>1</td>\n",
       "      <td>DUSP1</td>\n",
       "      <td>A</td>\n",
       "    </tr>\n",
       "    <tr>\n",
       "      <th>2</th>\n",
       "      <td>USF1</td>\n",
       "      <td>1</td>\n",
       "      <td>C4A</td>\n",
       "      <td>A</td>\n",
       "    </tr>\n",
       "    <tr>\n",
       "      <th>3</th>\n",
       "      <td>USF1</td>\n",
       "      <td>1</td>\n",
       "      <td>ABCA1</td>\n",
       "      <td>A</td>\n",
       "    </tr>\n",
       "    <tr>\n",
       "      <th>4</th>\n",
       "      <td>TP53</td>\n",
       "      <td>1</td>\n",
       "      <td>TP73</td>\n",
       "      <td>A</td>\n",
       "    </tr>\n",
       "    <tr>\n",
       "      <th>...</th>\n",
       "      <td>...</td>\n",
       "      <td>...</td>\n",
       "      <td>...</td>\n",
       "      <td>...</td>\n",
       "    </tr>\n",
       "    <tr>\n",
       "      <th>130650</th>\n",
       "      <td>ZSCAN16</td>\n",
       "      <td>1</td>\n",
       "      <td>SLC25A38</td>\n",
       "      <td>A</td>\n",
       "    </tr>\n",
       "    <tr>\n",
       "      <th>130651</th>\n",
       "      <td>ZSCAN16</td>\n",
       "      <td>1</td>\n",
       "      <td>ZNF446</td>\n",
       "      <td>A</td>\n",
       "    </tr>\n",
       "    <tr>\n",
       "      <th>130652</th>\n",
       "      <td>ZSCAN21</td>\n",
       "      <td>1</td>\n",
       "      <td>SCAND1</td>\n",
       "      <td>A</td>\n",
       "    </tr>\n",
       "    <tr>\n",
       "      <th>130653</th>\n",
       "      <td>ZSCAN4</td>\n",
       "      <td>1</td>\n",
       "      <td>SMAD1</td>\n",
       "      <td>A</td>\n",
       "    </tr>\n",
       "    <tr>\n",
       "      <th>130654</th>\n",
       "      <td>ZSCAN4</td>\n",
       "      <td>1</td>\n",
       "      <td>SMAD9</td>\n",
       "      <td>A</td>\n",
       "    </tr>\n",
       "  </tbody>\n",
       "</table>\n",
       "<p>130655 rows × 4 columns</p>\n",
       "</div>"
      ],
      "text/plain": [
       "         source  weight    target confidence\n",
       "0          USF1       1    S100A6          A\n",
       "1          USF1       1     DUSP1          A\n",
       "2          USF1       1       C4A          A\n",
       "3          USF1       1     ABCA1          A\n",
       "4          TP53       1      TP73          A\n",
       "...         ...     ...       ...        ...\n",
       "130650  ZSCAN16       1  SLC25A38          A\n",
       "130651  ZSCAN16       1    ZNF446          A\n",
       "130652  ZSCAN21       1    SCAND1          A\n",
       "130653   ZSCAN4       1     SMAD1          A\n",
       "130654   ZSCAN4       1     SMAD9          A\n",
       "\n",
       "[130655 rows x 4 columns]"
      ]
     },
     "execution_count": 12,
     "metadata": {},
     "output_type": "execute_result"
    }
   ],
   "source": [
    "regnet"
   ]
  },
  {
   "cell_type": "code",
   "execution_count": 10,
   "id": "193ed24e-bedf-4a8b-97b0-89e044b7fcfb",
   "metadata": {},
   "outputs": [
    {
     "name": "stdout",
     "output_type": "stream",
     "text": [
      "50 features of mat are empty, they will be removed.\n",
      "Running mlm on mat with 388 samples and 21935 targets for 434 sources.\n"
     ]
    },
    {
     "ename": "LinAlgError",
     "evalue": "Singular matrix",
     "output_type": "error",
     "traceback": [
      "\u001b[0;31m---------------------------------------------------------------------------\u001b[0m",
      "\u001b[0;31mLinAlgError\u001b[0m                               Traceback (most recent call last)",
      "Cell \u001b[0;32mIn [10], line 1\u001b[0m\n\u001b[0;32m----> 1\u001b[0m dc\u001b[38;5;241m.\u001b[39mrun_mlm(mat, net\u001b[38;5;241m=\u001b[39mregnet, source\u001b[38;5;241m=\u001b[39m\u001b[38;5;124m'\u001b[39m\u001b[38;5;124msource\u001b[39m\u001b[38;5;124m'\u001b[39m, target\u001b[38;5;241m=\u001b[39m\u001b[38;5;124m'\u001b[39m\u001b[38;5;124mtarget\u001b[39m\u001b[38;5;124m'\u001b[39m, weight\u001b[38;5;241m=\u001b[39m\u001b[38;5;124m'\u001b[39m\u001b[38;5;124mweight\u001b[39m\u001b[38;5;124m'\u001b[39m, verbose\u001b[38;5;241m=\u001b[39m\u001b[38;5;28;01mTrue\u001b[39;00m, min_n\u001b[38;5;241m=\u001b[39m\u001b[38;5;241m5\u001b[39m)\n",
      "File \u001b[0;32m~/miniconda3/envs/decoupler/lib/python3.10/site-packages/decoupler/method_mlm.py:121\u001b[0m, in \u001b[0;36mrun_mlm\u001b[0;34m(mat, net, source, target, weight, batch_size, min_n, verbose, use_raw)\u001b[0m\n\u001b[1;32m    118\u001b[0m     \u001b[38;5;28mprint\u001b[39m(\u001b[38;5;124m'\u001b[39m\u001b[38;5;124mRunning mlm on mat with \u001b[39m\u001b[38;5;132;01m{0}\u001b[39;00m\u001b[38;5;124m samples and \u001b[39m\u001b[38;5;132;01m{1}\u001b[39;00m\u001b[38;5;124m targets for \u001b[39m\u001b[38;5;132;01m{2}\u001b[39;00m\u001b[38;5;124m sources.\u001b[39m\u001b[38;5;124m'\u001b[39m\u001b[38;5;241m.\u001b[39mformat(m\u001b[38;5;241m.\u001b[39mshape[\u001b[38;5;241m0\u001b[39m], \u001b[38;5;28mlen\u001b[39m(c), net\u001b[38;5;241m.\u001b[39mshape[\u001b[38;5;241m1\u001b[39m]))\n\u001b[1;32m    120\u001b[0m \u001b[38;5;66;03m# Run MLM\u001b[39;00m\n\u001b[0;32m--> 121\u001b[0m estimate, pvals \u001b[38;5;241m=\u001b[39m \u001b[43mmlm\u001b[49m\u001b[43m(\u001b[49m\u001b[43mm\u001b[49m\u001b[43m,\u001b[49m\u001b[43m \u001b[49m\u001b[43mnet\u001b[49m\u001b[43m,\u001b[49m\u001b[43m \u001b[49m\u001b[43mbatch_size\u001b[49m\u001b[38;5;241;43m=\u001b[39;49m\u001b[43mbatch_size\u001b[49m\u001b[43m,\u001b[49m\u001b[43m \u001b[49m\u001b[43mverbose\u001b[49m\u001b[38;5;241;43m=\u001b[39;49m\u001b[43mverbose\u001b[49m\u001b[43m)\u001b[49m\n\u001b[1;32m    123\u001b[0m \u001b[38;5;66;03m# Transform to df\u001b[39;00m\n\u001b[1;32m    124\u001b[0m estimate \u001b[38;5;241m=\u001b[39m pd\u001b[38;5;241m.\u001b[39mDataFrame(estimate, index\u001b[38;5;241m=\u001b[39mr, columns\u001b[38;5;241m=\u001b[39msources)\n",
      "File \u001b[0;32m~/miniconda3/envs/decoupler/lib/python3.10/site-packages/decoupler/method_mlm.py:48\u001b[0m, in \u001b[0;36mmlm\u001b[0;34m(mat, net, batch_size, verbose)\u001b[0m\n\u001b[1;32m     45\u001b[0m net \u001b[38;5;241m=\u001b[39m np\u001b[38;5;241m.\u001b[39mcolumn_stack((np\u001b[38;5;241m.\u001b[39mones((n_features, ), dtype\u001b[38;5;241m=\u001b[39mnp\u001b[38;5;241m.\u001b[39mfloat32), net))\n\u001b[1;32m     47\u001b[0m \u001b[38;5;66;03m# Compute inv and df for lm\u001b[39;00m\n\u001b[0;32m---> 48\u001b[0m inv \u001b[38;5;241m=\u001b[39m \u001b[43mnp\u001b[49m\u001b[38;5;241;43m.\u001b[39;49m\u001b[43mlinalg\u001b[49m\u001b[38;5;241;43m.\u001b[39;49m\u001b[43minv\u001b[49m\u001b[43m(\u001b[49m\u001b[43mnp\u001b[49m\u001b[38;5;241;43m.\u001b[39;49m\u001b[43mdot\u001b[49m\u001b[43m(\u001b[49m\u001b[43mnet\u001b[49m\u001b[38;5;241;43m.\u001b[39;49m\u001b[43mT\u001b[49m\u001b[43m,\u001b[49m\u001b[43m \u001b[49m\u001b[43mnet\u001b[49m\u001b[43m)\u001b[49m\u001b[43m)\u001b[49m\n\u001b[1;32m     49\u001b[0m df \u001b[38;5;241m=\u001b[39m n_features \u001b[38;5;241m-\u001b[39m n_fsets\n\u001b[1;32m     51\u001b[0m \u001b[38;5;66;03m# Init empty acts\u001b[39;00m\n",
      "File \u001b[0;32m<__array_function__ internals>:180\u001b[0m, in \u001b[0;36minv\u001b[0;34m(*args, **kwargs)\u001b[0m\n",
      "File \u001b[0;32m~/miniconda3/envs/decoupler/lib/python3.10/site-packages/numpy/linalg/linalg.py:552\u001b[0m, in \u001b[0;36minv\u001b[0;34m(a)\u001b[0m\n\u001b[1;32m    550\u001b[0m signature \u001b[38;5;241m=\u001b[39m \u001b[38;5;124m'\u001b[39m\u001b[38;5;124mD->D\u001b[39m\u001b[38;5;124m'\u001b[39m \u001b[38;5;28;01mif\u001b[39;00m isComplexType(t) \u001b[38;5;28;01melse\u001b[39;00m \u001b[38;5;124m'\u001b[39m\u001b[38;5;124md->d\u001b[39m\u001b[38;5;124m'\u001b[39m\n\u001b[1;32m    551\u001b[0m extobj \u001b[38;5;241m=\u001b[39m get_linalg_error_extobj(_raise_linalgerror_singular)\n\u001b[0;32m--> 552\u001b[0m ainv \u001b[38;5;241m=\u001b[39m \u001b[43m_umath_linalg\u001b[49m\u001b[38;5;241;43m.\u001b[39;49m\u001b[43minv\u001b[49m\u001b[43m(\u001b[49m\u001b[43ma\u001b[49m\u001b[43m,\u001b[49m\u001b[43m \u001b[49m\u001b[43msignature\u001b[49m\u001b[38;5;241;43m=\u001b[39;49m\u001b[43msignature\u001b[49m\u001b[43m,\u001b[49m\u001b[43m \u001b[49m\u001b[43mextobj\u001b[49m\u001b[38;5;241;43m=\u001b[39;49m\u001b[43mextobj\u001b[49m\u001b[43m)\u001b[49m\n\u001b[1;32m    553\u001b[0m \u001b[38;5;28;01mreturn\u001b[39;00m wrap(ainv\u001b[38;5;241m.\u001b[39mastype(result_t, copy\u001b[38;5;241m=\u001b[39m\u001b[38;5;28;01mFalse\u001b[39;00m))\n",
      "File \u001b[0;32m~/miniconda3/envs/decoupler/lib/python3.10/site-packages/numpy/linalg/linalg.py:89\u001b[0m, in \u001b[0;36m_raise_linalgerror_singular\u001b[0;34m(err, flag)\u001b[0m\n\u001b[1;32m     88\u001b[0m \u001b[38;5;28;01mdef\u001b[39;00m \u001b[38;5;21m_raise_linalgerror_singular\u001b[39m(err, flag):\n\u001b[0;32m---> 89\u001b[0m     \u001b[38;5;28;01mraise\u001b[39;00m LinAlgError(\u001b[38;5;124m\"\u001b[39m\u001b[38;5;124mSingular matrix\u001b[39m\u001b[38;5;124m\"\u001b[39m)\n",
      "\u001b[0;31mLinAlgError\u001b[0m: Singular matrix"
     ]
    }
   ],
   "source": [
    "dc.run_mlm(mat, net=regnet, source='source', target='target', weight='weight', verbose=True, min_n=5)"
   ]
  },
  {
   "cell_type": "code",
   "execution_count": 11,
   "id": "6b99c167-a724-4efa-9045-eb606c029ee5",
   "metadata": {},
   "outputs": [
    {
     "name": "stdout",
     "output_type": "stream",
     "text": [
      "50 features of mat are empty, they will be removed.\n",
      "Running mlm on mat with 388 samples and 21935 targets for 434 sources.\n"
     ]
    },
    {
     "ename": "LinAlgError",
     "evalue": "Singular matrix",
     "output_type": "error",
     "traceback": [
      "\u001b[0;31m---------------------------------------------------------------------------\u001b[0m",
      "\u001b[0;31mLinAlgError\u001b[0m                               Traceback (most recent call last)",
      "Cell \u001b[0;32mIn [11], line 1\u001b[0m\n\u001b[0;32m----> 1\u001b[0m res \u001b[38;5;241m=\u001b[39m dc\u001b[38;5;241m.\u001b[39mdecouple(mat, net\u001b[38;5;241m=\u001b[39mregnet, source\u001b[38;5;241m=\u001b[39m\u001b[38;5;124m'\u001b[39m\u001b[38;5;124msource\u001b[39m\u001b[38;5;124m'\u001b[39m, target\u001b[38;5;241m=\u001b[39m\u001b[38;5;124m'\u001b[39m\u001b[38;5;124mtarget\u001b[39m\u001b[38;5;124m'\u001b[39m, weight\u001b[38;5;241m=\u001b[39m\u001b[38;5;124m'\u001b[39m\u001b[38;5;124mweight\u001b[39m\u001b[38;5;124m'\u001b[39m, verbose\u001b[38;5;241m=\u001b[39m\u001b[38;5;28;01mTrue\u001b[39;00m, min_n\u001b[38;5;241m=\u001b[39m\u001b[38;5;241m5\u001b[39m)\n",
      "File \u001b[0;32m~/miniconda3/envs/decoupler/lib/python3.10/site-packages/decoupler/decouple.py:141\u001b[0m, in \u001b[0;36mdecouple\u001b[0;34m(mat, net, source, target, weight, methods, args, consensus, cns_metds, min_n, verbose, use_raw)\u001b[0m\n\u001b[1;32m    138\u001b[0m             \u001b[38;5;28mprint\u001b[39m(\u001b[38;5;124m'\u001b[39m\u001b[38;5;124mMethod name \u001b[39m\u001b[38;5;132;01m{0}\u001b[39;00m\u001b[38;5;124m in args not found in methods, will be ignored.\u001b[39m\u001b[38;5;124m'\u001b[39m\u001b[38;5;241m.\u001b[39mformat(methd))\n\u001b[1;32m    140\u001b[0m \u001b[38;5;66;03m# Run methods\u001b[39;00m\n\u001b[0;32m--> 141\u001b[0m results \u001b[38;5;241m=\u001b[39m \u001b[43mrun_methods\u001b[49m\u001b[43m(\u001b[49m\u001b[43mmat\u001b[49m\u001b[43m,\u001b[49m\u001b[43m \u001b[49m\u001b[43mnet\u001b[49m\u001b[43m,\u001b[49m\u001b[43m \u001b[49m\u001b[43msource\u001b[49m\u001b[43m,\u001b[49m\u001b[43m \u001b[49m\u001b[43mtarget\u001b[49m\u001b[43m,\u001b[49m\u001b[43m \u001b[49m\u001b[43mweight\u001b[49m\u001b[43m,\u001b[49m\u001b[43m \u001b[49m\u001b[43mmethods\u001b[49m\u001b[43m,\u001b[49m\u001b[43m \u001b[49m\u001b[43margs\u001b[49m\u001b[43m,\u001b[49m\u001b[43m \u001b[49m\u001b[43mmin_n\u001b[49m\u001b[43m,\u001b[49m\u001b[43m \u001b[49m\u001b[43mverbose\u001b[49m\u001b[43m,\u001b[49m\u001b[43m \u001b[49m\u001b[43muse_raw\u001b[49m\u001b[43m)\u001b[49m\n\u001b[1;32m    143\u001b[0m \u001b[38;5;66;03m# Run consensus score\u001b[39;00m\n\u001b[1;32m    144\u001b[0m \u001b[38;5;28;01mif\u001b[39;00m consensus:\n",
      "File \u001b[0;32m~/miniconda3/envs/decoupler/lib/python3.10/site-packages/decoupler/decouple.py:49\u001b[0m, in \u001b[0;36mrun_methods\u001b[0;34m(mat, net, source, target, weight, methods, args, min_n, verbose, use_raw)\u001b[0m\n\u001b[1;32m     47\u001b[0m \u001b[38;5;66;03m# Run method\u001b[39;00m\n\u001b[1;32m     48\u001b[0m \u001b[38;5;28;01mif\u001b[39;00m is_weighted:\n\u001b[0;32m---> 49\u001b[0m     res \u001b[38;5;241m=\u001b[39m \u001b[43mf\u001b[49m\u001b[43m(\u001b[49m\u001b[43mmat\u001b[49m\u001b[38;5;241;43m=\u001b[39;49m\u001b[43mmat\u001b[49m\u001b[43m,\u001b[49m\u001b[43m \u001b[49m\u001b[43mnet\u001b[49m\u001b[38;5;241;43m=\u001b[39;49m\u001b[43mnet\u001b[49m\u001b[43m,\u001b[49m\u001b[43m \u001b[49m\u001b[43msource\u001b[49m\u001b[38;5;241;43m=\u001b[39;49m\u001b[43msource\u001b[49m\u001b[43m,\u001b[49m\u001b[43m \u001b[49m\u001b[43mtarget\u001b[49m\u001b[38;5;241;43m=\u001b[39;49m\u001b[43mtarget\u001b[49m\u001b[43m,\u001b[49m\u001b[43m \u001b[49m\u001b[43mweight\u001b[49m\u001b[38;5;241;43m=\u001b[39;49m\u001b[43mweight\u001b[49m\u001b[43m,\u001b[49m\u001b[43m \u001b[49m\u001b[38;5;241;43m*\u001b[39;49m\u001b[38;5;241;43m*\u001b[39;49m\u001b[43ma\u001b[49m\u001b[43m)\u001b[49m\n\u001b[1;32m     50\u001b[0m \u001b[38;5;28;01melse\u001b[39;00m:\n\u001b[1;32m     51\u001b[0m     res \u001b[38;5;241m=\u001b[39m f(mat\u001b[38;5;241m=\u001b[39mmat, net\u001b[38;5;241m=\u001b[39mnet, source\u001b[38;5;241m=\u001b[39msource, target\u001b[38;5;241m=\u001b[39mtarget, \u001b[38;5;241m*\u001b[39m\u001b[38;5;241m*\u001b[39ma)\n",
      "File \u001b[0;32m~/miniconda3/envs/decoupler/lib/python3.10/site-packages/decoupler/method_mlm.py:121\u001b[0m, in \u001b[0;36mrun_mlm\u001b[0;34m(mat, net, source, target, weight, batch_size, min_n, verbose, use_raw)\u001b[0m\n\u001b[1;32m    118\u001b[0m     \u001b[38;5;28mprint\u001b[39m(\u001b[38;5;124m'\u001b[39m\u001b[38;5;124mRunning mlm on mat with \u001b[39m\u001b[38;5;132;01m{0}\u001b[39;00m\u001b[38;5;124m samples and \u001b[39m\u001b[38;5;132;01m{1}\u001b[39;00m\u001b[38;5;124m targets for \u001b[39m\u001b[38;5;132;01m{2}\u001b[39;00m\u001b[38;5;124m sources.\u001b[39m\u001b[38;5;124m'\u001b[39m\u001b[38;5;241m.\u001b[39mformat(m\u001b[38;5;241m.\u001b[39mshape[\u001b[38;5;241m0\u001b[39m], \u001b[38;5;28mlen\u001b[39m(c), net\u001b[38;5;241m.\u001b[39mshape[\u001b[38;5;241m1\u001b[39m]))\n\u001b[1;32m    120\u001b[0m \u001b[38;5;66;03m# Run MLM\u001b[39;00m\n\u001b[0;32m--> 121\u001b[0m estimate, pvals \u001b[38;5;241m=\u001b[39m \u001b[43mmlm\u001b[49m\u001b[43m(\u001b[49m\u001b[43mm\u001b[49m\u001b[43m,\u001b[49m\u001b[43m \u001b[49m\u001b[43mnet\u001b[49m\u001b[43m,\u001b[49m\u001b[43m \u001b[49m\u001b[43mbatch_size\u001b[49m\u001b[38;5;241;43m=\u001b[39;49m\u001b[43mbatch_size\u001b[49m\u001b[43m,\u001b[49m\u001b[43m \u001b[49m\u001b[43mverbose\u001b[49m\u001b[38;5;241;43m=\u001b[39;49m\u001b[43mverbose\u001b[49m\u001b[43m)\u001b[49m\n\u001b[1;32m    123\u001b[0m \u001b[38;5;66;03m# Transform to df\u001b[39;00m\n\u001b[1;32m    124\u001b[0m estimate \u001b[38;5;241m=\u001b[39m pd\u001b[38;5;241m.\u001b[39mDataFrame(estimate, index\u001b[38;5;241m=\u001b[39mr, columns\u001b[38;5;241m=\u001b[39msources)\n",
      "File \u001b[0;32m~/miniconda3/envs/decoupler/lib/python3.10/site-packages/decoupler/method_mlm.py:48\u001b[0m, in \u001b[0;36mmlm\u001b[0;34m(mat, net, batch_size, verbose)\u001b[0m\n\u001b[1;32m     45\u001b[0m net \u001b[38;5;241m=\u001b[39m np\u001b[38;5;241m.\u001b[39mcolumn_stack((np\u001b[38;5;241m.\u001b[39mones((n_features, ), dtype\u001b[38;5;241m=\u001b[39mnp\u001b[38;5;241m.\u001b[39mfloat32), net))\n\u001b[1;32m     47\u001b[0m \u001b[38;5;66;03m# Compute inv and df for lm\u001b[39;00m\n\u001b[0;32m---> 48\u001b[0m inv \u001b[38;5;241m=\u001b[39m \u001b[43mnp\u001b[49m\u001b[38;5;241;43m.\u001b[39;49m\u001b[43mlinalg\u001b[49m\u001b[38;5;241;43m.\u001b[39;49m\u001b[43minv\u001b[49m\u001b[43m(\u001b[49m\u001b[43mnp\u001b[49m\u001b[38;5;241;43m.\u001b[39;49m\u001b[43mdot\u001b[49m\u001b[43m(\u001b[49m\u001b[43mnet\u001b[49m\u001b[38;5;241;43m.\u001b[39;49m\u001b[43mT\u001b[49m\u001b[43m,\u001b[49m\u001b[43m \u001b[49m\u001b[43mnet\u001b[49m\u001b[43m)\u001b[49m\u001b[43m)\u001b[49m\n\u001b[1;32m     49\u001b[0m df \u001b[38;5;241m=\u001b[39m n_features \u001b[38;5;241m-\u001b[39m n_fsets\n\u001b[1;32m     51\u001b[0m \u001b[38;5;66;03m# Init empty acts\u001b[39;00m\n",
      "File \u001b[0;32m<__array_function__ internals>:180\u001b[0m, in \u001b[0;36minv\u001b[0;34m(*args, **kwargs)\u001b[0m\n",
      "File \u001b[0;32m~/miniconda3/envs/decoupler/lib/python3.10/site-packages/numpy/linalg/linalg.py:552\u001b[0m, in \u001b[0;36minv\u001b[0;34m(a)\u001b[0m\n\u001b[1;32m    550\u001b[0m signature \u001b[38;5;241m=\u001b[39m \u001b[38;5;124m'\u001b[39m\u001b[38;5;124mD->D\u001b[39m\u001b[38;5;124m'\u001b[39m \u001b[38;5;28;01mif\u001b[39;00m isComplexType(t) \u001b[38;5;28;01melse\u001b[39;00m \u001b[38;5;124m'\u001b[39m\u001b[38;5;124md->d\u001b[39m\u001b[38;5;124m'\u001b[39m\n\u001b[1;32m    551\u001b[0m extobj \u001b[38;5;241m=\u001b[39m get_linalg_error_extobj(_raise_linalgerror_singular)\n\u001b[0;32m--> 552\u001b[0m ainv \u001b[38;5;241m=\u001b[39m \u001b[43m_umath_linalg\u001b[49m\u001b[38;5;241;43m.\u001b[39;49m\u001b[43minv\u001b[49m\u001b[43m(\u001b[49m\u001b[43ma\u001b[49m\u001b[43m,\u001b[49m\u001b[43m \u001b[49m\u001b[43msignature\u001b[49m\u001b[38;5;241;43m=\u001b[39;49m\u001b[43msignature\u001b[49m\u001b[43m,\u001b[49m\u001b[43m \u001b[49m\u001b[43mextobj\u001b[49m\u001b[38;5;241;43m=\u001b[39;49m\u001b[43mextobj\u001b[49m\u001b[43m)\u001b[49m\n\u001b[1;32m    553\u001b[0m \u001b[38;5;28;01mreturn\u001b[39;00m wrap(ainv\u001b[38;5;241m.\u001b[39mastype(result_t, copy\u001b[38;5;241m=\u001b[39m\u001b[38;5;28;01mFalse\u001b[39;00m))\n",
      "File \u001b[0;32m~/miniconda3/envs/decoupler/lib/python3.10/site-packages/numpy/linalg/linalg.py:89\u001b[0m, in \u001b[0;36m_raise_linalgerror_singular\u001b[0;34m(err, flag)\u001b[0m\n\u001b[1;32m     88\u001b[0m \u001b[38;5;28;01mdef\u001b[39;00m \u001b[38;5;21m_raise_linalgerror_singular\u001b[39m(err, flag):\n\u001b[0;32m---> 89\u001b[0m     \u001b[38;5;28;01mraise\u001b[39;00m LinAlgError(\u001b[38;5;124m\"\u001b[39m\u001b[38;5;124mSingular matrix\u001b[39m\u001b[38;5;124m\"\u001b[39m)\n",
      "\u001b[0;31mLinAlgError\u001b[0m: Singular matrix"
     ]
    }
   ],
   "source": [
    "res = dc.decouple(mat, net=regnet, source='source', target='target', weight='weight', verbose=True, min_n=5)"
   ]
  },
  {
   "cell_type": "code",
   "execution_count": null,
   "id": "76209db4-d5c2-421b-b680-e199d0554e75",
   "metadata": {},
   "outputs": [],
   "source": [
    "chea3_archs4 = chea3[chea3['confidence'] == 'ARCHS4_Coexpression']\n",
    "chea3_encode = chea3[chea3['confidence'] == 'ENCODE_ChIP-seq']\n",
    "chea3_enrich = chea3[chea3['confidence'] == 'Enrichr_Queries']\n",
    "chea3_GTEx = chea3[chea3['confidence'] == 'GTEx_Coexpression']\n",
    "chea3_lit = chea3[chea3['confidence'] == 'Literature_ChIP-seq']\n",
    "chea3_remap = chea3[chea3['confidence'] == 'ReMap_ChIP-seq']"
   ]
  },
  {
   "cell_type": "code",
   "execution_count": 7,
   "id": "b06746b8-7d6e-440f-bec2-10304a87d31c",
   "metadata": {},
   "outputs": [
    {
     "name": "stdout",
     "output_type": "stream",
     "text": [
      "Running mlm on mat with 907 samples and 21985 targets for 297 sources.\n"
     ]
    },
    {
     "name": "stderr",
     "output_type": "stream",
     "text": [
      "100%|█████████████████████████████████████████████| 1/1 [00:00<00:00,  1.31it/s]\n"
     ]
    },
    {
     "name": "stdout",
     "output_type": "stream",
     "text": [
      "Running ulm on mat with 907 samples and 21985 targets for 297 sources.\n",
      "Running wsum on mat with 907 samples and 21985 targets for 297 sources.\n",
      "Infering activities on 1 batches.\n"
     ]
    },
    {
     "name": "stderr",
     "output_type": "stream",
     "text": [
      "100%|█████████████████████████████████████████████| 1/1 [01:29<00:00, 89.25s/it]\n"
     ]
    },
    {
     "name": "stdout",
     "output_type": "stream",
     "text": [
      "Running mlm on mat with 907 samples and 21985 targets for 702 sources.\n"
     ]
    },
    {
     "name": "stderr",
     "output_type": "stream",
     "text": [
      "100%|█████████████████████████████████████████████| 1/1 [00:01<00:00,  1.66s/it]\n"
     ]
    },
    {
     "name": "stdout",
     "output_type": "stream",
     "text": [
      "Running ulm on mat with 907 samples and 21985 targets for 702 sources.\n",
      "Running wsum on mat with 907 samples and 21985 targets for 702 sources.\n",
      "Infering activities on 1 batches.\n"
     ]
    },
    {
     "name": "stderr",
     "output_type": "stream",
     "text": [
      "100%|████████████████████████████████████████████| 1/1 [02:44<00:00, 164.70s/it]\n"
     ]
    },
    {
     "name": "stdout",
     "output_type": "stream",
     "text": [
      "Running mlm on mat with 907 samples and 21985 targets for 702 sources.\n"
     ]
    },
    {
     "name": "stderr",
     "output_type": "stream",
     "text": [
      "100%|█████████████████████████████████████████████| 1/1 [00:01<00:00,  1.76s/it]\n"
     ]
    },
    {
     "name": "stdout",
     "output_type": "stream",
     "text": [
      "Running ulm on mat with 907 samples and 21985 targets for 702 sources.\n",
      "Running wsum on mat with 907 samples and 21985 targets for 702 sources.\n",
      "Infering activities on 1 batches.\n"
     ]
    },
    {
     "name": "stderr",
     "output_type": "stream",
     "text": [
      "100%|████████████████████████████████████████████| 1/1 [02:47<00:00, 167.61s/it]\n"
     ]
    },
    {
     "name": "stdout",
     "output_type": "stream",
     "text": [
      "Running mlm on mat with 907 samples and 21985 targets for 699 sources.\n"
     ]
    },
    {
     "name": "stderr",
     "output_type": "stream",
     "text": [
      "100%|█████████████████████████████████████████████| 1/1 [00:01<00:00,  1.75s/it]\n"
     ]
    },
    {
     "name": "stdout",
     "output_type": "stream",
     "text": [
      "Running ulm on mat with 907 samples and 21985 targets for 699 sources.\n",
      "Running wsum on mat with 907 samples and 21985 targets for 699 sources.\n",
      "Infering activities on 1 batches.\n"
     ]
    },
    {
     "name": "stderr",
     "output_type": "stream",
     "text": [
      "100%|████████████████████████████████████████████| 1/1 [03:07<00:00, 187.88s/it]\n"
     ]
    }
   ],
   "source": [
    "results_doro = dc.decouple(mat, net=doro_ABC, source='source', target='target', weight='weight', verbose=True, min_n=5)\n",
    "results_collecTRI_signed = dc.decouple(mat, net=collecTRI_signed, source='source', target='target', weight='weight', verbose=True, min_n=5)\n",
    "results_collecTRI_agnostic = dc.decouple(mat, net=collecTRI_agnostic, source='source', target='target', weight='weight', verbose=True, min_n=5)\n",
    "results_collecTRI_rand = dc.decouple(mat, net=collecTRI_rand, source='source', target='target', weight='weight', verbose=True, min_n=5)"
   ]
  },
  {
   "cell_type": "code",
   "execution_count": 8,
   "id": "4f988c1b-6a84-4980-8a78-16345bef0300",
   "metadata": {},
   "outputs": [],
   "source": [
    "pd.DataFrame.to_csv(results_doro['consensus_estimate'], '../output/040722/decoupler/doro_consensus.csv')\n",
    "pd.DataFrame.to_csv(results_collecTRI_signed['consensus_estimate'], '../output/040722/decoupler/collecTRI_signed_consensus.csv')\n",
    "pd.DataFrame.to_csv(results_collecTRI_agnostic['consensus_estimate'], '../output/040722/decoupler/collecTRI_agnostic_consensus.csv')\n",
    "pd.DataFrame.to_csv(results_collecTRI_rand['consensus_estimate'], '../output/040722/decoupler/collecTRI_rand_consensus.csv')"
   ]
  },
  {
   "cell_type": "code",
   "execution_count": 6,
   "id": "e201b8dd-8091-412e-90c5-3cf9b38e3326",
   "metadata": {},
   "outputs": [],
   "source": [
    "consensus_signed_weighted_res = results_signed_weighted_res['consensus_estimate']\n",
    "consensus_agnostic_res = results_agnostic_res['consensus_estimate']\n",
    "consensus_signed_res = results_signed_res['consensus_estimate']\n",
    "consensus_weighted_res = results_weighted_res['consensus_estimate']"
   ]
  },
  {
   "cell_type": "code",
   "execution_count": 38,
   "id": "1966fdbf-c23f-4722-827f-9bc6c441ce1f",
   "metadata": {},
   "outputs": [],
   "source": [
    "pd.DataFrame.to_csv(consensus_collectri, '../output/consensus_collectri.csv')\n",
    "pd.DataFrame.to_csv(consensus_doro, '../output/consensus_doro.csv')"
   ]
  },
  {
   "cell_type": "code",
   "execution_count": 17,
   "id": "2987fedd-3562-4c30-925e-6a49d22b47b4",
   "metadata": {},
   "outputs": [],
   "source": [
    "pd.DataFrame.to_csv(results_signed_weighted_res[0], '../output/040722/decoupler/mean_signed_weighted_res.csv')\n",
    "pd.DataFrame.to_csv(results_agnostic_res[0], '../output/040722/decoupler/mean_agnostic_res.csv')\n",
    "pd.DataFrame.to_csv(results_signed_res[0], '../output/040722/decoupler/mean_signed_res.csv')\n",
    "pd.DataFrame.to_csv(results_weighted_res[0], '../output/040722/decoupler/mean_weighted_res.csv')"
   ]
  }
 ],
 "metadata": {
  "kernelspec": {
   "display_name": "decoupler",
   "language": "python",
   "name": "decoupler"
  },
  "language_info": {
   "codemirror_mode": {
    "name": "ipython",
    "version": 3
   },
   "file_extension": ".py",
   "mimetype": "text/x-python",
   "name": "python",
   "nbconvert_exporter": "python",
   "pygments_lexer": "ipython3",
   "version": "3.10.4"
  }
 },
 "nbformat": 4,
 "nbformat_minor": 5
}
